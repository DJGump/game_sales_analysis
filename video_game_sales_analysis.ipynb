{
 "cells": [
  {
   "cell_type": "code",
   "execution_count": 1,
   "metadata": {},
   "outputs": [],
   "source": [
    "#!pip install nb_black"
   ]
  },
  {
   "cell_type": "code",
   "execution_count": 2,
   "metadata": {},
   "outputs": [
    {
     "data": {
      "application/javascript": [
       "\n",
       "            setTimeout(function() {\n",
       "                var nbb_cell_id = 2;\n",
       "                var nbb_unformatted_code = \"import pandas as pd\\nimport numpy as np\\nfrom scipy import stats\\nfrom statsmodels.graphics.gofplots import qqplot\\nfrom statsmodels.stats.multitest import multipletests\\nimport seaborn as sns\\nimport matplotlib.pyplot as plt\\n\\n%matplotlib inline\\n%reload_ext nb_black\";\n",
       "                var nbb_formatted_code = \"import pandas as pd\\nimport numpy as np\\nfrom scipy import stats\\nfrom statsmodels.graphics.gofplots import qqplot\\nfrom statsmodels.stats.multitest import multipletests\\nimport seaborn as sns\\nimport matplotlib.pyplot as plt\\n\\n%matplotlib inline\\n%reload_ext nb_black\";\n",
       "                var nbb_cells = Jupyter.notebook.get_cells();\n",
       "                for (var i = 0; i < nbb_cells.length; ++i) {\n",
       "                    if (nbb_cells[i].input_prompt_number == nbb_cell_id) {\n",
       "                        if (nbb_cells[i].get_text() == nbb_unformatted_code) {\n",
       "                             nbb_cells[i].set_text(nbb_formatted_code);\n",
       "                        }\n",
       "                        break;\n",
       "                    }\n",
       "                }\n",
       "            }, 500);\n",
       "            "
      ],
      "text/plain": [
       "<IPython.core.display.Javascript object>"
      ]
     },
     "metadata": {},
     "output_type": "display_data"
    }
   ],
   "source": [
    "import pandas as pd\n",
    "import numpy as np\n",
    "from scipy import stats\n",
    "from statsmodels.graphics.gofplots import qqplot\n",
    "from statsmodels.stats.multitest import multipletests\n",
    "import seaborn as sns\n",
    "import matplotlib.pyplot as plt\n",
    "\n",
    "%matplotlib inline\n",
    "%reload_ext nb_black"
   ]
  },
  {
   "cell_type": "code",
   "execution_count": 3,
   "metadata": {},
   "outputs": [
    {
     "data": {
      "application/javascript": [
       "\n",
       "            setTimeout(function() {\n",
       "                var nbb_cell_id = 3;\n",
       "                var nbb_unformatted_code = \"data_path = \\\"data/vgsales.csv\\\"\\nvg_sales = pd.read_csv(data_path)\";\n",
       "                var nbb_formatted_code = \"data_path = \\\"data/vgsales.csv\\\"\\nvg_sales = pd.read_csv(data_path)\";\n",
       "                var nbb_cells = Jupyter.notebook.get_cells();\n",
       "                for (var i = 0; i < nbb_cells.length; ++i) {\n",
       "                    if (nbb_cells[i].input_prompt_number == nbb_cell_id) {\n",
       "                        if (nbb_cells[i].get_text() == nbb_unformatted_code) {\n",
       "                             nbb_cells[i].set_text(nbb_formatted_code);\n",
       "                        }\n",
       "                        break;\n",
       "                    }\n",
       "                }\n",
       "            }, 500);\n",
       "            "
      ],
      "text/plain": [
       "<IPython.core.display.Javascript object>"
      ]
     },
     "metadata": {},
     "output_type": "display_data"
    }
   ],
   "source": [
    "data_path = \"data/vgsales.csv\"\n",
    "vg_sales = pd.read_csv(data_path)"
   ]
  },
  {
   "cell_type": "markdown",
   "metadata": {},
   "source": [
    "For inflation, I’m sure there’s a table out there of price levels paired with their years, then just divide the price by the price level in your table\n",
    "\n",
    "\n",
    "\n",
    "Possible research questions\n",
    "\n",
    "    1. Is there a significant difference in the average number of units sold for different genres of games in NA in the 2000's and 2010's?\n",
    "    2. Is there a significant difference in the average number of units sold per game in the 2000's than in 2010?\n",
    "    3. Is there a relationship between "
   ]
  },
  {
   "cell_type": "markdown",
   "metadata": {},
   "source": [
    "Variables I want\n",
    "* "
   ]
  },
  {
   "cell_type": "code",
   "execution_count": 20,
   "metadata": {},
   "outputs": [
    {
     "name": "stdout",
     "output_type": "stream",
     "text": [
      "<class 'pandas.core.frame.DataFrame'>\n",
      "Int64Index: 16086 entries, 0 to 16597\n",
      "Data columns (total 12 columns):\n",
      " #   Column        Non-Null Count  Dtype  \n",
      "---  ------        --------------  -----  \n",
      " 0   Rank          16086 non-null  int64  \n",
      " 1   Name          16086 non-null  object \n",
      " 2   Platform      16086 non-null  object \n",
      " 3   Year          16086 non-null  float64\n",
      " 4   Genre         16086 non-null  object \n",
      " 5   Publisher     16086 non-null  object \n",
      " 6   NA_Sales      16086 non-null  float64\n",
      " 7   EU_Sales      16086 non-null  float64\n",
      " 8   JP_Sales      16086 non-null  float64\n",
      " 9   Other_Sales   16086 non-null  float64\n",
      " 10  Global_Sales  16086 non-null  float64\n",
      " 11  decade        16086 non-null  object \n",
      "dtypes: float64(6), int64(1), object(5)\n",
      "memory usage: 2.2+ MB\n"
     ]
    },
    {
     "data": {
      "text/html": [
       "<div>\n",
       "<style scoped>\n",
       "    .dataframe tbody tr th:only-of-type {\n",
       "        vertical-align: middle;\n",
       "    }\n",
       "\n",
       "    .dataframe tbody tr th {\n",
       "        vertical-align: top;\n",
       "    }\n",
       "\n",
       "    .dataframe thead th {\n",
       "        text-align: right;\n",
       "    }\n",
       "</style>\n",
       "<table border=\"1\" class=\"dataframe\">\n",
       "  <thead>\n",
       "    <tr style=\"text-align: right;\">\n",
       "      <th></th>\n",
       "      <th>Rank</th>\n",
       "      <th>Name</th>\n",
       "      <th>Platform</th>\n",
       "      <th>Year</th>\n",
       "      <th>Genre</th>\n",
       "      <th>Publisher</th>\n",
       "      <th>NA_Sales</th>\n",
       "      <th>EU_Sales</th>\n",
       "      <th>JP_Sales</th>\n",
       "      <th>Other_Sales</th>\n",
       "      <th>Global_Sales</th>\n",
       "      <th>decade</th>\n",
       "    </tr>\n",
       "  </thead>\n",
       "  <tbody>\n",
       "    <tr>\n",
       "      <th>0</th>\n",
       "      <td>1</td>\n",
       "      <td>Wii Sports</td>\n",
       "      <td>Wii</td>\n",
       "      <td>2006.0</td>\n",
       "      <td>Sports</td>\n",
       "      <td>Nintendo</td>\n",
       "      <td>41.49</td>\n",
       "      <td>29.02</td>\n",
       "      <td>3.77</td>\n",
       "      <td>8.46</td>\n",
       "      <td>82.74</td>\n",
       "      <td>00s</td>\n",
       "    </tr>\n",
       "    <tr>\n",
       "      <th>2</th>\n",
       "      <td>3</td>\n",
       "      <td>Mario Kart Wii</td>\n",
       "      <td>Wii</td>\n",
       "      <td>2008.0</td>\n",
       "      <td>Racing</td>\n",
       "      <td>Nintendo</td>\n",
       "      <td>15.85</td>\n",
       "      <td>12.88</td>\n",
       "      <td>3.79</td>\n",
       "      <td>3.31</td>\n",
       "      <td>35.82</td>\n",
       "      <td>00s</td>\n",
       "    </tr>\n",
       "    <tr>\n",
       "      <th>3</th>\n",
       "      <td>4</td>\n",
       "      <td>Wii Sports Resort</td>\n",
       "      <td>Wii</td>\n",
       "      <td>2009.0</td>\n",
       "      <td>Sports</td>\n",
       "      <td>Nintendo</td>\n",
       "      <td>15.75</td>\n",
       "      <td>11.01</td>\n",
       "      <td>3.28</td>\n",
       "      <td>2.96</td>\n",
       "      <td>33.00</td>\n",
       "      <td>00s</td>\n",
       "    </tr>\n",
       "    <tr>\n",
       "      <th>4</th>\n",
       "      <td>5</td>\n",
       "      <td>Pokemon Red/Pokemon Blue</td>\n",
       "      <td>GB</td>\n",
       "      <td>1996.0</td>\n",
       "      <td>Role-Playing</td>\n",
       "      <td>Nintendo</td>\n",
       "      <td>11.27</td>\n",
       "      <td>8.89</td>\n",
       "      <td>10.22</td>\n",
       "      <td>1.00</td>\n",
       "      <td>31.37</td>\n",
       "      <td>90s</td>\n",
       "    </tr>\n",
       "    <tr>\n",
       "      <th>6</th>\n",
       "      <td>7</td>\n",
       "      <td>New Super Mario Bros.</td>\n",
       "      <td>DS</td>\n",
       "      <td>2006.0</td>\n",
       "      <td>Platform</td>\n",
       "      <td>Nintendo</td>\n",
       "      <td>11.38</td>\n",
       "      <td>9.23</td>\n",
       "      <td>6.50</td>\n",
       "      <td>2.90</td>\n",
       "      <td>30.01</td>\n",
       "      <td>00s</td>\n",
       "    </tr>\n",
       "  </tbody>\n",
       "</table>\n",
       "</div>"
      ],
      "text/plain": [
       "   Rank                      Name Platform    Year         Genre Publisher  \\\n",
       "0     1                Wii Sports      Wii  2006.0        Sports  Nintendo   \n",
       "2     3            Mario Kart Wii      Wii  2008.0        Racing  Nintendo   \n",
       "3     4         Wii Sports Resort      Wii  2009.0        Sports  Nintendo   \n",
       "4     5  Pokemon Red/Pokemon Blue       GB  1996.0  Role-Playing  Nintendo   \n",
       "6     7     New Super Mario Bros.       DS  2006.0      Platform  Nintendo   \n",
       "\n",
       "   NA_Sales  EU_Sales  JP_Sales  Other_Sales  Global_Sales decade  \n",
       "0     41.49     29.02      3.77         8.46         82.74    00s  \n",
       "2     15.85     12.88      3.79         3.31         35.82    00s  \n",
       "3     15.75     11.01      3.28         2.96         33.00    00s  \n",
       "4     11.27      8.89     10.22         1.00         31.37    90s  \n",
       "6     11.38      9.23      6.50         2.90         30.01    00s  "
      ]
     },
     "execution_count": 20,
     "metadata": {},
     "output_type": "execute_result"
    },
    {
     "data": {
      "application/javascript": [
       "\n",
       "            setTimeout(function() {\n",
       "                var nbb_cell_id = 20;\n",
       "                var nbb_unformatted_code = \"vg_sales.info()\\nvg_sales.head()\";\n",
       "                var nbb_formatted_code = \"vg_sales.info()\\nvg_sales.head()\";\n",
       "                var nbb_cells = Jupyter.notebook.get_cells();\n",
       "                for (var i = 0; i < nbb_cells.length; ++i) {\n",
       "                    if (nbb_cells[i].input_prompt_number == nbb_cell_id) {\n",
       "                        if (nbb_cells[i].get_text() == nbb_unformatted_code) {\n",
       "                             nbb_cells[i].set_text(nbb_formatted_code);\n",
       "                        }\n",
       "                        break;\n",
       "                    }\n",
       "                }\n",
       "            }, 500);\n",
       "            "
      ],
      "text/plain": [
       "<IPython.core.display.Javascript object>"
      ]
     },
     "metadata": {},
     "output_type": "display_data"
    }
   ],
   "source": [
    "vg_sales.info()\n",
    "vg_sales.head()"
   ]
  },
  {
   "cell_type": "code",
   "execution_count": 5,
   "metadata": {},
   "outputs": [
    {
     "data": {
      "application/javascript": [
       "\n",
       "            setTimeout(function() {\n",
       "                var nbb_cell_id = 5;\n",
       "                var nbb_unformatted_code = \"vg_sales = vg_sales.dropna()\";\n",
       "                var nbb_formatted_code = \"vg_sales = vg_sales.dropna()\";\n",
       "                var nbb_cells = Jupyter.notebook.get_cells();\n",
       "                for (var i = 0; i < nbb_cells.length; ++i) {\n",
       "                    if (nbb_cells[i].input_prompt_number == nbb_cell_id) {\n",
       "                        if (nbb_cells[i].get_text() == nbb_unformatted_code) {\n",
       "                             nbb_cells[i].set_text(nbb_formatted_code);\n",
       "                        }\n",
       "                        break;\n",
       "                    }\n",
       "                }\n",
       "            }, 500);\n",
       "            "
      ],
      "text/plain": [
       "<IPython.core.display.Javascript object>"
      ]
     },
     "metadata": {},
     "output_type": "display_data"
    }
   ],
   "source": [
    "vg_sales = vg_sales.dropna()"
   ]
  },
  {
   "cell_type": "code",
   "execution_count": 6,
   "metadata": {},
   "outputs": [
    {
     "data": {
      "application/javascript": [
       "\n",
       "            setTimeout(function() {\n",
       "                var nbb_cell_id = 6;\n",
       "                var nbb_unformatted_code = \"eighties = list(range(1980, 1990))\\nnineties = list(range(1990, 2000))\\noughts = list(range(2000, 2010))\\ntens = list(range(2010, 2020))\\ntwenties = list(range(2020, 2030))\\n\\nvg_sales[\\\"decade\\\"] = \\\"80s\\\"\\nvg_sales.loc[vg_sales[\\\"Year\\\"].isin(nineties), \\\"decade\\\"] = \\\"90s\\\"\\nvg_sales.loc[vg_sales[\\\"Year\\\"].isin(oughts), \\\"decade\\\"] = \\\"00s\\\"\\nvg_sales.loc[vg_sales[\\\"Year\\\"].isin(tens), \\\"decade\\\"] = \\\"10s\\\"\\nvg_sales.loc[vg_sales[\\\"Year\\\"].isin(twenties), \\\"decade\\\"] = \\\"20s\\\"\";\n",
       "                var nbb_formatted_code = \"eighties = list(range(1980, 1990))\\nnineties = list(range(1990, 2000))\\noughts = list(range(2000, 2010))\\ntens = list(range(2010, 2020))\\ntwenties = list(range(2020, 2030))\\n\\nvg_sales[\\\"decade\\\"] = \\\"80s\\\"\\nvg_sales.loc[vg_sales[\\\"Year\\\"].isin(nineties), \\\"decade\\\"] = \\\"90s\\\"\\nvg_sales.loc[vg_sales[\\\"Year\\\"].isin(oughts), \\\"decade\\\"] = \\\"00s\\\"\\nvg_sales.loc[vg_sales[\\\"Year\\\"].isin(tens), \\\"decade\\\"] = \\\"10s\\\"\\nvg_sales.loc[vg_sales[\\\"Year\\\"].isin(twenties), \\\"decade\\\"] = \\\"20s\\\"\";\n",
       "                var nbb_cells = Jupyter.notebook.get_cells();\n",
       "                for (var i = 0; i < nbb_cells.length; ++i) {\n",
       "                    if (nbb_cells[i].input_prompt_number == nbb_cell_id) {\n",
       "                        if (nbb_cells[i].get_text() == nbb_unformatted_code) {\n",
       "                             nbb_cells[i].set_text(nbb_formatted_code);\n",
       "                        }\n",
       "                        break;\n",
       "                    }\n",
       "                }\n",
       "            }, 500);\n",
       "            "
      ],
      "text/plain": [
       "<IPython.core.display.Javascript object>"
      ]
     },
     "metadata": {},
     "output_type": "display_data"
    }
   ],
   "source": [
    "eighties = list(range(1980, 1990))\n",
    "nineties = list(range(1990, 2000))\n",
    "oughts = list(range(2000, 2010))\n",
    "tens = list(range(2010, 2020))\n",
    "twenties = list(range(2020, 2030))\n",
    "\n",
    "vg_sales[\"decade\"] = \"80s\"\n",
    "vg_sales.loc[vg_sales[\"Year\"].isin(nineties), \"decade\"] = \"90s\"\n",
    "vg_sales.loc[vg_sales[\"Year\"].isin(oughts), \"decade\"] = \"00s\"\n",
    "vg_sales.loc[vg_sales[\"Year\"].isin(tens), \"decade\"] = \"10s\"\n",
    "vg_sales.loc[vg_sales[\"Year\"].isin(twenties), \"decade\"] = \"20s\""
   ]
  },
  {
   "cell_type": "code",
   "execution_count": 58,
   "metadata": {},
   "outputs": [
    {
     "data": {
      "text/plain": [
       "00s    9183\n",
       "10s    5133\n",
       "Name: decade, dtype: int64"
      ]
     },
     "execution_count": 58,
     "metadata": {},
     "output_type": "execute_result"
    },
    {
     "data": {
      "application/javascript": [
       "\n",
       "            setTimeout(function() {\n",
       "                var nbb_cell_id = 58;\n",
       "                var nbb_unformatted_code = \"# we are going to analyze from 2000's onward, as this is when modern gaming markets matured\\n# also throw out 2020 as there is only 1 game\\n# see https://learn.stash.com/defining-moments-in-video-game-history-a-timeline\\n\\nvg_sales = vg_sales[vg_sales[\\\"decade\\\"] != \\\"80s\\\"]\\nvg_sales = vg_sales[vg_sales[\\\"decade\\\"] != \\\"20s\\\"]\\nvg_sales = vg_sales[vg_sales[\\\"decade\\\"] != \\\"90s\\\"]\\n\\nvg_sales.decade.value_counts()\";\n",
       "                var nbb_formatted_code = \"# we are going to analyze from 2000's onward, as this is when modern gaming markets matured\\n# also throw out 2020 as there is only 1 game\\n# see https://learn.stash.com/defining-moments-in-video-game-history-a-timeline\\n\\nvg_sales = vg_sales[vg_sales[\\\"decade\\\"] != \\\"80s\\\"]\\nvg_sales = vg_sales[vg_sales[\\\"decade\\\"] != \\\"20s\\\"]\\nvg_sales = vg_sales[vg_sales[\\\"decade\\\"] != \\\"90s\\\"]\\n\\nvg_sales.decade.value_counts()\";\n",
       "                var nbb_cells = Jupyter.notebook.get_cells();\n",
       "                for (var i = 0; i < nbb_cells.length; ++i) {\n",
       "                    if (nbb_cells[i].input_prompt_number == nbb_cell_id) {\n",
       "                        if (nbb_cells[i].get_text() == nbb_unformatted_code) {\n",
       "                             nbb_cells[i].set_text(nbb_formatted_code);\n",
       "                        }\n",
       "                        break;\n",
       "                    }\n",
       "                }\n",
       "            }, 500);\n",
       "            "
      ],
      "text/plain": [
       "<IPython.core.display.Javascript object>"
      ]
     },
     "metadata": {},
     "output_type": "display_data"
    }
   ],
   "source": [
    "# we are going to analyze from 2000's onward, as this is when modern gaming markets matured\n",
    "# also throw out 2020 as there is only 1 game\n",
    "# see https://learn.stash.com/defining-moments-in-video-game-history-a-timeline\n",
    "\n",
    "vg_sales = vg_sales[vg_sales[\"decade\"] != \"80s\"]\n",
    "vg_sales = vg_sales[vg_sales[\"decade\"] != \"20s\"]\n",
    "vg_sales = vg_sales[vg_sales[\"decade\"] != \"90s\"]\n",
    "\n",
    "vg_sales.decade.value_counts()"
   ]
  },
  {
   "cell_type": "code",
   "execution_count": 63,
   "metadata": {},
   "outputs": [
    {
     "data": {
      "text/plain": [
       "Action          3023\n",
       "Sports          1977\n",
       "Misc            1562\n",
       "Role-Playing    1289\n",
       "Adventure       1175\n",
       "Shooter         1115\n",
       "Racing          1034\n",
       "Simulation       758\n",
       "Platform         717\n",
       "Fighting         639\n",
       "Strategy         547\n",
       "Puzzle           480\n",
       "Name: Genre, dtype: int64"
      ]
     },
     "execution_count": 63,
     "metadata": {},
     "output_type": "execute_result"
    },
    {
     "data": {
      "application/javascript": [
       "\n",
       "            setTimeout(function() {\n",
       "                var nbb_cell_id = 63;\n",
       "                var nbb_unformatted_code = \"vg_sales.Genre.value_counts()\";\n",
       "                var nbb_formatted_code = \"vg_sales.Genre.value_counts()\";\n",
       "                var nbb_cells = Jupyter.notebook.get_cells();\n",
       "                for (var i = 0; i < nbb_cells.length; ++i) {\n",
       "                    if (nbb_cells[i].input_prompt_number == nbb_cell_id) {\n",
       "                        if (nbb_cells[i].get_text() == nbb_unformatted_code) {\n",
       "                             nbb_cells[i].set_text(nbb_formatted_code);\n",
       "                        }\n",
       "                        break;\n",
       "                    }\n",
       "                }\n",
       "            }, 500);\n",
       "            "
      ],
      "text/plain": [
       "<IPython.core.display.Javascript object>"
      ]
     },
     "metadata": {},
     "output_type": "display_data"
    }
   ],
   "source": [
    "vg_sales.Genre.value_counts()"
   ]
  },
  {
   "cell_type": "code",
   "execution_count": 64,
   "metadata": {},
   "outputs": [
    {
     "data": {
      "application/javascript": [
       "\n",
       "            setTimeout(function() {\n",
       "                var nbb_cell_id = 64;\n",
       "                var nbb_unformatted_code = \"# separate based on genres.\\nsports = vg_sales[vg_sales[\\\"Genre\\\"] == \\\"Sports\\\"]\\naction = vg_sales[vg_sales[\\\"Genre\\\"] == \\\"Action\\\"]\\nmisc = vg_sales[vg_sales[\\\"Genre\\\"] == \\\"Misc\\\"]\\nrpg = vg_sales[vg_sales[\\\"Genre\\\"] == \\\"Role-Playing\\\"]\\nadventure = vg_sales[vg_sales[\\\"Genre\\\"] == \\\"Adevnture\\\"]\\nshooter = vg_sales[vg_sales[\\\"Genre\\\"] == \\\"Shooter\\\"]\\nracing = vg_sales[vg_sales[\\\"Genre\\\"] == \\\"Racing\\\"]\\nsim = vg_sales[vg_sales[\\\"Genre\\\"] == \\\"Simulation\\\"]\\nplatform = vg_sales[vg_sales[\\\"Genre\\\"] == \\\"Platform\\\"]\\nfighting = vg_sales[vg_sales[\\\"Genre\\\"] == \\\"Fighting\\\"]\\nstartegy = vg_sales[vg_sales[\\\"Genre\\\"] == \\\"Strategy\\\"]\\npuzzle = vg_sales[vg_sales[\\\"Genre\\\"] == \\\"Puzzle\\\"]\";\n",
       "                var nbb_formatted_code = \"# separate based on genres.\\nsports = vg_sales[vg_sales[\\\"Genre\\\"] == \\\"Sports\\\"]\\naction = vg_sales[vg_sales[\\\"Genre\\\"] == \\\"Action\\\"]\\nmisc = vg_sales[vg_sales[\\\"Genre\\\"] == \\\"Misc\\\"]\\nrpg = vg_sales[vg_sales[\\\"Genre\\\"] == \\\"Role-Playing\\\"]\\nadventure = vg_sales[vg_sales[\\\"Genre\\\"] == \\\"Adevnture\\\"]\\nshooter = vg_sales[vg_sales[\\\"Genre\\\"] == \\\"Shooter\\\"]\\nracing = vg_sales[vg_sales[\\\"Genre\\\"] == \\\"Racing\\\"]\\nsim = vg_sales[vg_sales[\\\"Genre\\\"] == \\\"Simulation\\\"]\\nplatform = vg_sales[vg_sales[\\\"Genre\\\"] == \\\"Platform\\\"]\\nfighting = vg_sales[vg_sales[\\\"Genre\\\"] == \\\"Fighting\\\"]\\nstartegy = vg_sales[vg_sales[\\\"Genre\\\"] == \\\"Strategy\\\"]\\npuzzle = vg_sales[vg_sales[\\\"Genre\\\"] == \\\"Puzzle\\\"]\";\n",
       "                var nbb_cells = Jupyter.notebook.get_cells();\n",
       "                for (var i = 0; i < nbb_cells.length; ++i) {\n",
       "                    if (nbb_cells[i].input_prompt_number == nbb_cell_id) {\n",
       "                        if (nbb_cells[i].get_text() == nbb_unformatted_code) {\n",
       "                             nbb_cells[i].set_text(nbb_formatted_code);\n",
       "                        }\n",
       "                        break;\n",
       "                    }\n",
       "                }\n",
       "            }, 500);\n",
       "            "
      ],
      "text/plain": [
       "<IPython.core.display.Javascript object>"
      ]
     },
     "metadata": {},
     "output_type": "display_data"
    }
   ],
   "source": [
    "# separate based on genres.\n",
    "sports = vg_sales[vg_sales[\"Genre\"] == \"Sports\"]\n",
    "action = vg_sales[vg_sales[\"Genre\"] == \"Action\"]\n",
    "misc = vg_sales[vg_sales[\"Genre\"] == \"Misc\"]\n",
    "rpg = vg_sales[vg_sales[\"Genre\"] == \"Role-Playing\"]\n",
    "adventure = vg_sales[vg_sales[\"Genre\"] == \"Adevnture\"]\n",
    "shooter = vg_sales[vg_sales[\"Genre\"] == \"Shooter\"]\n",
    "racing = vg_sales[vg_sales[\"Genre\"] == \"Racing\"]\n",
    "sim = vg_sales[vg_sales[\"Genre\"] == \"Simulation\"]\n",
    "platform = vg_sales[vg_sales[\"Genre\"] == \"Platform\"]\n",
    "fighting = vg_sales[vg_sales[\"Genre\"] == \"Fighting\"]\n",
    "startegy = vg_sales[vg_sales[\"Genre\"] == \"Strategy\"]\n",
    "puzzle = vg_sales[vg_sales[\"Genre\"] == \"Puzzle\"]"
   ]
  },
  {
   "cell_type": "code",
   "execution_count": 65,
   "metadata": {},
   "outputs": [
    {
     "data": {
      "image/png": "[encoded data removed]",
      "text/plain": [
       "<Figure size 432x288 with 1 Axes>"
      ]
     },
     "metadata": {
      "needs_background": "light"
     },
     "output_type": "display_data"
    },
    {
     "data": {
      "application/javascript": [
       "\n",
       "            setTimeout(function() {\n",
       "                var nbb_cell_id = 65;\n",
       "                var nbb_unformatted_code = \"sns.boxplot(\\\"Genre\\\", \\\"NA_Sales\\\", data=sports)\\nplt.tight_layout()\\nplt.show()\\n# wii sports shipped with the wii console, and is not representative of games that sell normally.\\n# It shipped with the wii, and it is already clear how we can learn from it's success: accessibility.\\n# https://www.gamespot.com/articles/the-most-influential-games-of-the-21st-century-wii/1100-6466810/#:~:text=Like%20the%20Wii%2C%20it%20focused,the%20industry%20would%20approach%20accessibility.\\n# it also a outlier amongst outliers. I will be tossing it\";\n",
       "                var nbb_formatted_code = \"sns.boxplot(\\\"Genre\\\", \\\"NA_Sales\\\", data=sports)\\nplt.tight_layout()\\nplt.show()\\n# wii sports shipped with the wii console, and is not representative of games that sell normally.\\n# It shipped with the wii, and it is already clear how we can learn from it's success: accessibility.\\n# https://www.gamespot.com/articles/the-most-influential-games-of-the-21st-century-wii/1100-6466810/#:~:text=Like%20the%20Wii%2C%20it%20focused,the%20industry%20would%20approach%20accessibility.\\n# it also a outlier amongst outliers. I will be tossing it\";\n",
       "                var nbb_cells = Jupyter.notebook.get_cells();\n",
       "                for (var i = 0; i < nbb_cells.length; ++i) {\n",
       "                    if (nbb_cells[i].input_prompt_number == nbb_cell_id) {\n",
       "                        if (nbb_cells[i].get_text() == nbb_unformatted_code) {\n",
       "                             nbb_cells[i].set_text(nbb_formatted_code);\n",
       "                        }\n",
       "                        break;\n",
       "                    }\n",
       "                }\n",
       "            }, 500);\n",
       "            "
      ],
      "text/plain": [
       "<IPython.core.display.Javascript object>"
      ]
     },
     "metadata": {},
     "output_type": "display_data"
    }
   ],
   "source": [
    "sns.boxplot(\"Genre\", \"NA_Sales\", data=sports)\n",
    "plt.tight_layout()\n",
    "plt.show()\n",
    "# wii sports shipped with the wii console, and is not representative of games that sell normally.\n",
    "# It shipped with the wii, and it is already clear how we can learn from it's success: accessibility.\n",
    "# https://www.gamespot.com/articles/the-most-influential-games-of-the-21st-century-wii/1100-6466810/#:~:text=Like%20the%20Wii%2C%20it%20focused,the%20industry%20would%20approach%20accessibility.\n",
    "# it also a outlier amongst outliers. I will be tossing it"
   ]
  },
  {
   "cell_type": "code",
   "execution_count": 66,
   "metadata": {},
   "outputs": [
    {
     "data": {
      "image/png": "[encoded data removed]",
      "text/plain": [
       "<Figure size 432x288 with 1 Axes>"
      ]
     },
     "metadata": {
      "needs_background": "light"
     },
     "output_type": "display_data"
    },
    {
     "data": {
      "application/javascript": [
       "\n",
       "            setTimeout(function() {\n",
       "                var nbb_cell_id = 66;\n",
       "                var nbb_unformatted_code = \"sports = sports[sports[\\\"Name\\\"] != \\\"Wii Sports\\\"]\\nsns.boxplot(\\\"Genre\\\", \\\"NA_Sales\\\", data=sports)\\nplt.tight_layout()\\nplt.show()\\n# removal of wii sports cuts the skew dramtically\";\n",
       "                var nbb_formatted_code = \"sports = sports[sports[\\\"Name\\\"] != \\\"Wii Sports\\\"]\\nsns.boxplot(\\\"Genre\\\", \\\"NA_Sales\\\", data=sports)\\nplt.tight_layout()\\nplt.show()\\n# removal of wii sports cuts the skew dramtically\";\n",
       "                var nbb_cells = Jupyter.notebook.get_cells();\n",
       "                for (var i = 0; i < nbb_cells.length; ++i) {\n",
       "                    if (nbb_cells[i].input_prompt_number == nbb_cell_id) {\n",
       "                        if (nbb_cells[i].get_text() == nbb_unformatted_code) {\n",
       "                             nbb_cells[i].set_text(nbb_formatted_code);\n",
       "                        }\n",
       "                        break;\n",
       "                    }\n",
       "                }\n",
       "            }, 500);\n",
       "            "
      ],
      "text/plain": [
       "<IPython.core.display.Javascript object>"
      ]
     },
     "metadata": {},
     "output_type": "display_data"
    }
   ],
   "source": [
    "sports = sports[sports[\"Name\"] != \"Wii Sports\"]\n",
    "sns.boxplot(\"Genre\", \"NA_Sales\", data=sports)\n",
    "plt.tight_layout()\n",
    "plt.show()\n",
    "# removal of wii sports cuts the skew dramtically"
   ]
  },
  {
   "cell_type": "code",
   "execution_count": null,
   "metadata": {
    "scrolled": true
   },
   "outputs": [],
   "source": []
  },
  {
   "cell_type": "code",
   "execution_count": null,
   "metadata": {},
   "outputs": [],
   "source": []
  },
  {
   "cell_type": "code",
   "execution_count": null,
   "metadata": {},
   "outputs": [],
   "source": []
  },
  {
   "cell_type": "code",
   "execution_count": null,
   "metadata": {},
   "outputs": [],
   "source": []
  },
  {
   "cell_type": "code",
   "execution_count": null,
   "metadata": {},
   "outputs": [],
   "source": []
  },
  {
   "cell_type": "code",
   "execution_count": null,
   "metadata": {},
   "outputs": [],
   "source": []
  },
  {
   "cell_type": "code",
   "execution_count": null,
   "metadata": {},
   "outputs": [],
   "source": []
  },
  {
   "cell_type": "code",
   "execution_count": null,
   "metadata": {},
   "outputs": [],
   "source": []
  },
  {
   "cell_type": "code",
   "execution_count": 55,
   "metadata": {},
   "outputs": [
    {
     "data": {
      "application/javascript": [
       "\n",
       "            setTimeout(function() {\n",
       "                var nbb_cell_id = 55;\n",
       "                var nbb_unformatted_code = \"# do game prices rise with inflation?\\n# normalize sales numbers\";\n",
       "                var nbb_formatted_code = \"# do game prices rise with inflation?\\n# normalize sales numbers\";\n",
       "                var nbb_cells = Jupyter.notebook.get_cells();\n",
       "                for (var i = 0; i < nbb_cells.length; ++i) {\n",
       "                    if (nbb_cells[i].input_prompt_number == nbb_cell_id) {\n",
       "                        if (nbb_cells[i].get_text() == nbb_unformatted_code) {\n",
       "                             nbb_cells[i].set_text(nbb_formatted_code);\n",
       "                        }\n",
       "                        break;\n",
       "                    }\n",
       "                }\n",
       "            }, 500);\n",
       "            "
      ],
      "text/plain": [
       "<IPython.core.display.Javascript object>"
      ]
     },
     "metadata": {},
     "output_type": "display_data"
    }
   ],
   "source": []
  },
  {
   "cell_type": "code",
   "execution_count": 56,
   "metadata": {},
   "outputs": [
    {
     "data": {
      "application/javascript": [
       "\n",
       "            setTimeout(function() {\n",
       "                var nbb_cell_id = 56;\n",
       "                var nbb_unformatted_code = \"# eighties = list(range(1980, 1990))\\n# nineties = list(range(1990, 2000))\\n# oughts = list(range(2000, 2010))\\n# tens = list(range(2010, 2020))\\n# twenties = list(range(2020, 2030))\";\n",
       "                var nbb_formatted_code = \"# eighties = list(range(1980, 1990))\\n# nineties = list(range(1990, 2000))\\n# oughts = list(range(2000, 2010))\\n# tens = list(range(2010, 2020))\\n# twenties = list(range(2020, 2030))\";\n",
       "                var nbb_cells = Jupyter.notebook.get_cells();\n",
       "                for (var i = 0; i < nbb_cells.length; ++i) {\n",
       "                    if (nbb_cells[i].input_prompt_number == nbb_cell_id) {\n",
       "                        if (nbb_cells[i].get_text() == nbb_unformatted_code) {\n",
       "                             nbb_cells[i].set_text(nbb_formatted_code);\n",
       "                        }\n",
       "                        break;\n",
       "                    }\n",
       "                }\n",
       "            }, 500);\n",
       "            "
      ],
      "text/plain": [
       "<IPython.core.display.Javascript object>"
      ]
     },
     "metadata": {},
     "output_type": "display_data"
    }
   ],
   "source": []
  },
  {
   "cell_type": "code",
   "execution_count": null,
   "metadata": {},
   "outputs": [],
   "source": []
  },
  {
   "cell_type": "code",
   "execution_count": null,
   "metadata": {},
   "outputs": [],
   "source": []
  },
  {
   "cell_type": "code",
   "execution_count": null,
   "metadata": {},
   "outputs": [],
   "source": []
  },
  {
   "cell_type": "code",
   "execution_count": null,
   "metadata": {},
   "outputs": [],
   "source": []
  },
  {
   "cell_type": "code",
   "execution_count": null,
   "metadata": {},
   "outputs": [],
   "source": []
  },
  {
   "cell_type": "code",
   "execution_count": null,
   "metadata": {},
   "outputs": [],
   "source": []
  },
  {
   "cell_type": "code",
   "execution_count": null,
   "metadata": {},
   "outputs": [],
   "source": []
  },
  {
   "cell_type": "code",
   "execution_count": null,
   "metadata": {},
   "outputs": [],
   "source": []
  },
  {
   "cell_type": "code",
   "execution_count": null,
   "metadata": {},
   "outputs": [],
   "source": []
  }
 ],
 "metadata": {
  "kernelspec": {
   "display_name": "Python 3",
   "language": "python",
   "name": "python3"
  },
  "language_info": {
   "codemirror_mode": {
    "name": "ipython",
    "version": 3
   },
   "file_extension": ".py",
   "mimetype": "text/x-python",
   "name": "python",
   "nbconvert_exporter": "python",
   "pygments_lexer": "ipython3",
   "version": "3.7.6"
  }
 },
 "nbformat": 4,
 "nbformat_minor": 4
}
