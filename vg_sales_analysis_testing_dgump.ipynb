{
 "cells": [
  {
   "cell_type": "code",
   "execution_count": 1,
   "metadata": {},
   "outputs": [
    {
     "data": {
      "application/javascript": [
       "\n",
       "            setTimeout(function() {\n",
       "                var nbb_cell_id = 1;\n",
       "                var nbb_unformatted_code = \"import pandas as pd\\nimport numpy as np\\nfrom scipy import stats\\nfrom statsmodels.graphics.gofplots import qqplot\\nfrom statsmodels.stats.multitest import multipletests\\nimport seaborn as sns\\nimport matplotlib.pyplot as plt\\n\\n%matplotlib inline\\n%reload_ext nb_black\";\n",
       "                var nbb_formatted_code = \"import pandas as pd\\nimport numpy as np\\nfrom scipy import stats\\nfrom statsmodels.graphics.gofplots import qqplot\\nfrom statsmodels.stats.multitest import multipletests\\nimport seaborn as sns\\nimport matplotlib.pyplot as plt\\n\\n%matplotlib inline\\n%reload_ext nb_black\";\n",
       "                var nbb_cells = Jupyter.notebook.get_cells();\n",
       "                for (var i = 0; i < nbb_cells.length; ++i) {\n",
       "                    if (nbb_cells[i].input_prompt_number == nbb_cell_id) {\n",
       "                        if (nbb_cells[i].get_text() == nbb_unformatted_code) {\n",
       "                             nbb_cells[i].set_text(nbb_formatted_code);\n",
       "                        }\n",
       "                        break;\n",
       "                    }\n",
       "                }\n",
       "            }, 500);\n",
       "            "
      ],
      "text/plain": [
       "<IPython.core.display.Javascript object>"
      ]
     },
     "metadata": {},
     "output_type": "display_data"
    }
   ],
   "source": [
    "import pandas as pd\n",
    "import numpy as np\n",
    "from scipy import stats\n",
    "from statsmodels.graphics.gofplots import qqplot\n",
    "from statsmodels.stats.multitest import multipletests\n",
    "import seaborn as sns\n",
    "import matplotlib.pyplot as plt\n",
    "\n",
    "%matplotlib inline\n",
    "%reload_ext nb_black"
   ]
  },
  {
   "cell_type": "code",
   "execution_count": 2,
   "metadata": {},
   "outputs": [
    {
     "data": {
      "text/html": [
       "<div>\n",
       "<style scoped>\n",
       "    .dataframe tbody tr th:only-of-type {\n",
       "        vertical-align: middle;\n",
       "    }\n",
       "\n",
       "    .dataframe tbody tr th {\n",
       "        vertical-align: top;\n",
       "    }\n",
       "\n",
       "    .dataframe thead th {\n",
       "        text-align: right;\n",
       "    }\n",
       "</style>\n",
       "<table border=\"1\" class=\"dataframe\">\n",
       "  <thead>\n",
       "    <tr style=\"text-align: right;\">\n",
       "      <th></th>\n",
       "      <th>Rank</th>\n",
       "      <th>Name</th>\n",
       "      <th>Platform</th>\n",
       "      <th>Year</th>\n",
       "      <th>Genre</th>\n",
       "      <th>Publisher</th>\n",
       "      <th>NA_Sales</th>\n",
       "      <th>EU_Sales</th>\n",
       "      <th>JP_Sales</th>\n",
       "      <th>Other_Sales</th>\n",
       "      <th>Global_Sales</th>\n",
       "    </tr>\n",
       "  </thead>\n",
       "  <tbody>\n",
       "    <tr>\n",
       "      <th>0</th>\n",
       "      <td>1</td>\n",
       "      <td>Wii Sports</td>\n",
       "      <td>Wii</td>\n",
       "      <td>2006.0</td>\n",
       "      <td>Sports</td>\n",
       "      <td>Nintendo</td>\n",
       "      <td>41.49</td>\n",
       "      <td>29.02</td>\n",
       "      <td>3.77</td>\n",
       "      <td>8.46</td>\n",
       "      <td>82.74</td>\n",
       "    </tr>\n",
       "    <tr>\n",
       "      <th>1</th>\n",
       "      <td>2</td>\n",
       "      <td>Super Mario Bros.</td>\n",
       "      <td>NES</td>\n",
       "      <td>1985.0</td>\n",
       "      <td>Platform</td>\n",
       "      <td>Nintendo</td>\n",
       "      <td>29.08</td>\n",
       "      <td>3.58</td>\n",
       "      <td>6.81</td>\n",
       "      <td>0.77</td>\n",
       "      <td>40.24</td>\n",
       "    </tr>\n",
       "    <tr>\n",
       "      <th>2</th>\n",
       "      <td>3</td>\n",
       "      <td>Mario Kart Wii</td>\n",
       "      <td>Wii</td>\n",
       "      <td>2008.0</td>\n",
       "      <td>Racing</td>\n",
       "      <td>Nintendo</td>\n",
       "      <td>15.85</td>\n",
       "      <td>12.88</td>\n",
       "      <td>3.79</td>\n",
       "      <td>3.31</td>\n",
       "      <td>35.82</td>\n",
       "    </tr>\n",
       "    <tr>\n",
       "      <th>3</th>\n",
       "      <td>4</td>\n",
       "      <td>Wii Sports Resort</td>\n",
       "      <td>Wii</td>\n",
       "      <td>2009.0</td>\n",
       "      <td>Sports</td>\n",
       "      <td>Nintendo</td>\n",
       "      <td>15.75</td>\n",
       "      <td>11.01</td>\n",
       "      <td>3.28</td>\n",
       "      <td>2.96</td>\n",
       "      <td>33.00</td>\n",
       "    </tr>\n",
       "    <tr>\n",
       "      <th>4</th>\n",
       "      <td>5</td>\n",
       "      <td>Pokemon Red/Pokemon Blue</td>\n",
       "      <td>GB</td>\n",
       "      <td>1996.0</td>\n",
       "      <td>Role-Playing</td>\n",
       "      <td>Nintendo</td>\n",
       "      <td>11.27</td>\n",
       "      <td>8.89</td>\n",
       "      <td>10.22</td>\n",
       "      <td>1.00</td>\n",
       "      <td>31.37</td>\n",
       "    </tr>\n",
       "  </tbody>\n",
       "</table>\n",
       "</div>"
      ],
      "text/plain": [
       "   Rank                      Name Platform    Year         Genre Publisher  \\\n",
       "0     1                Wii Sports      Wii  2006.0        Sports  Nintendo   \n",
       "1     2         Super Mario Bros.      NES  1985.0      Platform  Nintendo   \n",
       "2     3            Mario Kart Wii      Wii  2008.0        Racing  Nintendo   \n",
       "3     4         Wii Sports Resort      Wii  2009.0        Sports  Nintendo   \n",
       "4     5  Pokemon Red/Pokemon Blue       GB  1996.0  Role-Playing  Nintendo   \n",
       "\n",
       "   NA_Sales  EU_Sales  JP_Sales  Other_Sales  Global_Sales  \n",
       "0     41.49     29.02      3.77         8.46         82.74  \n",
       "1     29.08      3.58      6.81         0.77         40.24  \n",
       "2     15.85     12.88      3.79         3.31         35.82  \n",
       "3     15.75     11.01      3.28         2.96         33.00  \n",
       "4     11.27      8.89     10.22         1.00         31.37  "
      ]
     },
     "execution_count": 2,
     "metadata": {},
     "output_type": "execute_result"
    },
    {
     "data": {
      "application/javascript": [
       "\n",
       "            setTimeout(function() {\n",
       "                var nbb_cell_id = 2;\n",
       "                var nbb_unformatted_code = \"# load in the data\\ndata_path = \\\"data/vgsales.csv\\\"\\nvg_sales = pd.read_csv(data_path)\\nvg_sales.head()\";\n",
       "                var nbb_formatted_code = \"# load in the data\\ndata_path = \\\"data/vgsales.csv\\\"\\nvg_sales = pd.read_csv(data_path)\\nvg_sales.head()\";\n",
       "                var nbb_cells = Jupyter.notebook.get_cells();\n",
       "                for (var i = 0; i < nbb_cells.length; ++i) {\n",
       "                    if (nbb_cells[i].input_prompt_number == nbb_cell_id) {\n",
       "                        if (nbb_cells[i].get_text() == nbb_unformatted_code) {\n",
       "                             nbb_cells[i].set_text(nbb_formatted_code);\n",
       "                        }\n",
       "                        break;\n",
       "                    }\n",
       "                }\n",
       "            }, 500);\n",
       "            "
      ],
      "text/plain": [
       "<IPython.core.display.Javascript object>"
      ]
     },
     "metadata": {},
     "output_type": "display_data"
    }
   ],
   "source": [
    "# load in the data\n",
    "data_path = \"data/vgsales.csv\"\n",
    "vg_sales = pd.read_csv(data_path)\n",
    "vg_sales.head()"
   ]
  },
  {
   "cell_type": "code",
   "execution_count": 3,
   "metadata": {},
   "outputs": [
    {
     "data": {
      "application/javascript": [
       "\n",
       "            setTimeout(function() {\n",
       "                var nbb_cell_id = 3;\n",
       "                var nbb_unformatted_code = \"# drop wii sports\\nvg_sales = vg_sales[vg_sales[\\\"Name\\\"] != \\\"Wii Sports\\\"]\";\n",
       "                var nbb_formatted_code = \"# drop wii sports\\nvg_sales = vg_sales[vg_sales[\\\"Name\\\"] != \\\"Wii Sports\\\"]\";\n",
       "                var nbb_cells = Jupyter.notebook.get_cells();\n",
       "                for (var i = 0; i < nbb_cells.length; ++i) {\n",
       "                    if (nbb_cells[i].input_prompt_number == nbb_cell_id) {\n",
       "                        if (nbb_cells[i].get_text() == nbb_unformatted_code) {\n",
       "                             nbb_cells[i].set_text(nbb_formatted_code);\n",
       "                        }\n",
       "                        break;\n",
       "                    }\n",
       "                }\n",
       "            }, 500);\n",
       "            "
      ],
      "text/plain": [
       "<IPython.core.display.Javascript object>"
      ]
     },
     "metadata": {},
     "output_type": "display_data"
    }
   ],
   "source": [
    "# drop wii sports\n",
    "vg_sales = vg_sales[vg_sales[\"Name\"] != \"Wii Sports\"]"
   ]
  },
  {
   "cell_type": "code",
   "execution_count": 4,
   "metadata": {},
   "outputs": [
    {
     "data": {
      "application/javascript": [
       "\n",
       "            setTimeout(function() {\n",
       "                var nbb_cell_id = 4;\n",
       "                var nbb_unformatted_code = \"# create 'decade' field for each game\\neighties = list(range(1980, 1990))\\nnineties = list(range(1990, 2000))\\noughts = list(range(2000, 2010))\\ntens = list(range(2010, 2020))\\ntwenties = list(range(2020, 2030))\\n\\nvg_sales[\\\"decade\\\"] = \\\"80s\\\"\\nvg_sales.loc[vg_sales[\\\"Year\\\"].isin(nineties), \\\"decade\\\"] = \\\"90s\\\"\\nvg_sales.loc[vg_sales[\\\"Year\\\"].isin(oughts), \\\"decade\\\"] = \\\"00s\\\"\\nvg_sales.loc[vg_sales[\\\"Year\\\"].isin(tens), \\\"decade\\\"] = \\\"10s\\\"\\nvg_sales.loc[vg_sales[\\\"Year\\\"].isin(twenties), \\\"decade\\\"] = \\\"20s\\\"\";\n",
       "                var nbb_formatted_code = \"# create 'decade' field for each game\\neighties = list(range(1980, 1990))\\nnineties = list(range(1990, 2000))\\noughts = list(range(2000, 2010))\\ntens = list(range(2010, 2020))\\ntwenties = list(range(2020, 2030))\\n\\nvg_sales[\\\"decade\\\"] = \\\"80s\\\"\\nvg_sales.loc[vg_sales[\\\"Year\\\"].isin(nineties), \\\"decade\\\"] = \\\"90s\\\"\\nvg_sales.loc[vg_sales[\\\"Year\\\"].isin(oughts), \\\"decade\\\"] = \\\"00s\\\"\\nvg_sales.loc[vg_sales[\\\"Year\\\"].isin(tens), \\\"decade\\\"] = \\\"10s\\\"\\nvg_sales.loc[vg_sales[\\\"Year\\\"].isin(twenties), \\\"decade\\\"] = \\\"20s\\\"\";\n",
       "                var nbb_cells = Jupyter.notebook.get_cells();\n",
       "                for (var i = 0; i < nbb_cells.length; ++i) {\n",
       "                    if (nbb_cells[i].input_prompt_number == nbb_cell_id) {\n",
       "                        if (nbb_cells[i].get_text() == nbb_unformatted_code) {\n",
       "                             nbb_cells[i].set_text(nbb_formatted_code);\n",
       "                        }\n",
       "                        break;\n",
       "                    }\n",
       "                }\n",
       "            }, 500);\n",
       "            "
      ],
      "text/plain": [
       "<IPython.core.display.Javascript object>"
      ]
     },
     "metadata": {},
     "output_type": "display_data"
    }
   ],
   "source": [
    "# create 'decade' field for each game\n",
    "eighties = list(range(1980, 1990))\n",
    "nineties = list(range(1990, 2000))\n",
    "oughts = list(range(2000, 2010))\n",
    "tens = list(range(2010, 2020))\n",
    "twenties = list(range(2020, 2030))\n",
    "\n",
    "vg_sales[\"decade\"] = \"80s\"\n",
    "vg_sales.loc[vg_sales[\"Year\"].isin(nineties), \"decade\"] = \"90s\"\n",
    "vg_sales.loc[vg_sales[\"Year\"].isin(oughts), \"decade\"] = \"00s\"\n",
    "vg_sales.loc[vg_sales[\"Year\"].isin(tens), \"decade\"] = \"10s\"\n",
    "vg_sales.loc[vg_sales[\"Year\"].isin(twenties), \"decade\"] = \"20s\""
   ]
  },
  {
   "cell_type": "code",
   "execution_count": 5,
   "metadata": {},
   "outputs": [
    {
     "data": {
      "text/plain": [
       "00s    9207\n",
       "10s    5144\n",
       "Name: decade, dtype: int64"
      ]
     },
     "execution_count": 5,
     "metadata": {},
     "output_type": "execute_result"
    },
    {
     "data": {
      "application/javascript": [
       "\n",
       "            setTimeout(function() {\n",
       "                var nbb_cell_id = 5;\n",
       "                var nbb_unformatted_code = \"# select 2000-2019\\nvg_00_10 = vg_sales[vg_sales[\\\"decade\\\"] != \\\"80s\\\"]\\nvg_00_10 = vg_00_10[vg_00_10[\\\"decade\\\"] != \\\"20s\\\"]\\nvg_00_10 = vg_00_10[vg_00_10[\\\"decade\\\"] != \\\"90s\\\"]\\nvg_00_10.decade.value_counts()\";\n",
       "                var nbb_formatted_code = \"# select 2000-2019\\nvg_00_10 = vg_sales[vg_sales[\\\"decade\\\"] != \\\"80s\\\"]\\nvg_00_10 = vg_00_10[vg_00_10[\\\"decade\\\"] != \\\"20s\\\"]\\nvg_00_10 = vg_00_10[vg_00_10[\\\"decade\\\"] != \\\"90s\\\"]\\nvg_00_10.decade.value_counts()\";\n",
       "                var nbb_cells = Jupyter.notebook.get_cells();\n",
       "                for (var i = 0; i < nbb_cells.length; ++i) {\n",
       "                    if (nbb_cells[i].input_prompt_number == nbb_cell_id) {\n",
       "                        if (nbb_cells[i].get_text() == nbb_unformatted_code) {\n",
       "                             nbb_cells[i].set_text(nbb_formatted_code);\n",
       "                        }\n",
       "                        break;\n",
       "                    }\n",
       "                }\n",
       "            }, 500);\n",
       "            "
      ],
      "text/plain": [
       "<IPython.core.display.Javascript object>"
      ]
     },
     "metadata": {},
     "output_type": "display_data"
    }
   ],
   "source": [
    "# select 2000-2019\n",
    "vg_00_10 = vg_sales[vg_sales[\"decade\"] != \"80s\"]\n",
    "vg_00_10 = vg_00_10[vg_00_10[\"decade\"] != \"20s\"]\n",
    "vg_00_10 = vg_00_10[vg_00_10[\"decade\"] != \"90s\"]\n",
    "vg_00_10.decade.value_counts()"
   ]
  },
  {
   "cell_type": "code",
   "execution_count": 6,
   "metadata": {},
   "outputs": [
    {
     "data": {
      "text/plain": [
       "Rank             0\n",
       "Name             0\n",
       "Platform         0\n",
       "Year             0\n",
       "Genre            0\n",
       "Publisher       36\n",
       "NA_Sales         0\n",
       "EU_Sales         0\n",
       "JP_Sales         0\n",
       "Other_Sales      0\n",
       "Global_Sales     0\n",
       "decade           0\n",
       "dtype: int64"
      ]
     },
     "execution_count": 6,
     "metadata": {},
     "output_type": "execute_result"
    },
    {
     "data": {
      "application/javascript": [
       "\n",
       "            setTimeout(function() {\n",
       "                var nbb_cell_id = 6;\n",
       "                var nbb_unformatted_code = \"vg_00_10.isna().sum()\";\n",
       "                var nbb_formatted_code = \"vg_00_10.isna().sum()\";\n",
       "                var nbb_cells = Jupyter.notebook.get_cells();\n",
       "                for (var i = 0; i < nbb_cells.length; ++i) {\n",
       "                    if (nbb_cells[i].input_prompt_number == nbb_cell_id) {\n",
       "                        if (nbb_cells[i].get_text() == nbb_unformatted_code) {\n",
       "                             nbb_cells[i].set_text(nbb_formatted_code);\n",
       "                        }\n",
       "                        break;\n",
       "                    }\n",
       "                }\n",
       "            }, 500);\n",
       "            "
      ],
      "text/plain": [
       "<IPython.core.display.Javascript object>"
      ]
     },
     "metadata": {},
     "output_type": "display_data"
    }
   ],
   "source": [
    "vg_00_10.isna().sum()"
   ]
  },
  {
   "cell_type": "code",
   "execution_count": 7,
   "metadata": {
    "scrolled": true
   },
   "outputs": [
    {
     "data": {
      "text/plain": [
       "00s    7381\n",
       "10s    3191\n",
       "Name: decade, dtype: int64"
      ]
     },
     "execution_count": 7,
     "metadata": {},
     "output_type": "execute_result"
    },
    {
     "data": {
      "application/javascript": [
       "\n",
       "            setTimeout(function() {\n",
       "                var nbb_cell_id = 7;\n",
       "                var nbb_unformatted_code = \"# remove entries with zero 'NA_Sales'\\nvg_00_10 = vg_00_10[vg_00_10[\\\"NA_Sales\\\"] > 0]\\nvg_00_10 = vg_00_10.dropna()\\nvg_00_10.decade.value_counts()\";\n",
       "                var nbb_formatted_code = \"# remove entries with zero 'NA_Sales'\\nvg_00_10 = vg_00_10[vg_00_10[\\\"NA_Sales\\\"] > 0]\\nvg_00_10 = vg_00_10.dropna()\\nvg_00_10.decade.value_counts()\";\n",
       "                var nbb_cells = Jupyter.notebook.get_cells();\n",
       "                for (var i = 0; i < nbb_cells.length; ++i) {\n",
       "                    if (nbb_cells[i].input_prompt_number == nbb_cell_id) {\n",
       "                        if (nbb_cells[i].get_text() == nbb_unformatted_code) {\n",
       "                             nbb_cells[i].set_text(nbb_formatted_code);\n",
       "                        }\n",
       "                        break;\n",
       "                    }\n",
       "                }\n",
       "            }, 500);\n",
       "            "
      ],
      "text/plain": [
       "<IPython.core.display.Javascript object>"
      ]
     },
     "metadata": {},
     "output_type": "display_data"
    }
   ],
   "source": [
    "# remove entries with zero 'NA_Sales'\n",
    "vg_00_10 = vg_00_10[vg_00_10[\"NA_Sales\"] > 0]\n",
    "vg_00_10 = vg_00_10.dropna()\n",
    "vg_00_10.decade.value_counts()"
   ]
  },
  {
   "cell_type": "code",
   "execution_count": 8,
   "metadata": {},
   "outputs": [
    {
     "data": {
      "text/html": [
       "<div>\n",
       "<style scoped>\n",
       "    .dataframe tbody tr th:only-of-type {\n",
       "        vertical-align: middle;\n",
       "    }\n",
       "\n",
       "    .dataframe tbody tr th {\n",
       "        vertical-align: top;\n",
       "    }\n",
       "\n",
       "    .dataframe thead th {\n",
       "        text-align: right;\n",
       "    }\n",
       "</style>\n",
       "<table border=\"1\" class=\"dataframe\">\n",
       "  <thead>\n",
       "    <tr style=\"text-align: right;\">\n",
       "      <th></th>\n",
       "      <th>Rank</th>\n",
       "      <th>Name</th>\n",
       "      <th>Platform</th>\n",
       "      <th>Year</th>\n",
       "      <th>Genre</th>\n",
       "      <th>Publisher</th>\n",
       "      <th>NA_Sales</th>\n",
       "      <th>EU_Sales</th>\n",
       "      <th>JP_Sales</th>\n",
       "      <th>Other_Sales</th>\n",
       "      <th>Global_Sales</th>\n",
       "      <th>decade</th>\n",
       "    </tr>\n",
       "  </thead>\n",
       "  <tbody>\n",
       "    <tr>\n",
       "      <th>2</th>\n",
       "      <td>3</td>\n",
       "      <td>Mario Kart Wii</td>\n",
       "      <td>Wii</td>\n",
       "      <td>2008.0</td>\n",
       "      <td>Racing</td>\n",
       "      <td>Nintendo</td>\n",
       "      <td>15.85</td>\n",
       "      <td>12.88</td>\n",
       "      <td>3.79</td>\n",
       "      <td>3.31</td>\n",
       "      <td>35.82</td>\n",
       "      <td>00s</td>\n",
       "    </tr>\n",
       "    <tr>\n",
       "      <th>3</th>\n",
       "      <td>4</td>\n",
       "      <td>Wii Sports Resort</td>\n",
       "      <td>Wii</td>\n",
       "      <td>2009.0</td>\n",
       "      <td>Sports</td>\n",
       "      <td>Nintendo</td>\n",
       "      <td>15.75</td>\n",
       "      <td>11.01</td>\n",
       "      <td>3.28</td>\n",
       "      <td>2.96</td>\n",
       "      <td>33.00</td>\n",
       "      <td>00s</td>\n",
       "    </tr>\n",
       "    <tr>\n",
       "      <th>6</th>\n",
       "      <td>7</td>\n",
       "      <td>New Super Mario Bros.</td>\n",
       "      <td>DS</td>\n",
       "      <td>2006.0</td>\n",
       "      <td>Platform</td>\n",
       "      <td>Nintendo</td>\n",
       "      <td>11.38</td>\n",
       "      <td>9.23</td>\n",
       "      <td>6.50</td>\n",
       "      <td>2.90</td>\n",
       "      <td>30.01</td>\n",
       "      <td>00s</td>\n",
       "    </tr>\n",
       "    <tr>\n",
       "      <th>7</th>\n",
       "      <td>8</td>\n",
       "      <td>Wii Play</td>\n",
       "      <td>Wii</td>\n",
       "      <td>2006.0</td>\n",
       "      <td>Misc</td>\n",
       "      <td>Nintendo</td>\n",
       "      <td>14.03</td>\n",
       "      <td>9.20</td>\n",
       "      <td>2.93</td>\n",
       "      <td>2.85</td>\n",
       "      <td>29.02</td>\n",
       "      <td>00s</td>\n",
       "    </tr>\n",
       "    <tr>\n",
       "      <th>8</th>\n",
       "      <td>9</td>\n",
       "      <td>New Super Mario Bros. Wii</td>\n",
       "      <td>Wii</td>\n",
       "      <td>2009.0</td>\n",
       "      <td>Platform</td>\n",
       "      <td>Nintendo</td>\n",
       "      <td>14.59</td>\n",
       "      <td>7.06</td>\n",
       "      <td>4.70</td>\n",
       "      <td>2.26</td>\n",
       "      <td>28.62</td>\n",
       "      <td>00s</td>\n",
       "    </tr>\n",
       "  </tbody>\n",
       "</table>\n",
       "</div>"
      ],
      "text/plain": [
       "   Rank                       Name Platform    Year     Genre Publisher  \\\n",
       "2     3             Mario Kart Wii      Wii  2008.0    Racing  Nintendo   \n",
       "3     4          Wii Sports Resort      Wii  2009.0    Sports  Nintendo   \n",
       "6     7      New Super Mario Bros.       DS  2006.0  Platform  Nintendo   \n",
       "7     8                   Wii Play      Wii  2006.0      Misc  Nintendo   \n",
       "8     9  New Super Mario Bros. Wii      Wii  2009.0  Platform  Nintendo   \n",
       "\n",
       "   NA_Sales  EU_Sales  JP_Sales  Other_Sales  Global_Sales decade  \n",
       "2     15.85     12.88      3.79         3.31         35.82    00s  \n",
       "3     15.75     11.01      3.28         2.96         33.00    00s  \n",
       "6     11.38      9.23      6.50         2.90         30.01    00s  \n",
       "7     14.03      9.20      2.93         2.85         29.02    00s  \n",
       "8     14.59      7.06      4.70         2.26         28.62    00s  "
      ]
     },
     "execution_count": 8,
     "metadata": {},
     "output_type": "execute_result"
    },
    {
     "data": {
      "application/javascript": [
       "\n",
       "            setTimeout(function() {\n",
       "                var nbb_cell_id = 8;\n",
       "                var nbb_unformatted_code = \"vg_00_10.head()\";\n",
       "                var nbb_formatted_code = \"vg_00_10.head()\";\n",
       "                var nbb_cells = Jupyter.notebook.get_cells();\n",
       "                for (var i = 0; i < nbb_cells.length; ++i) {\n",
       "                    if (nbb_cells[i].input_prompt_number == nbb_cell_id) {\n",
       "                        if (nbb_cells[i].get_text() == nbb_unformatted_code) {\n",
       "                             nbb_cells[i].set_text(nbb_formatted_code);\n",
       "                        }\n",
       "                        break;\n",
       "                    }\n",
       "                }\n",
       "            }, 500);\n",
       "            "
      ],
      "text/plain": [
       "<IPython.core.display.Javascript object>"
      ]
     },
     "metadata": {},
     "output_type": "display_data"
    }
   ],
   "source": [
    "vg_00_10.head()"
   ]
  },
  {
   "cell_type": "code",
   "execution_count": 9,
   "metadata": {},
   "outputs": [
    {
     "data": {
      "text/plain": [
       "<matplotlib.axes._subplots.AxesSubplot at 0x2573d1da588>"
      ]
     },
     "execution_count": 9,
     "metadata": {},
     "output_type": "execute_result"
    },
    {
     "data": {
      "image/png": "[encoded data removed]",
      "text/plain": [
       "<Figure size 432x288 with 1 Axes>"
      ]
     },
     "metadata": {
      "needs_background": "light"
     },
     "output_type": "display_data"
    },
    {
     "data": {
      "application/javascript": [
       "\n",
       "            setTimeout(function() {\n",
       "                var nbb_cell_id = 9;\n",
       "                var nbb_unformatted_code = \"sns.lineplot(\\\"Year\\\", \\\"NA_Sales\\\", hue=\\\"Genre\\\", ci=100, data=vg_00_10)\\n# make line graphs for each sig pair from posthoc testing\";\n",
       "                var nbb_formatted_code = \"sns.lineplot(\\\"Year\\\", \\\"NA_Sales\\\", hue=\\\"Genre\\\", ci=100, data=vg_00_10)\\n# make line graphs for each sig pair from posthoc testing\";\n",
       "                var nbb_cells = Jupyter.notebook.get_cells();\n",
       "                for (var i = 0; i < nbb_cells.length; ++i) {\n",
       "                    if (nbb_cells[i].input_prompt_number == nbb_cell_id) {\n",
       "                        if (nbb_cells[i].get_text() == nbb_unformatted_code) {\n",
       "                             nbb_cells[i].set_text(nbb_formatted_code);\n",
       "                        }\n",
       "                        break;\n",
       "                    }\n",
       "                }\n",
       "            }, 500);\n",
       "            "
      ],
      "text/plain": [
       "<IPython.core.display.Javascript object>"
      ]
     },
     "metadata": {},
     "output_type": "display_data"
    }
   ],
   "source": [
    "sns.lineplot(\"Year\", \"NA_Sales\", hue=\"Genre\", ci=100, data=vg_00_10)\n",
    "# make line graphs for each sig pair from posthoc testing"
   ]
  },
  {
   "cell_type": "code",
   "execution_count": 18,
   "metadata": {},
   "outputs": [
    {
     "data": {
      "application/javascript": [
       "\n",
       "            setTimeout(function() {\n",
       "                var nbb_cell_id = 18;\n",
       "                var nbb_unformatted_code = \"vg_00_10[\\\"log_na_sales\\\"] = np.log(vg_00_10[\\\"NA_Sales\\\"])\";\n",
       "                var nbb_formatted_code = \"vg_00_10[\\\"log_na_sales\\\"] = np.log(vg_00_10[\\\"NA_Sales\\\"])\";\n",
       "                var nbb_cells = Jupyter.notebook.get_cells();\n",
       "                for (var i = 0; i < nbb_cells.length; ++i) {\n",
       "                    if (nbb_cells[i].input_prompt_number == nbb_cell_id) {\n",
       "                        if (nbb_cells[i].get_text() == nbb_unformatted_code) {\n",
       "                             nbb_cells[i].set_text(nbb_formatted_code);\n",
       "                        }\n",
       "                        break;\n",
       "                    }\n",
       "                }\n",
       "            }, 500);\n",
       "            "
      ],
      "text/plain": [
       "<IPython.core.display.Javascript object>"
      ]
     },
     "metadata": {},
     "output_type": "display_data"
    }
   ],
   "source": [
    "vg_00_10[\"log_na_sales\"] = np.log(vg_00_10[\"NA_Sales\"])"
   ]
  },
  {
   "cell_type": "code",
   "execution_count": 19,
   "metadata": {},
   "outputs": [
    {
     "data": {
      "text/plain": [
       "<matplotlib.axes._subplots.AxesSubplot at 0x2573fd1f388>"
      ]
     },
     "execution_count": 19,
     "metadata": {},
     "output_type": "execute_result"
    },
    {
     "data": {
      "image/png": "[encoded data removed]",
      "text/plain": [
       "<Figure size 432x288 with 1 Axes>"
      ]
     },
     "metadata": {
      "needs_background": "light"
     },
     "output_type": "display_data"
    },
    {
     "data": {
      "application/javascript": [
       "\n",
       "            setTimeout(function() {\n",
       "                var nbb_cell_id = 19;\n",
       "                var nbb_unformatted_code = \"sns.boxplot(\\\"Genre\\\", \\\"log_na_sales\\\", data=vg_00_10)\";\n",
       "                var nbb_formatted_code = \"sns.boxplot(\\\"Genre\\\", \\\"log_na_sales\\\", data=vg_00_10)\";\n",
       "                var nbb_cells = Jupyter.notebook.get_cells();\n",
       "                for (var i = 0; i < nbb_cells.length; ++i) {\n",
       "                    if (nbb_cells[i].input_prompt_number == nbb_cell_id) {\n",
       "                        if (nbb_cells[i].get_text() == nbb_unformatted_code) {\n",
       "                             nbb_cells[i].set_text(nbb_formatted_code);\n",
       "                        }\n",
       "                        break;\n",
       "                    }\n",
       "                }\n",
       "            }, 500);\n",
       "            "
      ],
      "text/plain": [
       "<IPython.core.display.Javascript object>"
      ]
     },
     "metadata": {},
     "output_type": "display_data"
    }
   ],
   "source": [
    "sns.boxplot(\"Genre\", \"log_na_sales\", data=vg_00_10)"
   ]
  },
  {
   "cell_type": "code",
   "execution_count": 20,
   "metadata": {},
   "outputs": [
    {
     "data": {
      "text/plain": [
       "635840.9999999999"
      ]
     },
     "execution_count": 20,
     "metadata": {},
     "output_type": "execute_result"
    },
    {
     "data": {
      "application/javascript": [
       "\n",
       "            setTimeout(function() {\n",
       "                var nbb_cell_id = 20;\n",
       "                var nbb_unformatted_code = \"np.exp(np.log(635841))\\n# undoes nat log np.log\\n# run tukey, then exponemntiate ci bounds\";\n",
       "                var nbb_formatted_code = \"np.exp(np.log(635841))\\n# undoes nat log np.log\\n# run tukey, then exponemntiate ci bounds\";\n",
       "                var nbb_cells = Jupyter.notebook.get_cells();\n",
       "                for (var i = 0; i < nbb_cells.length; ++i) {\n",
       "                    if (nbb_cells[i].input_prompt_number == nbb_cell_id) {\n",
       "                        if (nbb_cells[i].get_text() == nbb_unformatted_code) {\n",
       "                             nbb_cells[i].set_text(nbb_formatted_code);\n",
       "                        }\n",
       "                        break;\n",
       "                    }\n",
       "                }\n",
       "            }, 500);\n",
       "            "
      ],
      "text/plain": [
       "<IPython.core.display.Javascript object>"
      ]
     },
     "metadata": {},
     "output_type": "display_data"
    }
   ],
   "source": [
    "np.exp(np.log(635841))\n",
    "# undoes nat log np.log\n",
    "# run tukey, then exponemntiate ci bounds"
   ]
  },
  {
   "cell_type": "code",
   "execution_count": 21,
   "metadata": {},
   "outputs": [
    {
     "data": {
      "image/png": "[encoded data removed]",
      "text/plain": [
       "<Figure size 216x216 with 1 Axes>"
      ]
     },
     "metadata": {
      "needs_background": "light"
     },
     "output_type": "display_data"
    },
    {
     "data": {
      "application/javascript": [
       "\n",
       "            setTimeout(function() {\n",
       "                var nbb_cell_id = 21;\n",
       "                var nbb_unformatted_code = \"fg = sns.FacetGrid(data=vg_00_10, hue=\\\"Genre\\\")\\nfg.map(sns.distplot, \\\"NA_Sales\\\")\\nplt.legend()\\nplt.show()\";\n",
       "                var nbb_formatted_code = \"fg = sns.FacetGrid(data=vg_00_10, hue=\\\"Genre\\\")\\nfg.map(sns.distplot, \\\"NA_Sales\\\")\\nplt.legend()\\nplt.show()\";\n",
       "                var nbb_cells = Jupyter.notebook.get_cells();\n",
       "                for (var i = 0; i < nbb_cells.length; ++i) {\n",
       "                    if (nbb_cells[i].input_prompt_number == nbb_cell_id) {\n",
       "                        if (nbb_cells[i].get_text() == nbb_unformatted_code) {\n",
       "                             nbb_cells[i].set_text(nbb_formatted_code);\n",
       "                        }\n",
       "                        break;\n",
       "                    }\n",
       "                }\n",
       "            }, 500);\n",
       "            "
      ],
      "text/plain": [
       "<IPython.core.display.Javascript object>"
      ]
     },
     "metadata": {},
     "output_type": "display_data"
    }
   ],
   "source": [
    "fg = sns.FacetGrid(data=vg_00_10, hue=\"Genre\")\n",
    "fg.map(sns.distplot, \"NA_Sales\")\n",
    "plt.legend()\n",
    "plt.show()"
   ]
  },
  {
   "cell_type": "code",
   "execution_count": 22,
   "metadata": {},
   "outputs": [
    {
     "data": {
      "application/javascript": [
       "\n",
       "            setTimeout(function() {\n",
       "                var nbb_cell_id = 22;\n",
       "                var nbb_unformatted_code = \"# separate based on genres.\\nsports = vg_00_10[vg_00_10[\\\"Genre\\\"] == \\\"Sports\\\"]\\naction = vg_00_10[vg_00_10[\\\"Genre\\\"] == \\\"Action\\\"]\\nmisc = vg_00_10[vg_00_10[\\\"Genre\\\"] == \\\"Misc\\\"]\\nrpg = vg_00_10[vg_00_10[\\\"Genre\\\"] == \\\"Role-Playing\\\"]\\nadventure = vg_00_10[vg_00_10[\\\"Genre\\\"] == \\\"Adevnture\\\"]\\nshooter = vg_00_10[vg_00_10[\\\"Genre\\\"] == \\\"Shooter\\\"]\\nracing = vg_00_10[vg_00_10[\\\"Genre\\\"] == \\\"Racing\\\"]\\nsim = vg_00_10[vg_00_10[\\\"Genre\\\"] == \\\"Simulation\\\"]\\nplatform = vg_00_10[vg_00_10[\\\"Genre\\\"] == \\\"Platform\\\"]\\nfighting = vg_00_10[vg_00_10[\\\"Genre\\\"] == \\\"Fighting\\\"]\\nstrategy = vg_00_10[vg_00_10[\\\"Genre\\\"] == \\\"Strategy\\\"]\\npuzzle = vg_00_10[vg_00_10[\\\"Genre\\\"] == \\\"Puzzle\\\"]\";\n",
       "                var nbb_formatted_code = \"# separate based on genres.\\nsports = vg_00_10[vg_00_10[\\\"Genre\\\"] == \\\"Sports\\\"]\\naction = vg_00_10[vg_00_10[\\\"Genre\\\"] == \\\"Action\\\"]\\nmisc = vg_00_10[vg_00_10[\\\"Genre\\\"] == \\\"Misc\\\"]\\nrpg = vg_00_10[vg_00_10[\\\"Genre\\\"] == \\\"Role-Playing\\\"]\\nadventure = vg_00_10[vg_00_10[\\\"Genre\\\"] == \\\"Adevnture\\\"]\\nshooter = vg_00_10[vg_00_10[\\\"Genre\\\"] == \\\"Shooter\\\"]\\nracing = vg_00_10[vg_00_10[\\\"Genre\\\"] == \\\"Racing\\\"]\\nsim = vg_00_10[vg_00_10[\\\"Genre\\\"] == \\\"Simulation\\\"]\\nplatform = vg_00_10[vg_00_10[\\\"Genre\\\"] == \\\"Platform\\\"]\\nfighting = vg_00_10[vg_00_10[\\\"Genre\\\"] == \\\"Fighting\\\"]\\nstrategy = vg_00_10[vg_00_10[\\\"Genre\\\"] == \\\"Strategy\\\"]\\npuzzle = vg_00_10[vg_00_10[\\\"Genre\\\"] == \\\"Puzzle\\\"]\";\n",
       "                var nbb_cells = Jupyter.notebook.get_cells();\n",
       "                for (var i = 0; i < nbb_cells.length; ++i) {\n",
       "                    if (nbb_cells[i].input_prompt_number == nbb_cell_id) {\n",
       "                        if (nbb_cells[i].get_text() == nbb_unformatted_code) {\n",
       "                             nbb_cells[i].set_text(nbb_formatted_code);\n",
       "                        }\n",
       "                        break;\n",
       "                    }\n",
       "                }\n",
       "            }, 500);\n",
       "            "
      ],
      "text/plain": [
       "<IPython.core.display.Javascript object>"
      ]
     },
     "metadata": {},
     "output_type": "display_data"
    }
   ],
   "source": [
    "# separate based on genres.\n",
    "sports = vg_00_10[vg_00_10[\"Genre\"] == \"Sports\"]\n",
    "action = vg_00_10[vg_00_10[\"Genre\"] == \"Action\"]\n",
    "misc = vg_00_10[vg_00_10[\"Genre\"] == \"Misc\"]\n",
    "rpg = vg_00_10[vg_00_10[\"Genre\"] == \"Role-Playing\"]\n",
    "adventure = vg_00_10[vg_00_10[\"Genre\"] == \"Adevnture\"]\n",
    "shooter = vg_00_10[vg_00_10[\"Genre\"] == \"Shooter\"]\n",
    "racing = vg_00_10[vg_00_10[\"Genre\"] == \"Racing\"]\n",
    "sim = vg_00_10[vg_00_10[\"Genre\"] == \"Simulation\"]\n",
    "platform = vg_00_10[vg_00_10[\"Genre\"] == \"Platform\"]\n",
    "fighting = vg_00_10[vg_00_10[\"Genre\"] == \"Fighting\"]\n",
    "strategy = vg_00_10[vg_00_10[\"Genre\"] == \"Strategy\"]\n",
    "puzzle = vg_00_10[vg_00_10[\"Genre\"] == \"Puzzle\"]"
   ]
  },
  {
   "cell_type": "code",
   "execution_count": 23,
   "metadata": {},
   "outputs": [
    {
     "name": "stdout",
     "output_type": "stream",
     "text": [
      "(1600,)\n",
      "(2324,)\n",
      "(1092,)\n",
      "(778,)\n",
      "(0,)\n",
      "(997,)\n",
      "(931,)\n",
      "(558,)\n",
      "(663,)\n",
      "(473,)\n",
      "(280,)\n",
      "(382,)\n"
     ]
    },
    {
     "data": {
      "application/javascript": [
       "\n",
       "            setTimeout(function() {\n",
       "                var nbb_cell_id = 23;\n",
       "                var nbb_unformatted_code = \"print(sports[\\\"NA_Sales\\\"].shape)\\nprint(action[\\\"NA_Sales\\\"].shape)\\nprint(misc[\\\"NA_Sales\\\"].shape)\\nprint(rpg[\\\"NA_Sales\\\"].shape)\\nprint(adventure[\\\"NA_Sales\\\"].shape)\\nprint(shooter[\\\"NA_Sales\\\"].shape)\\nprint(racing[\\\"NA_Sales\\\"].shape)\\nprint(sim[\\\"NA_Sales\\\"].shape)\\nprint(platform[\\\"NA_Sales\\\"].shape)\\nprint(fighting[\\\"NA_Sales\\\"].shape)\\nprint(strategy[\\\"NA_Sales\\\"].shape)\\nprint(puzzle[\\\"NA_Sales\\\"].shape)\\n\\n# there are no adventure games released in these years in this data.\";\n",
       "                var nbb_formatted_code = \"print(sports[\\\"NA_Sales\\\"].shape)\\nprint(action[\\\"NA_Sales\\\"].shape)\\nprint(misc[\\\"NA_Sales\\\"].shape)\\nprint(rpg[\\\"NA_Sales\\\"].shape)\\nprint(adventure[\\\"NA_Sales\\\"].shape)\\nprint(shooter[\\\"NA_Sales\\\"].shape)\\nprint(racing[\\\"NA_Sales\\\"].shape)\\nprint(sim[\\\"NA_Sales\\\"].shape)\\nprint(platform[\\\"NA_Sales\\\"].shape)\\nprint(fighting[\\\"NA_Sales\\\"].shape)\\nprint(strategy[\\\"NA_Sales\\\"].shape)\\nprint(puzzle[\\\"NA_Sales\\\"].shape)\\n\\n# there are no adventure games released in these years in this data.\";\n",
       "                var nbb_cells = Jupyter.notebook.get_cells();\n",
       "                for (var i = 0; i < nbb_cells.length; ++i) {\n",
       "                    if (nbb_cells[i].input_prompt_number == nbb_cell_id) {\n",
       "                        if (nbb_cells[i].get_text() == nbb_unformatted_code) {\n",
       "                             nbb_cells[i].set_text(nbb_formatted_code);\n",
       "                        }\n",
       "                        break;\n",
       "                    }\n",
       "                }\n",
       "            }, 500);\n",
       "            "
      ],
      "text/plain": [
       "<IPython.core.display.Javascript object>"
      ]
     },
     "metadata": {},
     "output_type": "display_data"
    }
   ],
   "source": [
    "print(sports[\"NA_Sales\"].shape)\n",
    "print(action[\"NA_Sales\"].shape)\n",
    "print(misc[\"NA_Sales\"].shape)\n",
    "print(rpg[\"NA_Sales\"].shape)\n",
    "print(adventure[\"NA_Sales\"].shape)\n",
    "print(shooter[\"NA_Sales\"].shape)\n",
    "print(racing[\"NA_Sales\"].shape)\n",
    "print(sim[\"NA_Sales\"].shape)\n",
    "print(platform[\"NA_Sales\"].shape)\n",
    "print(fighting[\"NA_Sales\"].shape)\n",
    "print(strategy[\"NA_Sales\"].shape)\n",
    "print(puzzle[\"NA_Sales\"].shape)\n",
    "\n",
    "# there are no adventure games released in these years in this data."
   ]
  },
  {
   "cell_type": "code",
   "execution_count": 27,
   "metadata": {},
   "outputs": [
    {
     "data": {
      "application/javascript": [
       "\n",
       "            setTimeout(function() {\n",
       "                var nbb_cell_id = 27;\n",
       "                var nbb_unformatted_code = \"# test distributions for normality\\n# vg_00_10.groupby(\\\"Genre\\\").hist(column=\\\"log_na_sales\\\")\";\n",
       "                var nbb_formatted_code = \"# test distributions for normality\\n# vg_00_10.groupby(\\\"Genre\\\").hist(column=\\\"log_na_sales\\\")\";\n",
       "                var nbb_cells = Jupyter.notebook.get_cells();\n",
       "                for (var i = 0; i < nbb_cells.length; ++i) {\n",
       "                    if (nbb_cells[i].input_prompt_number == nbb_cell_id) {\n",
       "                        if (nbb_cells[i].get_text() == nbb_unformatted_code) {\n",
       "                             nbb_cells[i].set_text(nbb_formatted_code);\n",
       "                        }\n",
       "                        break;\n",
       "                    }\n",
       "                }\n",
       "            }, 500);\n",
       "            "
      ],
      "text/plain": [
       "<IPython.core.display.Javascript object>"
      ]
     },
     "metadata": {},
     "output_type": "display_data"
    }
   ],
   "source": [
    "# test distributions for normality\n",
    "# vg_00_10.groupby(\"Genre\").hist(column=\"log_na_sales\")\n"
   ]
  },
  {
   "cell_type": "code",
   "execution_count": 25,
   "metadata": {},
   "outputs": [
    {
     "data": {
      "text/plain": [
       "F_onewayResult(statistic=22.94814618074259, pvalue=3.663062209489204e-43)"
      ]
     },
     "execution_count": 25,
     "metadata": {},
     "output_type": "execute_result"
    },
    {
     "data": {
      "application/javascript": [
       "\n",
       "            setTimeout(function() {\n",
       "                var nbb_cell_id = 25;\n",
       "                var nbb_unformatted_code = \"stats.f_oneway(\\n    sports[\\\"log_na_sales\\\"],\\n    action[\\\"log_na_sales\\\"],\\n    misc['log_na_sales'],\\n    rpg[\\\"log_na_sales\\\"],\\n    shooter[\\\"log_na_sales\\\"],\\n    racing[\\\"log_na_sales\\\"],\\n    sim[\\\"log_na_sales\\\"],\\n    platform[\\\"log_na_sales\\\"],\\n    fighting[\\\"log_na_sales\\\"],\\n    strategy[\\\"log_na_sales\\\"],\\n    puzzle[\\\"log_na_sales\\\"],\\n)\";\n",
       "                var nbb_formatted_code = \"stats.f_oneway(\\n    sports[\\\"log_na_sales\\\"],\\n    action[\\\"log_na_sales\\\"],\\n    misc[\\\"log_na_sales\\\"],\\n    rpg[\\\"log_na_sales\\\"],\\n    shooter[\\\"log_na_sales\\\"],\\n    racing[\\\"log_na_sales\\\"],\\n    sim[\\\"log_na_sales\\\"],\\n    platform[\\\"log_na_sales\\\"],\\n    fighting[\\\"log_na_sales\\\"],\\n    strategy[\\\"log_na_sales\\\"],\\n    puzzle[\\\"log_na_sales\\\"],\\n)\";\n",
       "                var nbb_cells = Jupyter.notebook.get_cells();\n",
       "                for (var i = 0; i < nbb_cells.length; ++i) {\n",
       "                    if (nbb_cells[i].input_prompt_number == nbb_cell_id) {\n",
       "                        if (nbb_cells[i].get_text() == nbb_unformatted_code) {\n",
       "                             nbb_cells[i].set_text(nbb_formatted_code);\n",
       "                        }\n",
       "                        break;\n",
       "                    }\n",
       "                }\n",
       "            }, 500);\n",
       "            "
      ],
      "text/plain": [
       "<IPython.core.display.Javascript object>"
      ]
     },
     "metadata": {},
     "output_type": "display_data"
    }
   ],
   "source": [
    "stats.f_oneway(\n",
    "    sports[\"log_na_sales\"],\n",
    "    action[\"log_na_sales\"],\n",
    "    misc['log_na_sales'],\n",
    "    rpg[\"log_na_sales\"],\n",
    "    shooter[\"log_na_sales\"],\n",
    "    racing[\"log_na_sales\"],\n",
    "    sim[\"log_na_sales\"],\n",
    "    platform[\"log_na_sales\"],\n",
    "    fighting[\"log_na_sales\"],\n",
    "    strategy[\"log_na_sales\"],\n",
    "    puzzle[\"log_na_sales\"],\n",
    ")\n"
   ]
  },
  {
   "cell_type": "markdown",
   "metadata": {},
   "source": [
    "sports x action\n",
    "sports x rpg\n",
    "sports x shooter\n",
    "sports x racing\n",
    "sports x sim\n",
    "sports x platform\n",
    "sports x fighting\n",
    "sports x strategy\n",
    "sports x puzzle\n",
    "\n",
    "action x rpg\n",
    "action x shooter\n",
    "action x racing\n",
    "action x sim\n",
    "action x platform\n",
    "action x fighting\n",
    "action x strategy\n",
    "action x puzzle\n",
    "\n",
    "rpg x shooter\n",
    "rpg x racing\n",
    "rpg x sim\n",
    "rpg x platform\n",
    "rpg x fighting\n",
    "rpg x strategy\n",
    "rpg x puzzle\n",
    "\n",
    "shooter x racing\n",
    "shooter x sim\n",
    "shooter x platform\n",
    "shooter x fighting\n",
    "shooter x strategy\n",
    "shooter x puzzle\n",
    "\n",
    "racing x sim\n",
    "racing x platform\n",
    "racing x fighting\n",
    "racing x strategy\n",
    "racing x puzzle\n",
    "\n",
    "sim x platform\n",
    "sim x fighting\n",
    "sim x strategy\n",
    "sim x puzzle\n",
    "\n",
    "platform x fighting\n",
    "platform x strategy\n",
    "platform x puzzle\n",
    "\n",
    "fighting x strategy\n",
    "fighting x puzzle\n",
    "\n",
    "strategy x puzzle\n",
    "\n"
   ]
  },
  {
   "cell_type": "code",
   "execution_count": null,
   "metadata": {},
   "outputs": [],
   "source": []
  },
  {
   "cell_type": "code",
   "execution_count": null,
   "metadata": {},
   "outputs": [],
   "source": []
  },
  {
   "cell_type": "code",
   "execution_count": null,
   "metadata": {},
   "outputs": [],
   "source": []
  },
  {
   "cell_type": "code",
   "execution_count": null,
   "metadata": {},
   "outputs": [],
   "source": []
  }
 ],
 "metadata": {
  "kernelspec": {
   "display_name": "Python 3",
   "language": "python",
   "name": "python3"
  },
  "language_info": {
   "codemirror_mode": {
    "name": "ipython",
    "version": 3
   },
   "file_extension": ".py",
   "mimetype": "text/x-python",
   "name": "python",
   "nbconvert_exporter": "python",
   "pygments_lexer": "ipython3",
   "version": "3.7.6"
  }
 },
 "nbformat": 4,
 "nbformat_minor": 4
}
