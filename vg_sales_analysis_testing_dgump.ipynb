{
 "cells": [
  {
   "cell_type": "code",
   "execution_count": 34,
   "metadata": {},
   "outputs": [
    {
     "data": {
      "application/javascript": [
       "\n",
       "            setTimeout(function() {\n",
       "                var nbb_cell_id = 34;\n",
       "                var nbb_unformatted_code = \"import pandas as pd\\nimport numpy as np\\nfrom scipy import stats\\nfrom statsmodels.graphics.gofplots import qqplot\\nfrom statsmodels.stats.multitest import multipletests\\nimport seaborn as sns\\nimport matplotlib.pyplot as plt\\nfrom statsmodels.formula.api import ols\\nfrom statsmodels.stats.multicomp import pairwise_tukeyhsd\\n\\n\\n%matplotlib inline\\n%reload_ext nb_black\";\n",
       "                var nbb_formatted_code = \"import pandas as pd\\nimport numpy as np\\nfrom scipy import stats\\nfrom statsmodels.graphics.gofplots import qqplot\\nfrom statsmodels.stats.multitest import multipletests\\nimport seaborn as sns\\nimport matplotlib.pyplot as plt\\nfrom statsmodels.formula.api import ols\\nfrom statsmodels.stats.multicomp import pairwise_tukeyhsd\\n\\n\\n%matplotlib inline\\n%reload_ext nb_black\";\n",
       "                var nbb_cells = Jupyter.notebook.get_cells();\n",
       "                for (var i = 0; i < nbb_cells.length; ++i) {\n",
       "                    if (nbb_cells[i].input_prompt_number == nbb_cell_id) {\n",
       "                        if (nbb_cells[i].get_text() == nbb_unformatted_code) {\n",
       "                             nbb_cells[i].set_text(nbb_formatted_code);\n",
       "                        }\n",
       "                        break;\n",
       "                    }\n",
       "                }\n",
       "            }, 500);\n",
       "            "
      ],
      "text/plain": [
       "<IPython.core.display.Javascript object>"
      ]
     },
     "metadata": {},
     "output_type": "display_data"
    },
    {
     "data": {
      "application/javascript": [
       "\n",
       "            setTimeout(function() {\n",
       "                var nbb_cell_id = 34;\n",
       "                var nbb_unformatted_code = \"import pandas as pd\\nimport numpy as np\\nfrom scipy import stats\\nfrom statsmodels.graphics.gofplots import qqplot\\nfrom statsmodels.stats.multitest import multipletests\\nimport seaborn as sns\\nimport matplotlib.pyplot as plt\\nfrom statsmodels.formula.api import ols\\nfrom statsmodels.stats.multicomp import pairwise_tukeyhsd\\n\\n\\n%matplotlib inline\\n%reload_ext nb_black\";\n",
       "                var nbb_formatted_code = \"import pandas as pd\\nimport numpy as np\\nfrom scipy import stats\\nfrom statsmodels.graphics.gofplots import qqplot\\nfrom statsmodels.stats.multitest import multipletests\\nimport seaborn as sns\\nimport matplotlib.pyplot as plt\\nfrom statsmodels.formula.api import ols\\nfrom statsmodels.stats.multicomp import pairwise_tukeyhsd\\n\\n\\n%matplotlib inline\\n%reload_ext nb_black\";\n",
       "                var nbb_cells = Jupyter.notebook.get_cells();\n",
       "                for (var i = 0; i < nbb_cells.length; ++i) {\n",
       "                    if (nbb_cells[i].input_prompt_number == nbb_cell_id) {\n",
       "                        if (nbb_cells[i].get_text() == nbb_unformatted_code) {\n",
       "                             nbb_cells[i].set_text(nbb_formatted_code);\n",
       "                        }\n",
       "                        break;\n",
       "                    }\n",
       "                }\n",
       "            }, 500);\n",
       "            "
      ],
      "text/plain": [
       "<IPython.core.display.Javascript object>"
      ]
     },
     "metadata": {},
     "output_type": "display_data"
    },
    {
     "data": {
      "application/javascript": [
       "\n",
       "            setTimeout(function() {\n",
       "                var nbb_cell_id = 34;\n",
       "                var nbb_unformatted_code = \"import pandas as pd\\nimport numpy as np\\nfrom scipy import stats\\nfrom statsmodels.graphics.gofplots import qqplot\\nfrom statsmodels.stats.multitest import multipletests\\nimport seaborn as sns\\nimport matplotlib.pyplot as plt\\nfrom statsmodels.formula.api import ols\\nfrom statsmodels.stats.multicomp import pairwise_tukeyhsd\\n\\n\\n%matplotlib inline\\n%reload_ext nb_black\";\n",
       "                var nbb_formatted_code = \"import pandas as pd\\nimport numpy as np\\nfrom scipy import stats\\nfrom statsmodels.graphics.gofplots import qqplot\\nfrom statsmodels.stats.multitest import multipletests\\nimport seaborn as sns\\nimport matplotlib.pyplot as plt\\nfrom statsmodels.formula.api import ols\\nfrom statsmodels.stats.multicomp import pairwise_tukeyhsd\\n\\n\\n%matplotlib inline\\n%reload_ext nb_black\";\n",
       "                var nbb_cells = Jupyter.notebook.get_cells();\n",
       "                for (var i = 0; i < nbb_cells.length; ++i) {\n",
       "                    if (nbb_cells[i].input_prompt_number == nbb_cell_id) {\n",
       "                        if (nbb_cells[i].get_text() == nbb_unformatted_code) {\n",
       "                             nbb_cells[i].set_text(nbb_formatted_code);\n",
       "                        }\n",
       "                        break;\n",
       "                    }\n",
       "                }\n",
       "            }, 500);\n",
       "            "
      ],
      "text/plain": [
       "<IPython.core.display.Javascript object>"
      ]
     },
     "metadata": {},
     "output_type": "display_data"
    }
   ],
   "source": [
    "import pandas as pd\n",
    "import numpy as np\n",
    "from scipy import stats\n",
    "from statsmodels.graphics.gofplots import qqplot\n",
    "from statsmodels.stats.multitest import multipletests\n",
    "import seaborn as sns\n",
    "import matplotlib.pyplot as plt\n",
    "from statsmodels.formula.api import ols\n",
    "from statsmodels.stats.multicomp import pairwise_tukeyhsd\n",
    "\n",
    "\n",
    "%matplotlib inline\n",
    "%reload_ext nb_black"
   ]
  },
  {
   "cell_type": "code",
   "execution_count": 2,
   "metadata": {},
   "outputs": [
    {
     "data": {
      "text/html": [
       "<div>\n",
       "<style scoped>\n",
       "    .dataframe tbody tr th:only-of-type {\n",
       "        vertical-align: middle;\n",
       "    }\n",
       "\n",
       "    .dataframe tbody tr th {\n",
       "        vertical-align: top;\n",
       "    }\n",
       "\n",
       "    .dataframe thead th {\n",
       "        text-align: right;\n",
       "    }\n",
       "</style>\n",
       "<table border=\"1\" class=\"dataframe\">\n",
       "  <thead>\n",
       "    <tr style=\"text-align: right;\">\n",
       "      <th></th>\n",
       "      <th>Rank</th>\n",
       "      <th>Name</th>\n",
       "      <th>Platform</th>\n",
       "      <th>Year</th>\n",
       "      <th>Genre</th>\n",
       "      <th>Publisher</th>\n",
       "      <th>NA_Sales</th>\n",
       "      <th>EU_Sales</th>\n",
       "      <th>JP_Sales</th>\n",
       "      <th>Other_Sales</th>\n",
       "      <th>Global_Sales</th>\n",
       "    </tr>\n",
       "  </thead>\n",
       "  <tbody>\n",
       "    <tr>\n",
       "      <th>0</th>\n",
       "      <td>1</td>\n",
       "      <td>Wii Sports</td>\n",
       "      <td>Wii</td>\n",
       "      <td>2006.0</td>\n",
       "      <td>Sports</td>\n",
       "      <td>Nintendo</td>\n",
       "      <td>41.49</td>\n",
       "      <td>29.02</td>\n",
       "      <td>3.77</td>\n",
       "      <td>8.46</td>\n",
       "      <td>82.74</td>\n",
       "    </tr>\n",
       "    <tr>\n",
       "      <th>1</th>\n",
       "      <td>2</td>\n",
       "      <td>Super Mario Bros.</td>\n",
       "      <td>NES</td>\n",
       "      <td>1985.0</td>\n",
       "      <td>Platform</td>\n",
       "      <td>Nintendo</td>\n",
       "      <td>29.08</td>\n",
       "      <td>3.58</td>\n",
       "      <td>6.81</td>\n",
       "      <td>0.77</td>\n",
       "      <td>40.24</td>\n",
       "    </tr>\n",
       "    <tr>\n",
       "      <th>2</th>\n",
       "      <td>3</td>\n",
       "      <td>Mario Kart Wii</td>\n",
       "      <td>Wii</td>\n",
       "      <td>2008.0</td>\n",
       "      <td>Racing</td>\n",
       "      <td>Nintendo</td>\n",
       "      <td>15.85</td>\n",
       "      <td>12.88</td>\n",
       "      <td>3.79</td>\n",
       "      <td>3.31</td>\n",
       "      <td>35.82</td>\n",
       "    </tr>\n",
       "    <tr>\n",
       "      <th>3</th>\n",
       "      <td>4</td>\n",
       "      <td>Wii Sports Resort</td>\n",
       "      <td>Wii</td>\n",
       "      <td>2009.0</td>\n",
       "      <td>Sports</td>\n",
       "      <td>Nintendo</td>\n",
       "      <td>15.75</td>\n",
       "      <td>11.01</td>\n",
       "      <td>3.28</td>\n",
       "      <td>2.96</td>\n",
       "      <td>33.00</td>\n",
       "    </tr>\n",
       "    <tr>\n",
       "      <th>4</th>\n",
       "      <td>5</td>\n",
       "      <td>Pokemon Red/Pokemon Blue</td>\n",
       "      <td>GB</td>\n",
       "      <td>1996.0</td>\n",
       "      <td>Role-Playing</td>\n",
       "      <td>Nintendo</td>\n",
       "      <td>11.27</td>\n",
       "      <td>8.89</td>\n",
       "      <td>10.22</td>\n",
       "      <td>1.00</td>\n",
       "      <td>31.37</td>\n",
       "    </tr>\n",
       "  </tbody>\n",
       "</table>\n",
       "</div>"
      ],
      "text/plain": [
       "   Rank                      Name Platform    Year         Genre Publisher  \\\n",
       "0     1                Wii Sports      Wii  2006.0        Sports  Nintendo   \n",
       "1     2         Super Mario Bros.      NES  1985.0      Platform  Nintendo   \n",
       "2     3            Mario Kart Wii      Wii  2008.0        Racing  Nintendo   \n",
       "3     4         Wii Sports Resort      Wii  2009.0        Sports  Nintendo   \n",
       "4     5  Pokemon Red/Pokemon Blue       GB  1996.0  Role-Playing  Nintendo   \n",
       "\n",
       "   NA_Sales  EU_Sales  JP_Sales  Other_Sales  Global_Sales  \n",
       "0     41.49     29.02      3.77         8.46         82.74  \n",
       "1     29.08      3.58      6.81         0.77         40.24  \n",
       "2     15.85     12.88      3.79         3.31         35.82  \n",
       "3     15.75     11.01      3.28         2.96         33.00  \n",
       "4     11.27      8.89     10.22         1.00         31.37  "
      ]
     },
     "execution_count": 2,
     "metadata": {},
     "output_type": "execute_result"
    },
    {
     "data": {
      "application/javascript": [
       "\n",
       "            setTimeout(function() {\n",
       "                var nbb_cell_id = 2;\n",
       "                var nbb_unformatted_code = \"# load in the data\\ndata_path = \\\"data/vgsales.csv\\\"\\nvg_sales = pd.read_csv(data_path)\\nvg_sales.head()\";\n",
       "                var nbb_formatted_code = \"# load in the data\\ndata_path = \\\"data/vgsales.csv\\\"\\nvg_sales = pd.read_csv(data_path)\\nvg_sales.head()\";\n",
       "                var nbb_cells = Jupyter.notebook.get_cells();\n",
       "                for (var i = 0; i < nbb_cells.length; ++i) {\n",
       "                    if (nbb_cells[i].input_prompt_number == nbb_cell_id) {\n",
       "                        if (nbb_cells[i].get_text() == nbb_unformatted_code) {\n",
       "                             nbb_cells[i].set_text(nbb_formatted_code);\n",
       "                        }\n",
       "                        break;\n",
       "                    }\n",
       "                }\n",
       "            }, 500);\n",
       "            "
      ],
      "text/plain": [
       "<IPython.core.display.Javascript object>"
      ]
     },
     "metadata": {},
     "output_type": "display_data"
    }
   ],
   "source": [
    "# load in the data\n",
    "data_path = \"data/vgsales.csv\"\n",
    "vg_sales = pd.read_csv(data_path)\n",
    "vg_sales.head()"
   ]
  },
  {
   "cell_type": "code",
   "execution_count": 3,
   "metadata": {},
   "outputs": [
    {
     "data": {
      "application/javascript": [
       "\n",
       "            setTimeout(function() {\n",
       "                var nbb_cell_id = 3;\n",
       "                var nbb_unformatted_code = \"# drop wii sports\\nvg_sales = vg_sales[vg_sales[\\\"Name\\\"] != \\\"Wii Sports\\\"]\";\n",
       "                var nbb_formatted_code = \"# drop wii sports\\nvg_sales = vg_sales[vg_sales[\\\"Name\\\"] != \\\"Wii Sports\\\"]\";\n",
       "                var nbb_cells = Jupyter.notebook.get_cells();\n",
       "                for (var i = 0; i < nbb_cells.length; ++i) {\n",
       "                    if (nbb_cells[i].input_prompt_number == nbb_cell_id) {\n",
       "                        if (nbb_cells[i].get_text() == nbb_unformatted_code) {\n",
       "                             nbb_cells[i].set_text(nbb_formatted_code);\n",
       "                        }\n",
       "                        break;\n",
       "                    }\n",
       "                }\n",
       "            }, 500);\n",
       "            "
      ],
      "text/plain": [
       "<IPython.core.display.Javascript object>"
      ]
     },
     "metadata": {},
     "output_type": "display_data"
    }
   ],
   "source": [
    "# drop wii sports\n",
    "vg_sales = vg_sales[vg_sales[\"Name\"] != \"Wii Sports\"]"
   ]
  },
  {
   "cell_type": "code",
   "execution_count": 4,
   "metadata": {},
   "outputs": [
    {
     "data": {
      "application/javascript": [
       "\n",
       "            setTimeout(function() {\n",
       "                var nbb_cell_id = 4;\n",
       "                var nbb_unformatted_code = \"# create 'decade' field for each game\\neighties = list(range(1980, 1990))\\nnineties = list(range(1990, 2000))\\noughts = list(range(2000, 2010))\\ntens = list(range(2010, 2020))\\ntwenties = list(range(2020, 2030))\\n\\nvg_sales[\\\"decade\\\"] = \\\"80s\\\"\\nvg_sales.loc[vg_sales[\\\"Year\\\"].isin(nineties), \\\"decade\\\"] = \\\"90s\\\"\\nvg_sales.loc[vg_sales[\\\"Year\\\"].isin(oughts), \\\"decade\\\"] = \\\"00s\\\"\\nvg_sales.loc[vg_sales[\\\"Year\\\"].isin(tens), \\\"decade\\\"] = \\\"10s\\\"\\nvg_sales.loc[vg_sales[\\\"Year\\\"].isin(twenties), \\\"decade\\\"] = \\\"20s\\\"\";\n",
       "                var nbb_formatted_code = \"# create 'decade' field for each game\\neighties = list(range(1980, 1990))\\nnineties = list(range(1990, 2000))\\noughts = list(range(2000, 2010))\\ntens = list(range(2010, 2020))\\ntwenties = list(range(2020, 2030))\\n\\nvg_sales[\\\"decade\\\"] = \\\"80s\\\"\\nvg_sales.loc[vg_sales[\\\"Year\\\"].isin(nineties), \\\"decade\\\"] = \\\"90s\\\"\\nvg_sales.loc[vg_sales[\\\"Year\\\"].isin(oughts), \\\"decade\\\"] = \\\"00s\\\"\\nvg_sales.loc[vg_sales[\\\"Year\\\"].isin(tens), \\\"decade\\\"] = \\\"10s\\\"\\nvg_sales.loc[vg_sales[\\\"Year\\\"].isin(twenties), \\\"decade\\\"] = \\\"20s\\\"\";\n",
       "                var nbb_cells = Jupyter.notebook.get_cells();\n",
       "                for (var i = 0; i < nbb_cells.length; ++i) {\n",
       "                    if (nbb_cells[i].input_prompt_number == nbb_cell_id) {\n",
       "                        if (nbb_cells[i].get_text() == nbb_unformatted_code) {\n",
       "                             nbb_cells[i].set_text(nbb_formatted_code);\n",
       "                        }\n",
       "                        break;\n",
       "                    }\n",
       "                }\n",
       "            }, 500);\n",
       "            "
      ],
      "text/plain": [
       "<IPython.core.display.Javascript object>"
      ]
     },
     "metadata": {},
     "output_type": "display_data"
    }
   ],
   "source": [
    "# create 'decade' field for each game\n",
    "eighties = list(range(1980, 1990))\n",
    "nineties = list(range(1990, 2000))\n",
    "oughts = list(range(2000, 2010))\n",
    "tens = list(range(2010, 2020))\n",
    "twenties = list(range(2020, 2030))\n",
    "\n",
    "vg_sales[\"decade\"] = \"80s\"\n",
    "vg_sales.loc[vg_sales[\"Year\"].isin(nineties), \"decade\"] = \"90s\"\n",
    "vg_sales.loc[vg_sales[\"Year\"].isin(oughts), \"decade\"] = \"00s\"\n",
    "vg_sales.loc[vg_sales[\"Year\"].isin(tens), \"decade\"] = \"10s\"\n",
    "vg_sales.loc[vg_sales[\"Year\"].isin(twenties), \"decade\"] = \"20s\""
   ]
  },
  {
   "cell_type": "code",
   "execution_count": 5,
   "metadata": {},
   "outputs": [
    {
     "data": {
      "text/plain": [
       "00s    9207\n",
       "10s    5144\n",
       "Name: decade, dtype: int64"
      ]
     },
     "execution_count": 5,
     "metadata": {},
     "output_type": "execute_result"
    },
    {
     "data": {
      "application/javascript": [
       "\n",
       "            setTimeout(function() {\n",
       "                var nbb_cell_id = 5;\n",
       "                var nbb_unformatted_code = \"# select 2000-2019\\nvg_00_10 = vg_sales[vg_sales[\\\"decade\\\"] != \\\"80s\\\"]\\nvg_00_10 = vg_00_10[vg_00_10[\\\"decade\\\"] != \\\"20s\\\"]\\nvg_00_10 = vg_00_10[vg_00_10[\\\"decade\\\"] != \\\"90s\\\"]\\nvg_00_10.decade.value_counts()\";\n",
       "                var nbb_formatted_code = \"# select 2000-2019\\nvg_00_10 = vg_sales[vg_sales[\\\"decade\\\"] != \\\"80s\\\"]\\nvg_00_10 = vg_00_10[vg_00_10[\\\"decade\\\"] != \\\"20s\\\"]\\nvg_00_10 = vg_00_10[vg_00_10[\\\"decade\\\"] != \\\"90s\\\"]\\nvg_00_10.decade.value_counts()\";\n",
       "                var nbb_cells = Jupyter.notebook.get_cells();\n",
       "                for (var i = 0; i < nbb_cells.length; ++i) {\n",
       "                    if (nbb_cells[i].input_prompt_number == nbb_cell_id) {\n",
       "                        if (nbb_cells[i].get_text() == nbb_unformatted_code) {\n",
       "                             nbb_cells[i].set_text(nbb_formatted_code);\n",
       "                        }\n",
       "                        break;\n",
       "                    }\n",
       "                }\n",
       "            }, 500);\n",
       "            "
      ],
      "text/plain": [
       "<IPython.core.display.Javascript object>"
      ]
     },
     "metadata": {},
     "output_type": "display_data"
    }
   ],
   "source": [
    "# select 2000-2019\n",
    "vg_00_10 = vg_sales[vg_sales[\"decade\"] != \"80s\"]\n",
    "vg_00_10 = vg_00_10[vg_00_10[\"decade\"] != \"20s\"]\n",
    "vg_00_10 = vg_00_10[vg_00_10[\"decade\"] != \"90s\"]\n",
    "vg_00_10.decade.value_counts()"
   ]
  },
  {
   "cell_type": "code",
   "execution_count": 6,
   "metadata": {},
   "outputs": [
    {
     "data": {
      "text/plain": [
       "Rank             0\n",
       "Name             0\n",
       "Platform         0\n",
       "Year             0\n",
       "Genre            0\n",
       "Publisher       36\n",
       "NA_Sales         0\n",
       "EU_Sales         0\n",
       "JP_Sales         0\n",
       "Other_Sales      0\n",
       "Global_Sales     0\n",
       "decade           0\n",
       "dtype: int64"
      ]
     },
     "execution_count": 6,
     "metadata": {},
     "output_type": "execute_result"
    },
    {
     "data": {
      "application/javascript": [
       "\n",
       "            setTimeout(function() {\n",
       "                var nbb_cell_id = 6;\n",
       "                var nbb_unformatted_code = \"vg_00_10.isna().sum()\";\n",
       "                var nbb_formatted_code = \"vg_00_10.isna().sum()\";\n",
       "                var nbb_cells = Jupyter.notebook.get_cells();\n",
       "                for (var i = 0; i < nbb_cells.length; ++i) {\n",
       "                    if (nbb_cells[i].input_prompt_number == nbb_cell_id) {\n",
       "                        if (nbb_cells[i].get_text() == nbb_unformatted_code) {\n",
       "                             nbb_cells[i].set_text(nbb_formatted_code);\n",
       "                        }\n",
       "                        break;\n",
       "                    }\n",
       "                }\n",
       "            }, 500);\n",
       "            "
      ],
      "text/plain": [
       "<IPython.core.display.Javascript object>"
      ]
     },
     "metadata": {},
     "output_type": "display_data"
    }
   ],
   "source": [
    "vg_00_10.isna().sum()"
   ]
  },
  {
   "cell_type": "code",
   "execution_count": 7,
   "metadata": {
    "scrolled": true
   },
   "outputs": [
    {
     "data": {
      "text/plain": [
       "00s    7381\n",
       "10s    3191\n",
       "Name: decade, dtype: int64"
      ]
     },
     "execution_count": 7,
     "metadata": {},
     "output_type": "execute_result"
    },
    {
     "data": {
      "application/javascript": [
       "\n",
       "            setTimeout(function() {\n",
       "                var nbb_cell_id = 7;\n",
       "                var nbb_unformatted_code = \"# remove entries with zero 'NA_Sales'\\nvg_00_10 = vg_00_10[vg_00_10[\\\"NA_Sales\\\"] > 0]\\nvg_00_10 = vg_00_10.dropna()\\nvg_00_10.decade.value_counts()\";\n",
       "                var nbb_formatted_code = \"# remove entries with zero 'NA_Sales'\\nvg_00_10 = vg_00_10[vg_00_10[\\\"NA_Sales\\\"] > 0]\\nvg_00_10 = vg_00_10.dropna()\\nvg_00_10.decade.value_counts()\";\n",
       "                var nbb_cells = Jupyter.notebook.get_cells();\n",
       "                for (var i = 0; i < nbb_cells.length; ++i) {\n",
       "                    if (nbb_cells[i].input_prompt_number == nbb_cell_id) {\n",
       "                        if (nbb_cells[i].get_text() == nbb_unformatted_code) {\n",
       "                             nbb_cells[i].set_text(nbb_formatted_code);\n",
       "                        }\n",
       "                        break;\n",
       "                    }\n",
       "                }\n",
       "            }, 500);\n",
       "            "
      ],
      "text/plain": [
       "<IPython.core.display.Javascript object>"
      ]
     },
     "metadata": {},
     "output_type": "display_data"
    }
   ],
   "source": [
    "# remove entries with zero 'NA_Sales'\n",
    "vg_00_10 = vg_00_10[vg_00_10[\"NA_Sales\"] > 0]\n",
    "vg_00_10 = vg_00_10.dropna()\n",
    "vg_00_10.decade.value_counts()"
   ]
  },
  {
   "cell_type": "code",
   "execution_count": 8,
   "metadata": {},
   "outputs": [
    {
     "data": {
      "text/html": [
       "<div>\n",
       "<style scoped>\n",
       "    .dataframe tbody tr th:only-of-type {\n",
       "        vertical-align: middle;\n",
       "    }\n",
       "\n",
       "    .dataframe tbody tr th {\n",
       "        vertical-align: top;\n",
       "    }\n",
       "\n",
       "    .dataframe thead th {\n",
       "        text-align: right;\n",
       "    }\n",
       "</style>\n",
       "<table border=\"1\" class=\"dataframe\">\n",
       "  <thead>\n",
       "    <tr style=\"text-align: right;\">\n",
       "      <th></th>\n",
       "      <th>Rank</th>\n",
       "      <th>Name</th>\n",
       "      <th>Platform</th>\n",
       "      <th>Year</th>\n",
       "      <th>Genre</th>\n",
       "      <th>Publisher</th>\n",
       "      <th>NA_Sales</th>\n",
       "      <th>EU_Sales</th>\n",
       "      <th>JP_Sales</th>\n",
       "      <th>Other_Sales</th>\n",
       "      <th>Global_Sales</th>\n",
       "      <th>decade</th>\n",
       "    </tr>\n",
       "  </thead>\n",
       "  <tbody>\n",
       "    <tr>\n",
       "      <th>2</th>\n",
       "      <td>3</td>\n",
       "      <td>Mario Kart Wii</td>\n",
       "      <td>Wii</td>\n",
       "      <td>2008.0</td>\n",
       "      <td>Racing</td>\n",
       "      <td>Nintendo</td>\n",
       "      <td>15.85</td>\n",
       "      <td>12.88</td>\n",
       "      <td>3.79</td>\n",
       "      <td>3.31</td>\n",
       "      <td>35.82</td>\n",
       "      <td>00s</td>\n",
       "    </tr>\n",
       "    <tr>\n",
       "      <th>3</th>\n",
       "      <td>4</td>\n",
       "      <td>Wii Sports Resort</td>\n",
       "      <td>Wii</td>\n",
       "      <td>2009.0</td>\n",
       "      <td>Sports</td>\n",
       "      <td>Nintendo</td>\n",
       "      <td>15.75</td>\n",
       "      <td>11.01</td>\n",
       "      <td>3.28</td>\n",
       "      <td>2.96</td>\n",
       "      <td>33.00</td>\n",
       "      <td>00s</td>\n",
       "    </tr>\n",
       "    <tr>\n",
       "      <th>6</th>\n",
       "      <td>7</td>\n",
       "      <td>New Super Mario Bros.</td>\n",
       "      <td>DS</td>\n",
       "      <td>2006.0</td>\n",
       "      <td>Platform</td>\n",
       "      <td>Nintendo</td>\n",
       "      <td>11.38</td>\n",
       "      <td>9.23</td>\n",
       "      <td>6.50</td>\n",
       "      <td>2.90</td>\n",
       "      <td>30.01</td>\n",
       "      <td>00s</td>\n",
       "    </tr>\n",
       "    <tr>\n",
       "      <th>7</th>\n",
       "      <td>8</td>\n",
       "      <td>Wii Play</td>\n",
       "      <td>Wii</td>\n",
       "      <td>2006.0</td>\n",
       "      <td>Misc</td>\n",
       "      <td>Nintendo</td>\n",
       "      <td>14.03</td>\n",
       "      <td>9.20</td>\n",
       "      <td>2.93</td>\n",
       "      <td>2.85</td>\n",
       "      <td>29.02</td>\n",
       "      <td>00s</td>\n",
       "    </tr>\n",
       "    <tr>\n",
       "      <th>8</th>\n",
       "      <td>9</td>\n",
       "      <td>New Super Mario Bros. Wii</td>\n",
       "      <td>Wii</td>\n",
       "      <td>2009.0</td>\n",
       "      <td>Platform</td>\n",
       "      <td>Nintendo</td>\n",
       "      <td>14.59</td>\n",
       "      <td>7.06</td>\n",
       "      <td>4.70</td>\n",
       "      <td>2.26</td>\n",
       "      <td>28.62</td>\n",
       "      <td>00s</td>\n",
       "    </tr>\n",
       "  </tbody>\n",
       "</table>\n",
       "</div>"
      ],
      "text/plain": [
       "   Rank                       Name Platform    Year     Genre Publisher  \\\n",
       "2     3             Mario Kart Wii      Wii  2008.0    Racing  Nintendo   \n",
       "3     4          Wii Sports Resort      Wii  2009.0    Sports  Nintendo   \n",
       "6     7      New Super Mario Bros.       DS  2006.0  Platform  Nintendo   \n",
       "7     8                   Wii Play      Wii  2006.0      Misc  Nintendo   \n",
       "8     9  New Super Mario Bros. Wii      Wii  2009.0  Platform  Nintendo   \n",
       "\n",
       "   NA_Sales  EU_Sales  JP_Sales  Other_Sales  Global_Sales decade  \n",
       "2     15.85     12.88      3.79         3.31         35.82    00s  \n",
       "3     15.75     11.01      3.28         2.96         33.00    00s  \n",
       "6     11.38      9.23      6.50         2.90         30.01    00s  \n",
       "7     14.03      9.20      2.93         2.85         29.02    00s  \n",
       "8     14.59      7.06      4.70         2.26         28.62    00s  "
      ]
     },
     "execution_count": 8,
     "metadata": {},
     "output_type": "execute_result"
    },
    {
     "data": {
      "application/javascript": [
       "\n",
       "            setTimeout(function() {\n",
       "                var nbb_cell_id = 8;\n",
       "                var nbb_unformatted_code = \"vg_00_10.head()\";\n",
       "                var nbb_formatted_code = \"vg_00_10.head()\";\n",
       "                var nbb_cells = Jupyter.notebook.get_cells();\n",
       "                for (var i = 0; i < nbb_cells.length; ++i) {\n",
       "                    if (nbb_cells[i].input_prompt_number == nbb_cell_id) {\n",
       "                        if (nbb_cells[i].get_text() == nbb_unformatted_code) {\n",
       "                             nbb_cells[i].set_text(nbb_formatted_code);\n",
       "                        }\n",
       "                        break;\n",
       "                    }\n",
       "                }\n",
       "            }, 500);\n",
       "            "
      ],
      "text/plain": [
       "<IPython.core.display.Javascript object>"
      ]
     },
     "metadata": {},
     "output_type": "display_data"
    }
   ],
   "source": [
    "vg_00_10.head()"
   ]
  },
  {
   "cell_type": "code",
   "execution_count": 9,
   "metadata": {},
   "outputs": [
    {
     "data": {
      "text/plain": [
       "<matplotlib.axes._subplots.AxesSubplot at 0x2573d1da588>"
      ]
     },
     "execution_count": 9,
     "metadata": {},
     "output_type": "execute_result"
    },
    {
     "data": {
      "image/png": "[encoded data removed]",
      "text/plain": [
       "<Figure size 432x288 with 1 Axes>"
      ]
     },
     "metadata": {
      "needs_background": "light"
     },
     "output_type": "display_data"
    },
    {
     "data": {
      "application/javascript": [
       "\n",
       "            setTimeout(function() {\n",
       "                var nbb_cell_id = 9;\n",
       "                var nbb_unformatted_code = \"sns.lineplot(\\\"Year\\\", \\\"NA_Sales\\\", hue=\\\"Genre\\\", ci=100, data=vg_00_10)\\n# make line graphs for each sig pair from posthoc testing\";\n",
       "                var nbb_formatted_code = \"sns.lineplot(\\\"Year\\\", \\\"NA_Sales\\\", hue=\\\"Genre\\\", ci=100, data=vg_00_10)\\n# make line graphs for each sig pair from posthoc testing\";\n",
       "                var nbb_cells = Jupyter.notebook.get_cells();\n",
       "                for (var i = 0; i < nbb_cells.length; ++i) {\n",
       "                    if (nbb_cells[i].input_prompt_number == nbb_cell_id) {\n",
       "                        if (nbb_cells[i].get_text() == nbb_unformatted_code) {\n",
       "                             nbb_cells[i].set_text(nbb_formatted_code);\n",
       "                        }\n",
       "                        break;\n",
       "                    }\n",
       "                }\n",
       "            }, 500);\n",
       "            "
      ],
      "text/plain": [
       "<IPython.core.display.Javascript object>"
      ]
     },
     "metadata": {},
     "output_type": "display_data"
    }
   ],
   "source": [
    "sns.lineplot(\"Year\", \"NA_Sales\", hue=\"Genre\", ci=100, data=vg_00_10)\n",
    "# make line graphs for each sig pair from posthoc testing"
   ]
  },
  {
   "cell_type": "code",
   "execution_count": 18,
   "metadata": {},
   "outputs": [
    {
     "data": {
      "application/javascript": [
       "\n",
       "            setTimeout(function() {\n",
       "                var nbb_cell_id = 18;\n",
       "                var nbb_unformatted_code = \"vg_00_10[\\\"log_na_sales\\\"] = np.log(vg_00_10[\\\"NA_Sales\\\"])\";\n",
       "                var nbb_formatted_code = \"vg_00_10[\\\"log_na_sales\\\"] = np.log(vg_00_10[\\\"NA_Sales\\\"])\";\n",
       "                var nbb_cells = Jupyter.notebook.get_cells();\n",
       "                for (var i = 0; i < nbb_cells.length; ++i) {\n",
       "                    if (nbb_cells[i].input_prompt_number == nbb_cell_id) {\n",
       "                        if (nbb_cells[i].get_text() == nbb_unformatted_code) {\n",
       "                             nbb_cells[i].set_text(nbb_formatted_code);\n",
       "                        }\n",
       "                        break;\n",
       "                    }\n",
       "                }\n",
       "            }, 500);\n",
       "            "
      ],
      "text/plain": [
       "<IPython.core.display.Javascript object>"
      ]
     },
     "metadata": {},
     "output_type": "display_data"
    }
   ],
   "source": [
    "vg_00_10[\"log_na_sales\"] = np.log(vg_00_10[\"NA_Sales\"])"
   ]
  },
  {
   "cell_type": "code",
   "execution_count": 49,
   "metadata": {},
   "outputs": [
    {
     "data": {
      "text/plain": [
       "[Text(0, 0, 'Racing'),\n",
       " Text(0, 0, 'Sports'),\n",
       " Text(0, 0, 'Platform'),\n",
       " Text(0, 0, 'Misc'),\n",
       " Text(0, 0, 'Simulation'),\n",
       " Text(0, 0, 'Action'),\n",
       " Text(0, 0, 'Role-Playing'),\n",
       " Text(0, 0, 'Puzzle'),\n",
       " Text(0, 0, 'Shooter'),\n",
       " Text(0, 0, 'Fighting'),\n",
       " Text(0, 0, 'Strategy')]"
      ]
     },
     "execution_count": 49,
     "metadata": {},
     "output_type": "execute_result"
    },
    {
     "data": {
      "image/png": "[encoded data removed]",
      "text/plain": [
       "<Figure size 432x288 with 1 Axes>"
      ]
     },
     "metadata": {
      "needs_background": "light"
     },
     "output_type": "display_data"
    },
    {
     "data": {
      "application/javascript": [
       "\n",
       "            setTimeout(function() {\n",
       "                var nbb_cell_id = 49;\n",
       "                var nbb_unformatted_code = \"boxplots = sns.boxplot(\\\"Genre\\\", \\\"log_na_sales\\\", data=vg_00_10)\\nboxplots.set_xticklabels(boxplots.get_xticklabels(), rotation=45)\";\n",
       "                var nbb_formatted_code = \"boxplots = sns.boxplot(\\\"Genre\\\", \\\"log_na_sales\\\", data=vg_00_10)\\nboxplots.set_xticklabels(boxplots.get_xticklabels(), rotation=45)\";\n",
       "                var nbb_cells = Jupyter.notebook.get_cells();\n",
       "                for (var i = 0; i < nbb_cells.length; ++i) {\n",
       "                    if (nbb_cells[i].input_prompt_number == nbb_cell_id) {\n",
       "                        if (nbb_cells[i].get_text() == nbb_unformatted_code) {\n",
       "                             nbb_cells[i].set_text(nbb_formatted_code);\n",
       "                        }\n",
       "                        break;\n",
       "                    }\n",
       "                }\n",
       "            }, 500);\n",
       "            "
      ],
      "text/plain": [
       "<IPython.core.display.Javascript object>"
      ]
     },
     "metadata": {},
     "output_type": "display_data"
    },
    {
     "data": {
      "application/javascript": [
       "\n",
       "            setTimeout(function() {\n",
       "                var nbb_cell_id = 49;\n",
       "                var nbb_unformatted_code = \"boxplots = sns.boxplot(\\\"Genre\\\", \\\"log_na_sales\\\", data=vg_00_10)\\nboxplots.set_xticklabels(boxplots.get_xticklabels(), rotation=45)\";\n",
       "                var nbb_formatted_code = \"boxplots = sns.boxplot(\\\"Genre\\\", \\\"log_na_sales\\\", data=vg_00_10)\\nboxplots.set_xticklabels(boxplots.get_xticklabels(), rotation=45)\";\n",
       "                var nbb_cells = Jupyter.notebook.get_cells();\n",
       "                for (var i = 0; i < nbb_cells.length; ++i) {\n",
       "                    if (nbb_cells[i].input_prompt_number == nbb_cell_id) {\n",
       "                        if (nbb_cells[i].get_text() == nbb_unformatted_code) {\n",
       "                             nbb_cells[i].set_text(nbb_formatted_code);\n",
       "                        }\n",
       "                        break;\n",
       "                    }\n",
       "                }\n",
       "            }, 500);\n",
       "            "
      ],
      "text/plain": [
       "<IPython.core.display.Javascript object>"
      ]
     },
     "metadata": {},
     "output_type": "display_data"
    },
    {
     "data": {
      "application/javascript": [
       "\n",
       "            setTimeout(function() {\n",
       "                var nbb_cell_id = 49;\n",
       "                var nbb_unformatted_code = \"boxplots = sns.boxplot(\\\"Genre\\\", \\\"log_na_sales\\\", data=vg_00_10)\\nboxplots.set_xticklabels(boxplots.get_xticklabels(), rotation=45)\";\n",
       "                var nbb_formatted_code = \"boxplots = sns.boxplot(\\\"Genre\\\", \\\"log_na_sales\\\", data=vg_00_10)\\nboxplots.set_xticklabels(boxplots.get_xticklabels(), rotation=45)\";\n",
       "                var nbb_cells = Jupyter.notebook.get_cells();\n",
       "                for (var i = 0; i < nbb_cells.length; ++i) {\n",
       "                    if (nbb_cells[i].input_prompt_number == nbb_cell_id) {\n",
       "                        if (nbb_cells[i].get_text() == nbb_unformatted_code) {\n",
       "                             nbb_cells[i].set_text(nbb_formatted_code);\n",
       "                        }\n",
       "                        break;\n",
       "                    }\n",
       "                }\n",
       "            }, 500);\n",
       "            "
      ],
      "text/plain": [
       "<IPython.core.display.Javascript object>"
      ]
     },
     "metadata": {},
     "output_type": "display_data"
    }
   ],
   "source": [
    "boxplots = sns.boxplot(\"Genre\", \"log_na_sales\", data=vg_00_10)\n",
    "boxplots.set_xticklabels(boxplots.get_xticklabels(), rotation=45)"
   ]
  },
  {
   "cell_type": "code",
   "execution_count": 46,
   "metadata": {},
   "outputs": [
    {
     "data": {
      "image/png": "[encoded data removed]",
      "text/plain": [
       "<Figure size 216x216 with 1 Axes>"
      ]
     },
     "metadata": {
      "needs_background": "light"
     },
     "output_type": "display_data"
    },
    {
     "data": {
      "application/javascript": [
       "\n",
       "            setTimeout(function() {\n",
       "                var nbb_cell_id = 46;\n",
       "                var nbb_unformatted_code = \"fg = sns.FacetGrid(data=vg_00_10, hue=\\\"Genre\\\")\\nfg.map(sns.distplot, \\\"log_na_sales\\\")\\nplt.show()\";\n",
       "                var nbb_formatted_code = \"fg = sns.FacetGrid(data=vg_00_10, hue=\\\"Genre\\\")\\nfg.map(sns.distplot, \\\"log_na_sales\\\")\\nplt.show()\";\n",
       "                var nbb_cells = Jupyter.notebook.get_cells();\n",
       "                for (var i = 0; i < nbb_cells.length; ++i) {\n",
       "                    if (nbb_cells[i].input_prompt_number == nbb_cell_id) {\n",
       "                        if (nbb_cells[i].get_text() == nbb_unformatted_code) {\n",
       "                             nbb_cells[i].set_text(nbb_formatted_code);\n",
       "                        }\n",
       "                        break;\n",
       "                    }\n",
       "                }\n",
       "            }, 500);\n",
       "            "
      ],
      "text/plain": [
       "<IPython.core.display.Javascript object>"
      ]
     },
     "metadata": {},
     "output_type": "display_data"
    },
    {
     "data": {
      "application/javascript": [
       "\n",
       "            setTimeout(function() {\n",
       "                var nbb_cell_id = 46;\n",
       "                var nbb_unformatted_code = \"fg = sns.FacetGrid(data=vg_00_10, hue=\\\"Genre\\\")\\nfg.map(sns.distplot, \\\"log_na_sales\\\")\\nplt.show()\";\n",
       "                var nbb_formatted_code = \"fg = sns.FacetGrid(data=vg_00_10, hue=\\\"Genre\\\")\\nfg.map(sns.distplot, \\\"log_na_sales\\\")\\nplt.show()\";\n",
       "                var nbb_cells = Jupyter.notebook.get_cells();\n",
       "                for (var i = 0; i < nbb_cells.length; ++i) {\n",
       "                    if (nbb_cells[i].input_prompt_number == nbb_cell_id) {\n",
       "                        if (nbb_cells[i].get_text() == nbb_unformatted_code) {\n",
       "                             nbb_cells[i].set_text(nbb_formatted_code);\n",
       "                        }\n",
       "                        break;\n",
       "                    }\n",
       "                }\n",
       "            }, 500);\n",
       "            "
      ],
      "text/plain": [
       "<IPython.core.display.Javascript object>"
      ]
     },
     "metadata": {},
     "output_type": "display_data"
    },
    {
     "data": {
      "application/javascript": [
       "\n",
       "            setTimeout(function() {\n",
       "                var nbb_cell_id = 46;\n",
       "                var nbb_unformatted_code = \"fg = sns.FacetGrid(data=vg_00_10, hue=\\\"Genre\\\")\\nfg.map(sns.distplot, \\\"log_na_sales\\\")\\nplt.show()\";\n",
       "                var nbb_formatted_code = \"fg = sns.FacetGrid(data=vg_00_10, hue=\\\"Genre\\\")\\nfg.map(sns.distplot, \\\"log_na_sales\\\")\\nplt.show()\";\n",
       "                var nbb_cells = Jupyter.notebook.get_cells();\n",
       "                for (var i = 0; i < nbb_cells.length; ++i) {\n",
       "                    if (nbb_cells[i].input_prompt_number == nbb_cell_id) {\n",
       "                        if (nbb_cells[i].get_text() == nbb_unformatted_code) {\n",
       "                             nbb_cells[i].set_text(nbb_formatted_code);\n",
       "                        }\n",
       "                        break;\n",
       "                    }\n",
       "                }\n",
       "            }, 500);\n",
       "            "
      ],
      "text/plain": [
       "<IPython.core.display.Javascript object>"
      ]
     },
     "metadata": {},
     "output_type": "display_data"
    }
   ],
   "source": [
    "fg = sns.FacetGrid(data=vg_00_10, hue=\"Genre\")\n",
    "fg.map(sns.distplot, \"log_na_sales\")\n",
    "plt.show()"
   ]
  },
  {
   "cell_type": "code",
   "execution_count": 50,
   "metadata": {},
   "outputs": [
    {
     "data": {
      "image/png": "[encoded data removed]",
      "text/plain": [
       "<Figure size 432x288 with 1 Axes>"
      ]
     },
     "metadata": {
      "needs_background": "light"
     },
     "output_type": "display_data"
    },
    {
     "data": {
      "application/javascript": [
       "\n",
       "            setTimeout(function() {\n",
       "                var nbb_cell_id = 50;\n",
       "                var nbb_unformatted_code = \"qqplot(sports[\\\"log_na_sales\\\"], line=\\\"s\\\")\\nplt.show()\";\n",
       "                var nbb_formatted_code = \"qqplot(sports[\\\"log_na_sales\\\"], line=\\\"s\\\")\\nplt.show()\";\n",
       "                var nbb_cells = Jupyter.notebook.get_cells();\n",
       "                for (var i = 0; i < nbb_cells.length; ++i) {\n",
       "                    if (nbb_cells[i].input_prompt_number == nbb_cell_id) {\n",
       "                        if (nbb_cells[i].get_text() == nbb_unformatted_code) {\n",
       "                             nbb_cells[i].set_text(nbb_formatted_code);\n",
       "                        }\n",
       "                        break;\n",
       "                    }\n",
       "                }\n",
       "            }, 500);\n",
       "            "
      ],
      "text/plain": [
       "<IPython.core.display.Javascript object>"
      ]
     },
     "metadata": {},
     "output_type": "display_data"
    },
    {
     "data": {
      "application/javascript": [
       "\n",
       "            setTimeout(function() {\n",
       "                var nbb_cell_id = 50;\n",
       "                var nbb_unformatted_code = \"qqplot(sports[\\\"log_na_sales\\\"], line=\\\"s\\\")\\nplt.show()\";\n",
       "                var nbb_formatted_code = \"qqplot(sports[\\\"log_na_sales\\\"], line=\\\"s\\\")\\nplt.show()\";\n",
       "                var nbb_cells = Jupyter.notebook.get_cells();\n",
       "                for (var i = 0; i < nbb_cells.length; ++i) {\n",
       "                    if (nbb_cells[i].input_prompt_number == nbb_cell_id) {\n",
       "                        if (nbb_cells[i].get_text() == nbb_unformatted_code) {\n",
       "                             nbb_cells[i].set_text(nbb_formatted_code);\n",
       "                        }\n",
       "                        break;\n",
       "                    }\n",
       "                }\n",
       "            }, 500);\n",
       "            "
      ],
      "text/plain": [
       "<IPython.core.display.Javascript object>"
      ]
     },
     "metadata": {},
     "output_type": "display_data"
    },
    {
     "data": {
      "application/javascript": [
       "\n",
       "            setTimeout(function() {\n",
       "                var nbb_cell_id = 50;\n",
       "                var nbb_unformatted_code = \"qqplot(sports[\\\"log_na_sales\\\"], line=\\\"s\\\")\\nplt.show()\";\n",
       "                var nbb_formatted_code = \"qqplot(sports[\\\"log_na_sales\\\"], line=\\\"s\\\")\\nplt.show()\";\n",
       "                var nbb_cells = Jupyter.notebook.get_cells();\n",
       "                for (var i = 0; i < nbb_cells.length; ++i) {\n",
       "                    if (nbb_cells[i].input_prompt_number == nbb_cell_id) {\n",
       "                        if (nbb_cells[i].get_text() == nbb_unformatted_code) {\n",
       "                             nbb_cells[i].set_text(nbb_formatted_code);\n",
       "                        }\n",
       "                        break;\n",
       "                    }\n",
       "                }\n",
       "            }, 500);\n",
       "            "
      ],
      "text/plain": [
       "<IPython.core.display.Javascript object>"
      ]
     },
     "metadata": {},
     "output_type": "display_data"
    }
   ],
   "source": [
    "qqplot(sports[\"log_na_sales\"], line=\"s\")\n",
    "plt.show()"
   ]
  },
  {
   "cell_type": "code",
   "execution_count": 22,
   "metadata": {},
   "outputs": [
    {
     "data": {
      "application/javascript": [
       "\n",
       "            setTimeout(function() {\n",
       "                var nbb_cell_id = 22;\n",
       "                var nbb_unformatted_code = \"# separate based on genres.\\nsports = vg_00_10[vg_00_10[\\\"Genre\\\"] == \\\"Sports\\\"]\\naction = vg_00_10[vg_00_10[\\\"Genre\\\"] == \\\"Action\\\"]\\nmisc = vg_00_10[vg_00_10[\\\"Genre\\\"] == \\\"Misc\\\"]\\nrpg = vg_00_10[vg_00_10[\\\"Genre\\\"] == \\\"Role-Playing\\\"]\\nadventure = vg_00_10[vg_00_10[\\\"Genre\\\"] == \\\"Adevnture\\\"]\\nshooter = vg_00_10[vg_00_10[\\\"Genre\\\"] == \\\"Shooter\\\"]\\nracing = vg_00_10[vg_00_10[\\\"Genre\\\"] == \\\"Racing\\\"]\\nsim = vg_00_10[vg_00_10[\\\"Genre\\\"] == \\\"Simulation\\\"]\\nplatform = vg_00_10[vg_00_10[\\\"Genre\\\"] == \\\"Platform\\\"]\\nfighting = vg_00_10[vg_00_10[\\\"Genre\\\"] == \\\"Fighting\\\"]\\nstrategy = vg_00_10[vg_00_10[\\\"Genre\\\"] == \\\"Strategy\\\"]\\npuzzle = vg_00_10[vg_00_10[\\\"Genre\\\"] == \\\"Puzzle\\\"]\";\n",
       "                var nbb_formatted_code = \"# separate based on genres.\\nsports = vg_00_10[vg_00_10[\\\"Genre\\\"] == \\\"Sports\\\"]\\naction = vg_00_10[vg_00_10[\\\"Genre\\\"] == \\\"Action\\\"]\\nmisc = vg_00_10[vg_00_10[\\\"Genre\\\"] == \\\"Misc\\\"]\\nrpg = vg_00_10[vg_00_10[\\\"Genre\\\"] == \\\"Role-Playing\\\"]\\nadventure = vg_00_10[vg_00_10[\\\"Genre\\\"] == \\\"Adevnture\\\"]\\nshooter = vg_00_10[vg_00_10[\\\"Genre\\\"] == \\\"Shooter\\\"]\\nracing = vg_00_10[vg_00_10[\\\"Genre\\\"] == \\\"Racing\\\"]\\nsim = vg_00_10[vg_00_10[\\\"Genre\\\"] == \\\"Simulation\\\"]\\nplatform = vg_00_10[vg_00_10[\\\"Genre\\\"] == \\\"Platform\\\"]\\nfighting = vg_00_10[vg_00_10[\\\"Genre\\\"] == \\\"Fighting\\\"]\\nstrategy = vg_00_10[vg_00_10[\\\"Genre\\\"] == \\\"Strategy\\\"]\\npuzzle = vg_00_10[vg_00_10[\\\"Genre\\\"] == \\\"Puzzle\\\"]\";\n",
       "                var nbb_cells = Jupyter.notebook.get_cells();\n",
       "                for (var i = 0; i < nbb_cells.length; ++i) {\n",
       "                    if (nbb_cells[i].input_prompt_number == nbb_cell_id) {\n",
       "                        if (nbb_cells[i].get_text() == nbb_unformatted_code) {\n",
       "                             nbb_cells[i].set_text(nbb_formatted_code);\n",
       "                        }\n",
       "                        break;\n",
       "                    }\n",
       "                }\n",
       "            }, 500);\n",
       "            "
      ],
      "text/plain": [
       "<IPython.core.display.Javascript object>"
      ]
     },
     "metadata": {},
     "output_type": "display_data"
    }
   ],
   "source": [
    "# separate based on genres.\n",
    "sports = vg_00_10[vg_00_10[\"Genre\"] == \"Sports\"]\n",
    "action = vg_00_10[vg_00_10[\"Genre\"] == \"Action\"]\n",
    "misc = vg_00_10[vg_00_10[\"Genre\"] == \"Misc\"]\n",
    "rpg = vg_00_10[vg_00_10[\"Genre\"] == \"Role-Playing\"]\n",
    "adventure = vg_00_10[vg_00_10[\"Genre\"] == \"Adevnture\"]\n",
    "shooter = vg_00_10[vg_00_10[\"Genre\"] == \"Shooter\"]\n",
    "racing = vg_00_10[vg_00_10[\"Genre\"] == \"Racing\"]\n",
    "sim = vg_00_10[vg_00_10[\"Genre\"] == \"Simulation\"]\n",
    "platform = vg_00_10[vg_00_10[\"Genre\"] == \"Platform\"]\n",
    "fighting = vg_00_10[vg_00_10[\"Genre\"] == \"Fighting\"]\n",
    "strategy = vg_00_10[vg_00_10[\"Genre\"] == \"Strategy\"]\n",
    "puzzle = vg_00_10[vg_00_10[\"Genre\"] == \"Puzzle\"]"
   ]
  },
  {
   "cell_type": "code",
   "execution_count": 40,
   "metadata": {},
   "outputs": [
    {
     "name": "stdout",
     "output_type": "stream",
     "text": [
      "(1600,)\n",
      "(2324,)\n",
      "(1092,)\n",
      "(778,)\n",
      "(0,)\n",
      "(997,)\n",
      "(931,)\n",
      "(558,)\n",
      "(663,)\n",
      "(473,)\n",
      "(280,)\n",
      "(382,)\n"
     ]
    },
    {
     "data": {
      "application/javascript": [
       "\n",
       "            setTimeout(function() {\n",
       "                var nbb_cell_id = 40;\n",
       "                var nbb_unformatted_code = \"print(sports[\\\"NA_Sales\\\"].shape)\\nprint(action[\\\"NA_Sales\\\"].shape)\\nprint(misc[\\\"NA_Sales\\\"].shape)\\nprint(rpg[\\\"NA_Sales\\\"].shape)\\nprint(adventure[\\\"NA_Sales\\\"].shape)\\nprint(shooter[\\\"NA_Sales\\\"].shape)\\nprint(racing[\\\"NA_Sales\\\"].shape)\\nprint(sim[\\\"NA_Sales\\\"].shape)\\nprint(platform[\\\"NA_Sales\\\"].shape)\\nprint(fighting[\\\"NA_Sales\\\"].shape)\\nprint(strategy[\\\"NA_Sales\\\"].shape)\\nprint(puzzle[\\\"NA_Sales\\\"].shape)\\n\\n# there are no adventure games released in these years in this data.\\nvg_00_10 = vg_00_10[vg_00_10['Genre'] != 'Adventure']\";\n",
       "                var nbb_formatted_code = \"print(sports[\\\"NA_Sales\\\"].shape)\\nprint(action[\\\"NA_Sales\\\"].shape)\\nprint(misc[\\\"NA_Sales\\\"].shape)\\nprint(rpg[\\\"NA_Sales\\\"].shape)\\nprint(adventure[\\\"NA_Sales\\\"].shape)\\nprint(shooter[\\\"NA_Sales\\\"].shape)\\nprint(racing[\\\"NA_Sales\\\"].shape)\\nprint(sim[\\\"NA_Sales\\\"].shape)\\nprint(platform[\\\"NA_Sales\\\"].shape)\\nprint(fighting[\\\"NA_Sales\\\"].shape)\\nprint(strategy[\\\"NA_Sales\\\"].shape)\\nprint(puzzle[\\\"NA_Sales\\\"].shape)\\n\\n# there are no adventure games released in these years in this data.\\nvg_00_10 = vg_00_10[vg_00_10[\\\"Genre\\\"] != \\\"Adventure\\\"]\";\n",
       "                var nbb_cells = Jupyter.notebook.get_cells();\n",
       "                for (var i = 0; i < nbb_cells.length; ++i) {\n",
       "                    if (nbb_cells[i].input_prompt_number == nbb_cell_id) {\n",
       "                        if (nbb_cells[i].get_text() == nbb_unformatted_code) {\n",
       "                             nbb_cells[i].set_text(nbb_formatted_code);\n",
       "                        }\n",
       "                        break;\n",
       "                    }\n",
       "                }\n",
       "            }, 500);\n",
       "            "
      ],
      "text/plain": [
       "<IPython.core.display.Javascript object>"
      ]
     },
     "metadata": {},
     "output_type": "display_data"
    },
    {
     "data": {
      "application/javascript": [
       "\n",
       "            setTimeout(function() {\n",
       "                var nbb_cell_id = 40;\n",
       "                var nbb_unformatted_code = \"print(sports[\\\"NA_Sales\\\"].shape)\\nprint(action[\\\"NA_Sales\\\"].shape)\\nprint(misc[\\\"NA_Sales\\\"].shape)\\nprint(rpg[\\\"NA_Sales\\\"].shape)\\nprint(adventure[\\\"NA_Sales\\\"].shape)\\nprint(shooter[\\\"NA_Sales\\\"].shape)\\nprint(racing[\\\"NA_Sales\\\"].shape)\\nprint(sim[\\\"NA_Sales\\\"].shape)\\nprint(platform[\\\"NA_Sales\\\"].shape)\\nprint(fighting[\\\"NA_Sales\\\"].shape)\\nprint(strategy[\\\"NA_Sales\\\"].shape)\\nprint(puzzle[\\\"NA_Sales\\\"].shape)\\n\\n# there are no adventure games released in these years in this data.\\nvg_00_10 = vg_00_10[vg_00_10['Genre'] != 'Adventure']\";\n",
       "                var nbb_formatted_code = \"print(sports[\\\"NA_Sales\\\"].shape)\\nprint(action[\\\"NA_Sales\\\"].shape)\\nprint(misc[\\\"NA_Sales\\\"].shape)\\nprint(rpg[\\\"NA_Sales\\\"].shape)\\nprint(adventure[\\\"NA_Sales\\\"].shape)\\nprint(shooter[\\\"NA_Sales\\\"].shape)\\nprint(racing[\\\"NA_Sales\\\"].shape)\\nprint(sim[\\\"NA_Sales\\\"].shape)\\nprint(platform[\\\"NA_Sales\\\"].shape)\\nprint(fighting[\\\"NA_Sales\\\"].shape)\\nprint(strategy[\\\"NA_Sales\\\"].shape)\\nprint(puzzle[\\\"NA_Sales\\\"].shape)\\n\\n# there are no adventure games released in these years in this data.\\nvg_00_10 = vg_00_10[vg_00_10[\\\"Genre\\\"] != \\\"Adventure\\\"]\";\n",
       "                var nbb_cells = Jupyter.notebook.get_cells();\n",
       "                for (var i = 0; i < nbb_cells.length; ++i) {\n",
       "                    if (nbb_cells[i].input_prompt_number == nbb_cell_id) {\n",
       "                        if (nbb_cells[i].get_text() == nbb_unformatted_code) {\n",
       "                             nbb_cells[i].set_text(nbb_formatted_code);\n",
       "                        }\n",
       "                        break;\n",
       "                    }\n",
       "                }\n",
       "            }, 500);\n",
       "            "
      ],
      "text/plain": [
       "<IPython.core.display.Javascript object>"
      ]
     },
     "metadata": {},
     "output_type": "display_data"
    },
    {
     "data": {
      "application/javascript": [
       "\n",
       "            setTimeout(function() {\n",
       "                var nbb_cell_id = 40;\n",
       "                var nbb_unformatted_code = \"print(sports[\\\"NA_Sales\\\"].shape)\\nprint(action[\\\"NA_Sales\\\"].shape)\\nprint(misc[\\\"NA_Sales\\\"].shape)\\nprint(rpg[\\\"NA_Sales\\\"].shape)\\nprint(adventure[\\\"NA_Sales\\\"].shape)\\nprint(shooter[\\\"NA_Sales\\\"].shape)\\nprint(racing[\\\"NA_Sales\\\"].shape)\\nprint(sim[\\\"NA_Sales\\\"].shape)\\nprint(platform[\\\"NA_Sales\\\"].shape)\\nprint(fighting[\\\"NA_Sales\\\"].shape)\\nprint(strategy[\\\"NA_Sales\\\"].shape)\\nprint(puzzle[\\\"NA_Sales\\\"].shape)\\n\\n# there are no adventure games released in these years in this data.\\nvg_00_10 = vg_00_10[vg_00_10['Genre'] != 'Adventure']\";\n",
       "                var nbb_formatted_code = \"print(sports[\\\"NA_Sales\\\"].shape)\\nprint(action[\\\"NA_Sales\\\"].shape)\\nprint(misc[\\\"NA_Sales\\\"].shape)\\nprint(rpg[\\\"NA_Sales\\\"].shape)\\nprint(adventure[\\\"NA_Sales\\\"].shape)\\nprint(shooter[\\\"NA_Sales\\\"].shape)\\nprint(racing[\\\"NA_Sales\\\"].shape)\\nprint(sim[\\\"NA_Sales\\\"].shape)\\nprint(platform[\\\"NA_Sales\\\"].shape)\\nprint(fighting[\\\"NA_Sales\\\"].shape)\\nprint(strategy[\\\"NA_Sales\\\"].shape)\\nprint(puzzle[\\\"NA_Sales\\\"].shape)\\n\\n# there are no adventure games released in these years in this data.\\nvg_00_10 = vg_00_10[vg_00_10[\\\"Genre\\\"] != \\\"Adventure\\\"]\";\n",
       "                var nbb_cells = Jupyter.notebook.get_cells();\n",
       "                for (var i = 0; i < nbb_cells.length; ++i) {\n",
       "                    if (nbb_cells[i].input_prompt_number == nbb_cell_id) {\n",
       "                        if (nbb_cells[i].get_text() == nbb_unformatted_code) {\n",
       "                             nbb_cells[i].set_text(nbb_formatted_code);\n",
       "                        }\n",
       "                        break;\n",
       "                    }\n",
       "                }\n",
       "            }, 500);\n",
       "            "
      ],
      "text/plain": [
       "<IPython.core.display.Javascript object>"
      ]
     },
     "metadata": {},
     "output_type": "display_data"
    }
   ],
   "source": [
    "print(sports[\"NA_Sales\"].shape)\n",
    "print(action[\"NA_Sales\"].shape)\n",
    "print(misc[\"NA_Sales\"].shape)\n",
    "print(rpg[\"NA_Sales\"].shape)\n",
    "print(adventure[\"NA_Sales\"].shape)\n",
    "print(shooter[\"NA_Sales\"].shape)\n",
    "print(racing[\"NA_Sales\"].shape)\n",
    "print(sim[\"NA_Sales\"].shape)\n",
    "print(platform[\"NA_Sales\"].shape)\n",
    "print(fighting[\"NA_Sales\"].shape)\n",
    "print(strategy[\"NA_Sales\"].shape)\n",
    "print(puzzle[\"NA_Sales\"].shape)\n",
    "\n",
    "# there are no adventure games released in these years in this data.\n",
    "vg_00_10 = vg_00_10[vg_00_10[\"Genre\"] != \"Adventure\"]"
   ]
  },
  {
   "cell_type": "code",
   "execution_count": 41,
   "metadata": {},
   "outputs": [
    {
     "data": {
      "text/plain": [
       "BartlettResult(statistic=62.94070421523679, pvalue=1.0020868973135453e-09)"
      ]
     },
     "execution_count": 41,
     "metadata": {},
     "output_type": "execute_result"
    },
    {
     "data": {
      "application/javascript": [
       "\n",
       "            setTimeout(function() {\n",
       "                var nbb_cell_id = 41;\n",
       "                var nbb_unformatted_code = \"# test distributions for normality\\n# vg_00_10.groupby(\\\"Genre\\\").hist(column=\\\"log_na_sales\\\")\\nstats.bartlett(\\n    sports[\\\"log_na_sales\\\"],\\n    action[\\\"log_na_sales\\\"],\\n    misc[\\\"log_na_sales\\\"],\\n    rpg[\\\"log_na_sales\\\"],\\n    shooter[\\\"log_na_sales\\\"],\\n    racing[\\\"log_na_sales\\\"],\\n    sim[\\\"log_na_sales\\\"],\\n    platform[\\\"log_na_sales\\\"],\\n    fighting[\\\"log_na_sales\\\"],\\n    strategy[\\\"log_na_sales\\\"],\\n    puzzle[\\\"log_na_sales\\\"],\\n)\\n\\n#normal, yay\";\n",
       "                var nbb_formatted_code = \"# test distributions for normality\\n# vg_00_10.groupby(\\\"Genre\\\").hist(column=\\\"log_na_sales\\\")\\nstats.bartlett(\\n    sports[\\\"log_na_sales\\\"],\\n    action[\\\"log_na_sales\\\"],\\n    misc[\\\"log_na_sales\\\"],\\n    rpg[\\\"log_na_sales\\\"],\\n    shooter[\\\"log_na_sales\\\"],\\n    racing[\\\"log_na_sales\\\"],\\n    sim[\\\"log_na_sales\\\"],\\n    platform[\\\"log_na_sales\\\"],\\n    fighting[\\\"log_na_sales\\\"],\\n    strategy[\\\"log_na_sales\\\"],\\n    puzzle[\\\"log_na_sales\\\"],\\n)\\n\\n# normal, yay\";\n",
       "                var nbb_cells = Jupyter.notebook.get_cells();\n",
       "                for (var i = 0; i < nbb_cells.length; ++i) {\n",
       "                    if (nbb_cells[i].input_prompt_number == nbb_cell_id) {\n",
       "                        if (nbb_cells[i].get_text() == nbb_unformatted_code) {\n",
       "                             nbb_cells[i].set_text(nbb_formatted_code);\n",
       "                        }\n",
       "                        break;\n",
       "                    }\n",
       "                }\n",
       "            }, 500);\n",
       "            "
      ],
      "text/plain": [
       "<IPython.core.display.Javascript object>"
      ]
     },
     "metadata": {},
     "output_type": "display_data"
    },
    {
     "data": {
      "application/javascript": [
       "\n",
       "            setTimeout(function() {\n",
       "                var nbb_cell_id = 41;\n",
       "                var nbb_unformatted_code = \"# test distributions for normality\\n# vg_00_10.groupby(\\\"Genre\\\").hist(column=\\\"log_na_sales\\\")\\nstats.bartlett(\\n    sports[\\\"log_na_sales\\\"],\\n    action[\\\"log_na_sales\\\"],\\n    misc[\\\"log_na_sales\\\"],\\n    rpg[\\\"log_na_sales\\\"],\\n    shooter[\\\"log_na_sales\\\"],\\n    racing[\\\"log_na_sales\\\"],\\n    sim[\\\"log_na_sales\\\"],\\n    platform[\\\"log_na_sales\\\"],\\n    fighting[\\\"log_na_sales\\\"],\\n    strategy[\\\"log_na_sales\\\"],\\n    puzzle[\\\"log_na_sales\\\"],\\n)\\n\\n#normal, yay\";\n",
       "                var nbb_formatted_code = \"# test distributions for normality\\n# vg_00_10.groupby(\\\"Genre\\\").hist(column=\\\"log_na_sales\\\")\\nstats.bartlett(\\n    sports[\\\"log_na_sales\\\"],\\n    action[\\\"log_na_sales\\\"],\\n    misc[\\\"log_na_sales\\\"],\\n    rpg[\\\"log_na_sales\\\"],\\n    shooter[\\\"log_na_sales\\\"],\\n    racing[\\\"log_na_sales\\\"],\\n    sim[\\\"log_na_sales\\\"],\\n    platform[\\\"log_na_sales\\\"],\\n    fighting[\\\"log_na_sales\\\"],\\n    strategy[\\\"log_na_sales\\\"],\\n    puzzle[\\\"log_na_sales\\\"],\\n)\\n\\n# normal, yay\";\n",
       "                var nbb_cells = Jupyter.notebook.get_cells();\n",
       "                for (var i = 0; i < nbb_cells.length; ++i) {\n",
       "                    if (nbb_cells[i].input_prompt_number == nbb_cell_id) {\n",
       "                        if (nbb_cells[i].get_text() == nbb_unformatted_code) {\n",
       "                             nbb_cells[i].set_text(nbb_formatted_code);\n",
       "                        }\n",
       "                        break;\n",
       "                    }\n",
       "                }\n",
       "            }, 500);\n",
       "            "
      ],
      "text/plain": [
       "<IPython.core.display.Javascript object>"
      ]
     },
     "metadata": {},
     "output_type": "display_data"
    },
    {
     "data": {
      "application/javascript": [
       "\n",
       "            setTimeout(function() {\n",
       "                var nbb_cell_id = 41;\n",
       "                var nbb_unformatted_code = \"# test distributions for normality\\n# vg_00_10.groupby(\\\"Genre\\\").hist(column=\\\"log_na_sales\\\")\\nstats.bartlett(\\n    sports[\\\"log_na_sales\\\"],\\n    action[\\\"log_na_sales\\\"],\\n    misc[\\\"log_na_sales\\\"],\\n    rpg[\\\"log_na_sales\\\"],\\n    shooter[\\\"log_na_sales\\\"],\\n    racing[\\\"log_na_sales\\\"],\\n    sim[\\\"log_na_sales\\\"],\\n    platform[\\\"log_na_sales\\\"],\\n    fighting[\\\"log_na_sales\\\"],\\n    strategy[\\\"log_na_sales\\\"],\\n    puzzle[\\\"log_na_sales\\\"],\\n)\\n\\n#normal, yay\";\n",
       "                var nbb_formatted_code = \"# test distributions for normality\\n# vg_00_10.groupby(\\\"Genre\\\").hist(column=\\\"log_na_sales\\\")\\nstats.bartlett(\\n    sports[\\\"log_na_sales\\\"],\\n    action[\\\"log_na_sales\\\"],\\n    misc[\\\"log_na_sales\\\"],\\n    rpg[\\\"log_na_sales\\\"],\\n    shooter[\\\"log_na_sales\\\"],\\n    racing[\\\"log_na_sales\\\"],\\n    sim[\\\"log_na_sales\\\"],\\n    platform[\\\"log_na_sales\\\"],\\n    fighting[\\\"log_na_sales\\\"],\\n    strategy[\\\"log_na_sales\\\"],\\n    puzzle[\\\"log_na_sales\\\"],\\n)\\n\\n# normal, yay\";\n",
       "                var nbb_cells = Jupyter.notebook.get_cells();\n",
       "                for (var i = 0; i < nbb_cells.length; ++i) {\n",
       "                    if (nbb_cells[i].input_prompt_number == nbb_cell_id) {\n",
       "                        if (nbb_cells[i].get_text() == nbb_unformatted_code) {\n",
       "                             nbb_cells[i].set_text(nbb_formatted_code);\n",
       "                        }\n",
       "                        break;\n",
       "                    }\n",
       "                }\n",
       "            }, 500);\n",
       "            "
      ],
      "text/plain": [
       "<IPython.core.display.Javascript object>"
      ]
     },
     "metadata": {},
     "output_type": "display_data"
    }
   ],
   "source": [
    "# test distributions for normality\n",
    "# vg_00_10.groupby(\"Genre\").hist(column=\"log_na_sales\")\n",
    "stats.bartlett(\n",
    "    sports[\"log_na_sales\"],\n",
    "    action[\"log_na_sales\"],\n",
    "    misc[\"log_na_sales\"],\n",
    "    rpg[\"log_na_sales\"],\n",
    "    shooter[\"log_na_sales\"],\n",
    "    racing[\"log_na_sales\"],\n",
    "    sim[\"log_na_sales\"],\n",
    "    platform[\"log_na_sales\"],\n",
    "    fighting[\"log_na_sales\"],\n",
    "    strategy[\"log_na_sales\"],\n",
    "    puzzle[\"log_na_sales\"],\n",
    ")\n",
    "\n",
    "# normal, yay"
   ]
  },
  {
   "cell_type": "code",
   "execution_count": 42,
   "metadata": {},
   "outputs": [
    {
     "data": {
      "text/plain": [
       "F_onewayResult(statistic=22.94814618074259, pvalue=3.663062209489204e-43)"
      ]
     },
     "execution_count": 42,
     "metadata": {},
     "output_type": "execute_result"
    },
    {
     "data": {
      "application/javascript": [
       "\n",
       "            setTimeout(function() {\n",
       "                var nbb_cell_id = 42;\n",
       "                var nbb_unformatted_code = \"stats.f_oneway(\\n    sports[\\\"log_na_sales\\\"],\\n    action[\\\"log_na_sales\\\"],\\n    misc['log_na_sales'],\\n    rpg[\\\"log_na_sales\\\"],\\n    shooter[\\\"log_na_sales\\\"],\\n    racing[\\\"log_na_sales\\\"],\\n    sim[\\\"log_na_sales\\\"],\\n    platform[\\\"log_na_sales\\\"],\\n    fighting[\\\"log_na_sales\\\"],\\n    strategy[\\\"log_na_sales\\\"],\\n    puzzle[\\\"log_na_sales\\\"],\\n)\";\n",
       "                var nbb_formatted_code = \"stats.f_oneway(\\n    sports[\\\"log_na_sales\\\"],\\n    action[\\\"log_na_sales\\\"],\\n    misc[\\\"log_na_sales\\\"],\\n    rpg[\\\"log_na_sales\\\"],\\n    shooter[\\\"log_na_sales\\\"],\\n    racing[\\\"log_na_sales\\\"],\\n    sim[\\\"log_na_sales\\\"],\\n    platform[\\\"log_na_sales\\\"],\\n    fighting[\\\"log_na_sales\\\"],\\n    strategy[\\\"log_na_sales\\\"],\\n    puzzle[\\\"log_na_sales\\\"],\\n)\";\n",
       "                var nbb_cells = Jupyter.notebook.get_cells();\n",
       "                for (var i = 0; i < nbb_cells.length; ++i) {\n",
       "                    if (nbb_cells[i].input_prompt_number == nbb_cell_id) {\n",
       "                        if (nbb_cells[i].get_text() == nbb_unformatted_code) {\n",
       "                             nbb_cells[i].set_text(nbb_formatted_code);\n",
       "                        }\n",
       "                        break;\n",
       "                    }\n",
       "                }\n",
       "            }, 500);\n",
       "            "
      ],
      "text/plain": [
       "<IPython.core.display.Javascript object>"
      ]
     },
     "metadata": {},
     "output_type": "display_data"
    },
    {
     "data": {
      "application/javascript": [
       "\n",
       "            setTimeout(function() {\n",
       "                var nbb_cell_id = 42;\n",
       "                var nbb_unformatted_code = \"stats.f_oneway(\\n    sports[\\\"log_na_sales\\\"],\\n    action[\\\"log_na_sales\\\"],\\n    misc['log_na_sales'],\\n    rpg[\\\"log_na_sales\\\"],\\n    shooter[\\\"log_na_sales\\\"],\\n    racing[\\\"log_na_sales\\\"],\\n    sim[\\\"log_na_sales\\\"],\\n    platform[\\\"log_na_sales\\\"],\\n    fighting[\\\"log_na_sales\\\"],\\n    strategy[\\\"log_na_sales\\\"],\\n    puzzle[\\\"log_na_sales\\\"],\\n)\";\n",
       "                var nbb_formatted_code = \"stats.f_oneway(\\n    sports[\\\"log_na_sales\\\"],\\n    action[\\\"log_na_sales\\\"],\\n    misc[\\\"log_na_sales\\\"],\\n    rpg[\\\"log_na_sales\\\"],\\n    shooter[\\\"log_na_sales\\\"],\\n    racing[\\\"log_na_sales\\\"],\\n    sim[\\\"log_na_sales\\\"],\\n    platform[\\\"log_na_sales\\\"],\\n    fighting[\\\"log_na_sales\\\"],\\n    strategy[\\\"log_na_sales\\\"],\\n    puzzle[\\\"log_na_sales\\\"],\\n)\";\n",
       "                var nbb_cells = Jupyter.notebook.get_cells();\n",
       "                for (var i = 0; i < nbb_cells.length; ++i) {\n",
       "                    if (nbb_cells[i].input_prompt_number == nbb_cell_id) {\n",
       "                        if (nbb_cells[i].get_text() == nbb_unformatted_code) {\n",
       "                             nbb_cells[i].set_text(nbb_formatted_code);\n",
       "                        }\n",
       "                        break;\n",
       "                    }\n",
       "                }\n",
       "            }, 500);\n",
       "            "
      ],
      "text/plain": [
       "<IPython.core.display.Javascript object>"
      ]
     },
     "metadata": {},
     "output_type": "display_data"
    },
    {
     "data": {
      "application/javascript": [
       "\n",
       "            setTimeout(function() {\n",
       "                var nbb_cell_id = 42;\n",
       "                var nbb_unformatted_code = \"stats.f_oneway(\\n    sports[\\\"log_na_sales\\\"],\\n    action[\\\"log_na_sales\\\"],\\n    misc['log_na_sales'],\\n    rpg[\\\"log_na_sales\\\"],\\n    shooter[\\\"log_na_sales\\\"],\\n    racing[\\\"log_na_sales\\\"],\\n    sim[\\\"log_na_sales\\\"],\\n    platform[\\\"log_na_sales\\\"],\\n    fighting[\\\"log_na_sales\\\"],\\n    strategy[\\\"log_na_sales\\\"],\\n    puzzle[\\\"log_na_sales\\\"],\\n)\";\n",
       "                var nbb_formatted_code = \"stats.f_oneway(\\n    sports[\\\"log_na_sales\\\"],\\n    action[\\\"log_na_sales\\\"],\\n    misc[\\\"log_na_sales\\\"],\\n    rpg[\\\"log_na_sales\\\"],\\n    shooter[\\\"log_na_sales\\\"],\\n    racing[\\\"log_na_sales\\\"],\\n    sim[\\\"log_na_sales\\\"],\\n    platform[\\\"log_na_sales\\\"],\\n    fighting[\\\"log_na_sales\\\"],\\n    strategy[\\\"log_na_sales\\\"],\\n    puzzle[\\\"log_na_sales\\\"],\\n)\";\n",
       "                var nbb_cells = Jupyter.notebook.get_cells();\n",
       "                for (var i = 0; i < nbb_cells.length; ++i) {\n",
       "                    if (nbb_cells[i].input_prompt_number == nbb_cell_id) {\n",
       "                        if (nbb_cells[i].get_text() == nbb_unformatted_code) {\n",
       "                             nbb_cells[i].set_text(nbb_formatted_code);\n",
       "                        }\n",
       "                        break;\n",
       "                    }\n",
       "                }\n",
       "            }, 500);\n",
       "            "
      ],
      "text/plain": [
       "<IPython.core.display.Javascript object>"
      ]
     },
     "metadata": {},
     "output_type": "display_data"
    }
   ],
   "source": [
    "stats.f_oneway(\n",
    "    sports[\"log_na_sales\"],\n",
    "    action[\"log_na_sales\"],\n",
    "    misc['log_na_sales'],\n",
    "    rpg[\"log_na_sales\"],\n",
    "    shooter[\"log_na_sales\"],\n",
    "    racing[\"log_na_sales\"],\n",
    "    sim[\"log_na_sales\"],\n",
    "    platform[\"log_na_sales\"],\n",
    "    fighting[\"log_na_sales\"],\n",
    "    strategy[\"log_na_sales\"],\n",
    "    puzzle[\"log_na_sales\"],\n",
    ")\n"
   ]
  },
  {
   "cell_type": "code",
   "execution_count": 43,
   "metadata": {},
   "outputs": [
    {
     "data": {
      "image/png": "[encoded data removed]",
      "text/plain": [
       "<Figure size 720x432 with 1 Axes>"
      ]
     },
     "metadata": {
      "needs_background": "light"
     },
     "output_type": "display_data"
    },
    {
     "data": {
      "text/html": [
       "<table class=\"simpletable\">\n",
       "<caption>Multiple Comparison of Means - Tukey HSD, FWER=0.05</caption>\n",
       "<tr>\n",
       "     <th>group1</th>       <th>group2</th>    <th>meandiff</th>  <th>p-adj</th>  <th>lower</th>   <th>upper</th>  <th>reject</th>\n",
       "</tr>\n",
       "<tr>\n",
       "     <td>Action</td>      <td>Fighting</td>    <td>0.0173</td>    <td>0.9</td>  <td>-0.1002</td> <td>0.1348</td>   <td>False</td>\n",
       "</tr>\n",
       "<tr>\n",
       "     <td>Action</td>        <td>Misc</td>       <td>0.009</td>    <td>0.9</td>  <td>-0.0765</td> <td>0.0945</td>   <td>False</td>\n",
       "</tr>\n",
       "<tr>\n",
       "     <td>Action</td>      <td>Platform</td>    <td>0.0677</td>  <td>0.5509</td> <td>-0.0349</td> <td>0.1703</td>   <td>False</td>\n",
       "</tr>\n",
       "<tr>\n",
       "     <td>Action</td>       <td>Puzzle</td>     <td>-0.1529</td> <td>0.0062</td> <td>-0.2815</td> <td>-0.0242</td>  <td>True</td> \n",
       "</tr>\n",
       "<tr>\n",
       "     <td>Action</td>       <td>Racing</td>     <td>-0.0305</td>   <td>0.9</td>  <td>-0.1209</td> <td>0.0599</td>   <td>False</td>\n",
       "</tr>\n",
       "<tr>\n",
       "     <td>Action</td>    <td>Role-Playing</td>  <td>0.0352</td>    <td>0.9</td>  <td>-0.0613</td> <td>0.1317</td>   <td>False</td>\n",
       "</tr>\n",
       "<tr>\n",
       "     <td>Action</td>       <td>Shooter</td>    <td>0.1639</td>   <td>0.001</td> <td>0.0757</td>  <td>0.2521</td>   <td>True</td> \n",
       "</tr>\n",
       "<tr>\n",
       "     <td>Action</td>     <td>Simulation</td>   <td>-0.0305</td>   <td>0.9</td>  <td>-0.1403</td> <td>0.0794</td>   <td>False</td>\n",
       "</tr>\n",
       "<tr>\n",
       "     <td>Action</td>       <td>Sports</td>     <td>0.0186</td>    <td>0.9</td>  <td>-0.057</td>  <td>0.0943</td>   <td>False</td>\n",
       "</tr>\n",
       "<tr>\n",
       "     <td>Action</td>      <td>Strategy</td>    <td>-0.1582</td> <td>0.0234</td> <td>-0.3056</td> <td>-0.0108</td>  <td>True</td> \n",
       "</tr>\n",
       "<tr>\n",
       "    <td>Fighting</td>       <td>Misc</td>      <td>-0.0083</td>   <td>0.9</td>  <td>-0.1366</td> <td>0.1199</td>   <td>False</td>\n",
       "</tr>\n",
       "<tr>\n",
       "    <td>Fighting</td>     <td>Platform</td>    <td>0.0504</td>    <td>0.9</td>  <td>-0.0898</td> <td>0.1906</td>   <td>False</td>\n",
       "</tr>\n",
       "<tr>\n",
       "    <td>Fighting</td>      <td>Puzzle</td>     <td>-0.1702</td> <td>0.0266</td> <td>-0.3305</td> <td>-0.0099</td>  <td>True</td> \n",
       "</tr>\n",
       "<tr>\n",
       "    <td>Fighting</td>      <td>Racing</td>     <td>-0.0478</td>   <td>0.9</td>  <td>-0.1794</td> <td>0.0837</td>   <td>False</td>\n",
       "</tr>\n",
       "<tr>\n",
       "    <td>Fighting</td>   <td>Role-Playing</td>  <td>0.0179</td>    <td>0.9</td>  <td>-0.118</td>  <td>0.1538</td>   <td>False</td>\n",
       "</tr>\n",
       "<tr>\n",
       "    <td>Fighting</td>      <td>Shooter</td>    <td>0.1466</td>  <td>0.0128</td> <td>0.0165</td>  <td>0.2767</td>   <td>True</td> \n",
       "</tr>\n",
       "<tr>\n",
       "    <td>Fighting</td>    <td>Simulation</td>   <td>-0.0478</td>   <td>0.9</td>  <td>-0.1934</td> <td>0.0979</td>   <td>False</td>\n",
       "</tr>\n",
       "<tr>\n",
       "    <td>Fighting</td>      <td>Sports</td>     <td>0.0013</td>    <td>0.9</td>  <td>-0.1206</td> <td>0.1233</td>   <td>False</td>\n",
       "</tr>\n",
       "<tr>\n",
       "    <td>Fighting</td>     <td>Strategy</td>    <td>-0.1755</td> <td>0.0504</td> <td>-0.3512</td> <td>0.0002</td>   <td>False</td>\n",
       "</tr>\n",
       "<tr>\n",
       "      <td>Misc</td>       <td>Platform</td>    <td>0.0587</td>  <td>0.8474</td> <td>-0.056</td>  <td>0.1734</td>   <td>False</td>\n",
       "</tr>\n",
       "<tr>\n",
       "      <td>Misc</td>        <td>Puzzle</td>     <td>-0.1618</td> <td>0.0079</td> <td>-0.3004</td> <td>-0.0233</td>  <td>True</td> \n",
       "</tr>\n",
       "<tr>\n",
       "      <td>Misc</td>        <td>Racing</td>     <td>-0.0395</td>   <td>0.9</td>  <td>-0.1435</td> <td>0.0644</td>   <td>False</td>\n",
       "</tr>\n",
       "<tr>\n",
       "      <td>Misc</td>     <td>Role-Playing</td>  <td>0.0262</td>    <td>0.9</td>  <td>-0.0831</td> <td>0.1355</td>   <td>False</td>\n",
       "</tr>\n",
       "<tr>\n",
       "      <td>Misc</td>        <td>Shooter</td>    <td>0.1549</td>   <td>0.001</td> <td>0.0529</td>   <td>0.257</td>   <td>True</td> \n",
       "</tr>\n",
       "<tr>\n",
       "      <td>Misc</td>      <td>Simulation</td>   <td>-0.0395</td>   <td>0.9</td>  <td>-0.1607</td> <td>0.0818</td>   <td>False</td>\n",
       "</tr>\n",
       "<tr>\n",
       "      <td>Misc</td>        <td>Sports</td>     <td>0.0097</td>    <td>0.9</td>  <td>-0.0818</td> <td>0.1011</td>   <td>False</td>\n",
       "</tr>\n",
       "<tr>\n",
       "      <td>Misc</td>       <td>Strategy</td>    <td>-0.1672</td>  <td>0.024</td> <td>-0.3233</td> <td>-0.0111</td>  <td>True</td> \n",
       "</tr>\n",
       "<tr>\n",
       "    <td>Platform</td>      <td>Puzzle</td>     <td>-0.2206</td>  <td>0.001</td> <td>-0.3702</td> <td>-0.0709</td>  <td>True</td> \n",
       "</tr>\n",
       "<tr>\n",
       "    <td>Platform</td>      <td>Racing</td>     <td>-0.0982</td> <td>0.2134</td> <td>-0.2166</td> <td>0.0202</td>   <td>False</td>\n",
       "</tr>\n",
       "<tr>\n",
       "    <td>Platform</td>   <td>Role-Playing</td>  <td>-0.0325</td>   <td>0.9</td>  <td>-0.1557</td> <td>0.0907</td>   <td>False</td>\n",
       "</tr>\n",
       "<tr>\n",
       "    <td>Platform</td>      <td>Shooter</td>    <td>0.0962</td>  <td>0.2221</td> <td>-0.0205</td>  <td>0.213</td>   <td>False</td>\n",
       "</tr>\n",
       "<tr>\n",
       "    <td>Platform</td>    <td>Simulation</td>   <td>-0.0982</td> <td>0.3949</td> <td>-0.232</td>  <td>0.0357</td>   <td>False</td>\n",
       "</tr>\n",
       "<tr>\n",
       "    <td>Platform</td>      <td>Sports</td>     <td>-0.0491</td>   <td>0.9</td>  <td>-0.1567</td> <td>0.0586</td>   <td>False</td>\n",
       "</tr>\n",
       "<tr>\n",
       "    <td>Platform</td>     <td>Strategy</td>    <td>-0.2259</td>  <td>0.001</td> <td>-0.392</td>  <td>-0.0599</td>  <td>True</td> \n",
       "</tr>\n",
       "<tr>\n",
       "     <td>Puzzle</td>       <td>Racing</td>     <td>0.1223</td>  <td>0.1654</td> <td>-0.0193</td> <td>0.2639</td>   <td>False</td>\n",
       "</tr>\n",
       "<tr>\n",
       "     <td>Puzzle</td>    <td>Role-Playing</td>  <td>0.1881</td>  <td>0.0016</td> <td>0.0425</td>  <td>0.3336</td>   <td>True</td> \n",
       "</tr>\n",
       "<tr>\n",
       "     <td>Puzzle</td>       <td>Shooter</td>    <td>0.3168</td>   <td>0.001</td> <td>0.1766</td>   <td>0.457</td>   <td>True</td> \n",
       "</tr>\n",
       "<tr>\n",
       "     <td>Puzzle</td>     <td>Simulation</td>   <td>0.1224</td>  <td>0.2781</td> <td>-0.0324</td> <td>0.2771</td>   <td>False</td>\n",
       "</tr>\n",
       "<tr>\n",
       "     <td>Puzzle</td>       <td>Sports</td>     <td>0.1715</td>  <td>0.0016</td> <td>0.0388</td>  <td>0.3042</td>   <td>True</td> \n",
       "</tr>\n",
       "<tr>\n",
       "     <td>Puzzle</td>      <td>Strategy</td>    <td>-0.0054</td>   <td>0.9</td>  <td>-0.1887</td> <td>0.1779</td>   <td>False</td>\n",
       "</tr>\n",
       "<tr>\n",
       "     <td>Racing</td>    <td>Role-Playing</td>  <td>0.0657</td>  <td>0.7094</td> <td>-0.0474</td> <td>0.1789</td>   <td>False</td>\n",
       "</tr>\n",
       "<tr>\n",
       "     <td>Racing</td>       <td>Shooter</td>    <td>0.1945</td>   <td>0.001</td> <td>0.0883</td>  <td>0.3007</td>   <td>True</td> \n",
       "</tr>\n",
       "<tr>\n",
       "     <td>Racing</td>     <td>Simulation</td>     <td>0.0</td>     <td>0.9</td>  <td>-0.1247</td> <td>0.1248</td>   <td>False</td>\n",
       "</tr>\n",
       "<tr>\n",
       "     <td>Racing</td>       <td>Sports</td>     <td>0.0492</td>  <td>0.8471</td> <td>-0.0469</td> <td>0.1452</td>   <td>False</td>\n",
       "</tr>\n",
       "<tr>\n",
       "     <td>Racing</td>      <td>Strategy</td>    <td>-0.1277</td> <td>0.2545</td> <td>-0.2865</td> <td>0.0311</td>   <td>False</td>\n",
       "</tr>\n",
       "<tr>\n",
       "  <td>Role-Playing</td>    <td>Shooter</td>    <td>0.1287</td>  <td>0.0093</td> <td>0.0173</td>  <td>0.2402</td>   <td>True</td> \n",
       "</tr>\n",
       "<tr>\n",
       "  <td>Role-Playing</td>  <td>Simulation</td>   <td>-0.0657</td> <td>0.8547</td> <td>-0.195</td>  <td>0.0636</td>   <td>False</td>\n",
       "</tr>\n",
       "<tr>\n",
       "  <td>Role-Playing</td>    <td>Sports</td>     <td>-0.0166</td>   <td>0.9</td>  <td>-0.1184</td> <td>0.0853</td>   <td>False</td>\n",
       "</tr>\n",
       "<tr>\n",
       "  <td>Role-Playing</td>   <td>Strategy</td>    <td>-0.1934</td>  <td>0.006</td> <td>-0.3558</td> <td>-0.0311</td>  <td>True</td> \n",
       "</tr>\n",
       "<tr>\n",
       "     <td>Shooter</td>    <td>Simulation</td>   <td>-0.1944</td>  <td>0.001</td> <td>-0.3176</td> <td>-0.0712</td>  <td>True</td> \n",
       "</tr>\n",
       "<tr>\n",
       "     <td>Shooter</td>      <td>Sports</td>     <td>-0.1453</td>  <td>0.001</td> <td>-0.2393</td> <td>-0.0513</td>  <td>True</td> \n",
       "</tr>\n",
       "<tr>\n",
       "     <td>Shooter</td>     <td>Strategy</td>    <td>-0.3222</td>  <td>0.001</td> <td>-0.4798</td> <td>-0.1646</td>  <td>True</td> \n",
       "</tr>\n",
       "<tr>\n",
       "   <td>Simulation</td>     <td>Sports</td>     <td>0.0491</td>    <td>0.9</td>  <td>-0.0654</td> <td>0.1637</td>   <td>False</td>\n",
       "</tr>\n",
       "<tr>\n",
       "   <td>Simulation</td>    <td>Strategy</td>    <td>-0.1278</td> <td>0.3613</td> <td>-0.2984</td> <td>0.0429</td>   <td>False</td>\n",
       "</tr>\n",
       "<tr>\n",
       "     <td>Sports</td>      <td>Strategy</td>    <td>-0.1769</td> <td>0.0075</td> <td>-0.3278</td> <td>-0.0259</td>  <td>True</td> \n",
       "</tr>\n",
       "</table>"
      ],
      "text/plain": [
       "<class 'statsmodels.iolib.table.SimpleTable'>"
      ]
     },
     "execution_count": 43,
     "metadata": {},
     "output_type": "execute_result"
    },
    {
     "data": {
      "application/javascript": [
       "\n",
       "            setTimeout(function() {\n",
       "                var nbb_cell_id = 43;\n",
       "                var nbb_unformatted_code = \"tukey_results = pairwise_tukeyhsd(np.exp(vg_00_10[\\\"log_na_sales\\\"]), vg_00_10[\\\"Genre\\\"])\\n\\n# Plot results\\ntukey_results.plot_simultaneous()\\nplt.show()\\n\\n# Show summary table of results\\ntukey_results.summary()\";\n",
       "                var nbb_formatted_code = \"tukey_results = pairwise_tukeyhsd(np.exp(vg_00_10[\\\"log_na_sales\\\"]), vg_00_10[\\\"Genre\\\"])\\n\\n# Plot results\\ntukey_results.plot_simultaneous()\\nplt.show()\\n\\n# Show summary table of results\\ntukey_results.summary()\";\n",
       "                var nbb_cells = Jupyter.notebook.get_cells();\n",
       "                for (var i = 0; i < nbb_cells.length; ++i) {\n",
       "                    if (nbb_cells[i].input_prompt_number == nbb_cell_id) {\n",
       "                        if (nbb_cells[i].get_text() == nbb_unformatted_code) {\n",
       "                             nbb_cells[i].set_text(nbb_formatted_code);\n",
       "                        }\n",
       "                        break;\n",
       "                    }\n",
       "                }\n",
       "            }, 500);\n",
       "            "
      ],
      "text/plain": [
       "<IPython.core.display.Javascript object>"
      ]
     },
     "metadata": {},
     "output_type": "display_data"
    },
    {
     "data": {
      "application/javascript": [
       "\n",
       "            setTimeout(function() {\n",
       "                var nbb_cell_id = 43;\n",
       "                var nbb_unformatted_code = \"tukey_results = pairwise_tukeyhsd(np.exp(vg_00_10[\\\"log_na_sales\\\"]), vg_00_10[\\\"Genre\\\"])\\n\\n# Plot results\\ntukey_results.plot_simultaneous()\\nplt.show()\\n\\n# Show summary table of results\\ntukey_results.summary()\";\n",
       "                var nbb_formatted_code = \"tukey_results = pairwise_tukeyhsd(np.exp(vg_00_10[\\\"log_na_sales\\\"]), vg_00_10[\\\"Genre\\\"])\\n\\n# Plot results\\ntukey_results.plot_simultaneous()\\nplt.show()\\n\\n# Show summary table of results\\ntukey_results.summary()\";\n",
       "                var nbb_cells = Jupyter.notebook.get_cells();\n",
       "                for (var i = 0; i < nbb_cells.length; ++i) {\n",
       "                    if (nbb_cells[i].input_prompt_number == nbb_cell_id) {\n",
       "                        if (nbb_cells[i].get_text() == nbb_unformatted_code) {\n",
       "                             nbb_cells[i].set_text(nbb_formatted_code);\n",
       "                        }\n",
       "                        break;\n",
       "                    }\n",
       "                }\n",
       "            }, 500);\n",
       "            "
      ],
      "text/plain": [
       "<IPython.core.display.Javascript object>"
      ]
     },
     "metadata": {},
     "output_type": "display_data"
    },
    {
     "data": {
      "application/javascript": [
       "\n",
       "            setTimeout(function() {\n",
       "                var nbb_cell_id = 43;\n",
       "                var nbb_unformatted_code = \"tukey_results = pairwise_tukeyhsd(np.exp(vg_00_10[\\\"log_na_sales\\\"]), vg_00_10[\\\"Genre\\\"])\\n\\n# Plot results\\ntukey_results.plot_simultaneous()\\nplt.show()\\n\\n# Show summary table of results\\ntukey_results.summary()\";\n",
       "                var nbb_formatted_code = \"tukey_results = pairwise_tukeyhsd(np.exp(vg_00_10[\\\"log_na_sales\\\"]), vg_00_10[\\\"Genre\\\"])\\n\\n# Plot results\\ntukey_results.plot_simultaneous()\\nplt.show()\\n\\n# Show summary table of results\\ntukey_results.summary()\";\n",
       "                var nbb_cells = Jupyter.notebook.get_cells();\n",
       "                for (var i = 0; i < nbb_cells.length; ++i) {\n",
       "                    if (nbb_cells[i].input_prompt_number == nbb_cell_id) {\n",
       "                        if (nbb_cells[i].get_text() == nbb_unformatted_code) {\n",
       "                             nbb_cells[i].set_text(nbb_formatted_code);\n",
       "                        }\n",
       "                        break;\n",
       "                    }\n",
       "                }\n",
       "            }, 500);\n",
       "            "
      ],
      "text/plain": [
       "<IPython.core.display.Javascript object>"
      ]
     },
     "metadata": {},
     "output_type": "display_data"
    }
   ],
   "source": [
    "# undoes nat log\n",
    "tukey_results = pairwise_tukeyhsd(np.exp(vg_00_10[\"log_na_sales\"]), vg_00_10[\"Genre\"])\n",
    "\n",
    "# Plot results\n",
    "tukey_results.plot_simultaneous()\n",
    "plt.show()\n",
    "\n",
    "# Show summary table of results\n",
    "tukey_results.summary()"
   ]
  },
  {
   "cell_type": "code",
   "execution_count": 44,
   "metadata": {},
   "outputs": [
    {
     "data": {
      "image/png": "[encoded data removed]",
      "text/plain": [
       "<Figure size 720x432 with 1 Axes>"
      ]
     },
     "metadata": {
      "needs_background": "light"
     },
     "output_type": "display_data"
    },
    {
     "data": {
      "text/html": [
       "<table class=\"simpletable\">\n",
       "<caption>Multiple Comparison of Means - Tukey HSD, FWER=0.05</caption>\n",
       "<tr>\n",
       "     <th>group1</th>       <th>group2</th>    <th>meandiff</th>  <th>p-adj</th>  <th>lower</th>   <th>upper</th>  <th>reject</th>\n",
       "</tr>\n",
       "<tr>\n",
       "     <td>Action</td>      <td>Fighting</td>    <td>0.0976</td>    <td>0.9</td>  <td>-0.1078</td>  <td>0.303</td>   <td>False</td>\n",
       "</tr>\n",
       "<tr>\n",
       "     <td>Action</td>        <td>Misc</td>      <td>-0.0221</td>   <td>0.9</td>  <td>-0.1715</td> <td>0.1273</td>   <td>False</td>\n",
       "</tr>\n",
       "<tr>\n",
       "     <td>Action</td>      <td>Platform</td>    <td>0.0376</td>    <td>0.9</td>  <td>-0.1417</td> <td>0.2169</td>   <td>False</td>\n",
       "</tr>\n",
       "<tr>\n",
       "     <td>Action</td>       <td>Puzzle</td>     <td>-0.6604</td>  <td>0.001</td> <td>-0.8852</td> <td>-0.4356</td>  <td>True</td> \n",
       "</tr>\n",
       "<tr>\n",
       "     <td>Action</td>       <td>Racing</td>     <td>-0.2481</td>  <td>0.001</td> <td>-0.4061</td> <td>-0.0902</td>  <td>True</td> \n",
       "</tr>\n",
       "<tr>\n",
       "     <td>Action</td>    <td>Role-Playing</td>  <td>-0.0285</td>   <td>0.9</td>  <td>-0.1972</td> <td>0.1401</td>   <td>False</td>\n",
       "</tr>\n",
       "<tr>\n",
       "     <td>Action</td>       <td>Shooter</td>    <td>0.1192</td>  <td>0.3115</td> <td>-0.035</td>  <td>0.2733</td>   <td>False</td>\n",
       "</tr>\n",
       "<tr>\n",
       "     <td>Action</td>     <td>Simulation</td>    <td>-0.07</td>    <td>0.9</td>  <td>-0.2619</td>  <td>0.122</td>   <td>False</td>\n",
       "</tr>\n",
       "<tr>\n",
       "     <td>Action</td>       <td>Sports</td>     <td>0.0827</td>   <td>0.621</td> <td>-0.0496</td> <td>0.2149</td>   <td>False</td>\n",
       "</tr>\n",
       "<tr>\n",
       "     <td>Action</td>      <td>Strategy</td>    <td>-0.675</td>   <td>0.001</td> <td>-0.9326</td> <td>-0.4174</td>  <td>True</td> \n",
       "</tr>\n",
       "<tr>\n",
       "    <td>Fighting</td>       <td>Misc</td>      <td>-0.1198</td> <td>0.8024</td> <td>-0.3439</td> <td>0.1044</td>   <td>False</td>\n",
       "</tr>\n",
       "<tr>\n",
       "    <td>Fighting</td>     <td>Platform</td>     <td>-0.06</td>    <td>0.9</td>  <td>-0.3051</td>  <td>0.185</td>   <td>False</td>\n",
       "</tr>\n",
       "<tr>\n",
       "    <td>Fighting</td>      <td>Puzzle</td>     <td>-0.758</td>   <td>0.001</td> <td>-1.0382</td> <td>-0.4779</td>  <td>True</td> \n",
       "</tr>\n",
       "<tr>\n",
       "    <td>Fighting</td>      <td>Racing</td>     <td>-0.3458</td>  <td>0.001</td> <td>-0.5757</td> <td>-0.1159</td>  <td>True</td> \n",
       "</tr>\n",
       "<tr>\n",
       "    <td>Fighting</td>   <td>Role-Playing</td>  <td>-0.1262</td>  <td>0.808</td> <td>-0.3636</td> <td>0.1112</td>   <td>False</td>\n",
       "</tr>\n",
       "<tr>\n",
       "    <td>Fighting</td>      <td>Shooter</td>    <td>0.0215</td>    <td>0.9</td>  <td>-0.2058</td> <td>0.2489</td>   <td>False</td>\n",
       "</tr>\n",
       "<tr>\n",
       "    <td>Fighting</td>    <td>Simulation</td>   <td>-0.1676</td> <td>0.5535</td> <td>-0.4221</td> <td>0.0869</td>   <td>False</td>\n",
       "</tr>\n",
       "<tr>\n",
       "    <td>Fighting</td>      <td>Sports</td>     <td>-0.015</td>    <td>0.9</td>  <td>-0.2281</td> <td>0.1981</td>   <td>False</td>\n",
       "</tr>\n",
       "<tr>\n",
       "    <td>Fighting</td>     <td>Strategy</td>    <td>-0.7726</td>  <td>0.001</td> <td>-1.0797</td> <td>-0.4656</td>  <td>True</td> \n",
       "</tr>\n",
       "<tr>\n",
       "      <td>Misc</td>       <td>Platform</td>    <td>0.0597</td>    <td>0.9</td>  <td>-0.1408</td> <td>0.2602</td>   <td>False</td>\n",
       "</tr>\n",
       "<tr>\n",
       "      <td>Misc</td>        <td>Puzzle</td>     <td>-0.6383</td>  <td>0.001</td> <td>-0.8803</td> <td>-0.3962</td>  <td>True</td> \n",
       "</tr>\n",
       "<tr>\n",
       "      <td>Misc</td>        <td>Racing</td>     <td>-0.226</td>   <td>0.003</td> <td>-0.4077</td> <td>-0.0444</td>  <td>True</td> \n",
       "</tr>\n",
       "<tr>\n",
       "      <td>Misc</td>     <td>Role-Playing</td>  <td>-0.0064</td>   <td>0.9</td>  <td>-0.1975</td> <td>0.1846</td>   <td>False</td>\n",
       "</tr>\n",
       "<tr>\n",
       "      <td>Misc</td>        <td>Shooter</td>    <td>0.1413</td>   <td>0.276</td> <td>-0.0371</td> <td>0.3196</td>   <td>False</td>\n",
       "</tr>\n",
       "<tr>\n",
       "      <td>Misc</td>      <td>Simulation</td>   <td>-0.0479</td>   <td>0.9</td>  <td>-0.2598</td>  <td>0.164</td>   <td>False</td>\n",
       "</tr>\n",
       "<tr>\n",
       "      <td>Misc</td>        <td>Sports</td>     <td>0.1048</td>  <td>0.5598</td> <td>-0.0551</td> <td>0.2646</td>   <td>False</td>\n",
       "</tr>\n",
       "<tr>\n",
       "      <td>Misc</td>       <td>Strategy</td>    <td>-0.6529</td>  <td>0.001</td> <td>-0.9256</td> <td>-0.3801</td>  <td>True</td> \n",
       "</tr>\n",
       "<tr>\n",
       "    <td>Platform</td>      <td>Puzzle</td>     <td>-0.698</td>   <td>0.001</td> <td>-0.9596</td> <td>-0.4364</td>  <td>True</td> \n",
       "</tr>\n",
       "<tr>\n",
       "    <td>Platform</td>      <td>Racing</td>     <td>-0.2857</td>  <td>0.001</td> <td>-0.4927</td> <td>-0.0788</td>  <td>True</td> \n",
       "</tr>\n",
       "<tr>\n",
       "    <td>Platform</td>   <td>Role-Playing</td>  <td>-0.0661</td>   <td>0.9</td>  <td>-0.2814</td> <td>0.1491</td>   <td>False</td>\n",
       "</tr>\n",
       "<tr>\n",
       "    <td>Platform</td>      <td>Shooter</td>    <td>0.0816</td>    <td>0.9</td>  <td>-0.1225</td> <td>0.2856</td>   <td>False</td>\n",
       "</tr>\n",
       "<tr>\n",
       "    <td>Platform</td>    <td>Simulation</td>   <td>-0.1076</td>   <td>0.9</td>  <td>-0.3415</td> <td>0.1263</td>   <td>False</td>\n",
       "</tr>\n",
       "<tr>\n",
       "    <td>Platform</td>      <td>Sports</td>     <td>0.0451</td>    <td>0.9</td>  <td>-0.143</td>  <td>0.2331</td>   <td>False</td>\n",
       "</tr>\n",
       "<tr>\n",
       "    <td>Platform</td>     <td>Strategy</td>    <td>-0.7126</td>  <td>0.001</td> <td>-1.0028</td> <td>-0.4224</td>  <td>True</td> \n",
       "</tr>\n",
       "<tr>\n",
       "     <td>Puzzle</td>       <td>Racing</td>     <td>0.4123</td>   <td>0.001</td> <td>0.1649</td>  <td>0.6597</td>   <td>True</td> \n",
       "</tr>\n",
       "<tr>\n",
       "     <td>Puzzle</td>    <td>Role-Playing</td>  <td>0.6319</td>   <td>0.001</td> <td>0.3775</td>  <td>0.8863</td>   <td>True</td> \n",
       "</tr>\n",
       "<tr>\n",
       "     <td>Puzzle</td>       <td>Shooter</td>    <td>0.7796</td>   <td>0.001</td> <td>0.5345</td>  <td>1.0246</td>   <td>True</td> \n",
       "</tr>\n",
       "<tr>\n",
       "     <td>Puzzle</td>     <td>Simulation</td>   <td>0.5904</td>   <td>0.001</td>  <td>0.32</td>   <td>0.8608</td>   <td>True</td> \n",
       "</tr>\n",
       "<tr>\n",
       "     <td>Puzzle</td>       <td>Sports</td>     <td>0.7431</td>   <td>0.001</td> <td>0.5112</td>  <td>0.9749</td>   <td>True</td> \n",
       "</tr>\n",
       "<tr>\n",
       "     <td>Puzzle</td>      <td>Strategy</td>    <td>-0.0146</td>   <td>0.9</td>  <td>-0.3349</td> <td>0.3058</td>   <td>False</td>\n",
       "</tr>\n",
       "<tr>\n",
       "     <td>Racing</td>    <td>Role-Playing</td>  <td>0.2196</td>  <td>0.0156</td> <td>0.0218</td>  <td>0.4174</td>   <td>True</td> \n",
       "</tr>\n",
       "<tr>\n",
       "     <td>Racing</td>       <td>Shooter</td>    <td>0.3673</td>   <td>0.001</td> <td>0.1817</td>  <td>0.5529</td>   <td>True</td> \n",
       "</tr>\n",
       "<tr>\n",
       "     <td>Racing</td>     <td>Simulation</td>   <td>0.1781</td>  <td>0.2329</td> <td>-0.0399</td> <td>0.3962</td>   <td>False</td>\n",
       "</tr>\n",
       "<tr>\n",
       "     <td>Racing</td>       <td>Sports</td>     <td>0.3308</td>   <td>0.001</td> <td>0.1629</td>  <td>0.4986</td>   <td>True</td> \n",
       "</tr>\n",
       "<tr>\n",
       "     <td>Racing</td>      <td>Strategy</td>    <td>-0.4268</td>  <td>0.001</td> <td>-0.7044</td> <td>-0.1493</td>  <td>True</td> \n",
       "</tr>\n",
       "<tr>\n",
       "  <td>Role-Playing</td>    <td>Shooter</td>    <td>0.1477</td>  <td>0.3408</td> <td>-0.0471</td> <td>0.3425</td>   <td>False</td>\n",
       "</tr>\n",
       "<tr>\n",
       "  <td>Role-Playing</td>  <td>Simulation</td>   <td>-0.0414</td>   <td>0.9</td>  <td>-0.2673</td> <td>0.1845</td>   <td>False</td>\n",
       "</tr>\n",
       "<tr>\n",
       "  <td>Role-Playing</td>    <td>Sports</td>     <td>0.1112</td>  <td>0.6211</td> <td>-0.0668</td> <td>0.2892</td>   <td>False</td>\n",
       "</tr>\n",
       "<tr>\n",
       "  <td>Role-Playing</td>   <td>Strategy</td>    <td>-0.6464</td>  <td>0.001</td> <td>-0.9302</td> <td>-0.3627</td>  <td>True</td> \n",
       "</tr>\n",
       "<tr>\n",
       "     <td>Shooter</td>    <td>Simulation</td>   <td>-0.1891</td> <td>0.1472</td> <td>-0.4044</td> <td>0.0261</td>   <td>False</td>\n",
       "</tr>\n",
       "<tr>\n",
       "     <td>Shooter</td>      <td>Sports</td>     <td>-0.0365</td>   <td>0.9</td>  <td>-0.2008</td> <td>0.1278</td>   <td>False</td>\n",
       "</tr>\n",
       "<tr>\n",
       "     <td>Shooter</td>     <td>Strategy</td>    <td>-0.7941</td>  <td>0.001</td> <td>-1.0695</td> <td>-0.5187</td>  <td>True</td> \n",
       "</tr>\n",
       "<tr>\n",
       "   <td>Simulation</td>     <td>Sports</td>     <td>0.1526</td>   <td>0.332</td> <td>-0.0476</td> <td>0.3528</td>   <td>False</td>\n",
       "</tr>\n",
       "<tr>\n",
       "   <td>Simulation</td>    <td>Strategy</td>    <td>-0.605</td>   <td>0.001</td> <td>-0.9032</td> <td>-0.3068</td>  <td>True</td> \n",
       "</tr>\n",
       "<tr>\n",
       "     <td>Sports</td>      <td>Strategy</td>    <td>-0.7576</td>  <td>0.001</td> <td>-1.0214</td> <td>-0.4939</td>  <td>True</td> \n",
       "</tr>\n",
       "</table>"
      ],
      "text/plain": [
       "<class 'statsmodels.iolib.table.SimpleTable'>"
      ]
     },
     "execution_count": 44,
     "metadata": {},
     "output_type": "execute_result"
    },
    {
     "data": {
      "application/javascript": [
       "\n",
       "            setTimeout(function() {\n",
       "                var nbb_cell_id = 44;\n",
       "                var nbb_unformatted_code = \"tukey_results = pairwise_tukeyhsd(vg_00_10[\\\"log_na_sales\\\"], vg_00_10[\\\"Genre\\\"])\\n\\n# Plot results\\ntukey_results.plot_simultaneous()\\nplt.show()\\n\\n# Show summary table of results\\ntukey_results.summary()\";\n",
       "                var nbb_formatted_code = \"tukey_results = pairwise_tukeyhsd(vg_00_10[\\\"log_na_sales\\\"], vg_00_10[\\\"Genre\\\"])\\n\\n# Plot results\\ntukey_results.plot_simultaneous()\\nplt.show()\\n\\n# Show summary table of results\\ntukey_results.summary()\";\n",
       "                var nbb_cells = Jupyter.notebook.get_cells();\n",
       "                for (var i = 0; i < nbb_cells.length; ++i) {\n",
       "                    if (nbb_cells[i].input_prompt_number == nbb_cell_id) {\n",
       "                        if (nbb_cells[i].get_text() == nbb_unformatted_code) {\n",
       "                             nbb_cells[i].set_text(nbb_formatted_code);\n",
       "                        }\n",
       "                        break;\n",
       "                    }\n",
       "                }\n",
       "            }, 500);\n",
       "            "
      ],
      "text/plain": [
       "<IPython.core.display.Javascript object>"
      ]
     },
     "metadata": {},
     "output_type": "display_data"
    },
    {
     "data": {
      "application/javascript": [
       "\n",
       "            setTimeout(function() {\n",
       "                var nbb_cell_id = 44;\n",
       "                var nbb_unformatted_code = \"tukey_results = pairwise_tukeyhsd(vg_00_10[\\\"log_na_sales\\\"], vg_00_10[\\\"Genre\\\"])\\n\\n# Plot results\\ntukey_results.plot_simultaneous()\\nplt.show()\\n\\n# Show summary table of results\\ntukey_results.summary()\";\n",
       "                var nbb_formatted_code = \"tukey_results = pairwise_tukeyhsd(vg_00_10[\\\"log_na_sales\\\"], vg_00_10[\\\"Genre\\\"])\\n\\n# Plot results\\ntukey_results.plot_simultaneous()\\nplt.show()\\n\\n# Show summary table of results\\ntukey_results.summary()\";\n",
       "                var nbb_cells = Jupyter.notebook.get_cells();\n",
       "                for (var i = 0; i < nbb_cells.length; ++i) {\n",
       "                    if (nbb_cells[i].input_prompt_number == nbb_cell_id) {\n",
       "                        if (nbb_cells[i].get_text() == nbb_unformatted_code) {\n",
       "                             nbb_cells[i].set_text(nbb_formatted_code);\n",
       "                        }\n",
       "                        break;\n",
       "                    }\n",
       "                }\n",
       "            }, 500);\n",
       "            "
      ],
      "text/plain": [
       "<IPython.core.display.Javascript object>"
      ]
     },
     "metadata": {},
     "output_type": "display_data"
    },
    {
     "data": {
      "application/javascript": [
       "\n",
       "            setTimeout(function() {\n",
       "                var nbb_cell_id = 44;\n",
       "                var nbb_unformatted_code = \"tukey_results = pairwise_tukeyhsd(vg_00_10[\\\"log_na_sales\\\"], vg_00_10[\\\"Genre\\\"])\\n\\n# Plot results\\ntukey_results.plot_simultaneous()\\nplt.show()\\n\\n# Show summary table of results\\ntukey_results.summary()\";\n",
       "                var nbb_formatted_code = \"tukey_results = pairwise_tukeyhsd(vg_00_10[\\\"log_na_sales\\\"], vg_00_10[\\\"Genre\\\"])\\n\\n# Plot results\\ntukey_results.plot_simultaneous()\\nplt.show()\\n\\n# Show summary table of results\\ntukey_results.summary()\";\n",
       "                var nbb_cells = Jupyter.notebook.get_cells();\n",
       "                for (var i = 0; i < nbb_cells.length; ++i) {\n",
       "                    if (nbb_cells[i].input_prompt_number == nbb_cell_id) {\n",
       "                        if (nbb_cells[i].get_text() == nbb_unformatted_code) {\n",
       "                             nbb_cells[i].set_text(nbb_formatted_code);\n",
       "                        }\n",
       "                        break;\n",
       "                    }\n",
       "                }\n",
       "            }, 500);\n",
       "            "
      ],
      "text/plain": [
       "<IPython.core.display.Javascript object>"
      ]
     },
     "metadata": {},
     "output_type": "display_data"
    }
   ],
   "source": [
    "tukey_results = pairwise_tukeyhsd(vg_00_10[\"log_na_sales\"], vg_00_10[\"Genre\"])\n",
    "\n",
    "# Plot results\n",
    "tukey_results.plot_simultaneous()\n",
    "plt.show()\n",
    "\n",
    "# Show summary table of results\n",
    "tukey_results.summary()"
   ]
  },
  {
   "cell_type": "markdown",
   "metadata": {},
   "source": [
    "* individual histograms for interesting \n",
    "** original and log to show real meaning and validity\n",
    "* show some exploratory anlaysis\n",
    "* next steps\n",
    "** corr with marketing and sales?\n",
    "** how do the bottom of the genres compare to each other?"
   ]
  },
  {
   "cell_type": "code",
   "execution_count": null,
   "metadata": {},
   "outputs": [],
   "source": []
  },
  {
   "cell_type": "code",
   "execution_count": null,
   "metadata": {},
   "outputs": [],
   "source": []
  }
 ],
 "metadata": {
  "kernelspec": {
   "display_name": "Python 3",
   "language": "python",
   "name": "python3"
  },
  "language_info": {
   "codemirror_mode": {
    "name": "ipython",
    "version": 3
   },
   "file_extension": ".py",
   "mimetype": "text/x-python",
   "name": "python",
   "nbconvert_exporter": "python",
   "pygments_lexer": "ipython3",
   "version": "3.7.6"
  }
 },
 "nbformat": 4,
 "nbformat_minor": 4
}
