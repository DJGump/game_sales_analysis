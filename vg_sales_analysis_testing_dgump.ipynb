{
 "cells": [
  {
   "cell_type": "markdown",
   "metadata": {},
   "source": [
    "# Video Game Sales Analysis\n",
    "\n",
    "### Comparing sales between genres from 2000 to 2019\n",
    "\n",
    "Video game are an increasingly popular pass-time. As technology has progressed, so too has the potential for games to create a fun and memorable experience. Titles are produced on all scales, from one-person projects to blockbuster-level endeavors. The market for games likewise benefits from burgeoning popularity. The demographics of gamers is wider than ever before. By analyzing which genres of games sell better, the following research aims to inform where publishers might focus their interest and assist developers in making their projects more marketable. "
   ]
  },
  {
   "cell_type": "code",
   "execution_count": null,
   "metadata": {},
   "outputs": [],
   "source": [
    "# imports\n",
    "import pandas as pd\n",
    "import numpy as np\n",
    "from scipy import stats\n",
    "from statsmodels.graphics.gofplots import qqplot\n",
    "from statsmodels.stats.multitest import multipletests\n",
    "import seaborn as sns\n",
    "import matplotlib.pyplot as plt\n",
    "from statsmodels.formula.api import ols\n",
    "from statsmodels.stats.multicomp import pairwise_tukeyhsd\n",
    "from sklearn import preprocessing\n",
    "\n",
    "\n",
    "%matplotlib inline\n",
    "%reload_ext nb_black"
   ]
  },
  {
   "cell_type": "code",
   "execution_count": null,
   "metadata": {},
   "outputs": [],
   "source": [
    "def calc_non_param_ci(x1, x2, alpha=0.05):\n",
    "    \"\"\"Calc confidence interval for 2 group median test\n",
    "\n",
    "    Process:\n",
    "      * Find all pairwise diffs\n",
    "      * Sort diffs\n",
    "      * Find appropriate value of k\n",
    "      * Choose lower bound from diffs as: diffs[k]\n",
    "      * Choose upper bound from diffs as: diffs[-k]\n",
    "\n",
    "    Based on: https://www.ncbi.nlm.nih.gov/pmc/articles/PMC2545906/\n",
    "\n",
    "    :param x1: sample 1\n",
    "    :param x2: sample 2\n",
    "    :param alpha: significance level\n",
    "    :return: (tuple) confidence interval bounds\n",
    "    \"\"\"\n",
    "    x1 = np.array(x1)\n",
    "    x2 = np.array(x2)\n",
    "\n",
    "    n1 = x1.size\n",
    "    n2 = x2.size\n",
    "    cv = stats.norm.ppf(1 - alpha / 2)\n",
    "\n",
    "    # Find pairwise differences for every datapoint in each group\n",
    "    diffs = (x1[:, None] - x2).flatten()\n",
    "    diffs.sort()\n",
    "\n",
    "    # For an approximate (1-a)% confidence interval first calculate K:\n",
    "    k = int(round(n1 * n2 / 2 - (cv * (n1 * n2 * (n1 + n2 + 1) / 12) ** 0.5)))\n",
    "\n",
    "    # The Kth smallest to the Kth largest of the n x m differences\n",
    "    # n1 and n2 should be > ~20\n",
    "    ci_lo = diffs[k]\n",
    "    ci_hi = diffs[-k]\n",
    "\n",
    "    return ci_lo, ci_hi"
   ]
  },
  {
   "cell_type": "code",
   "execution_count": null,
   "metadata": {},
   "outputs": [],
   "source": [
    "def rbc_ind(x1, x2):\n",
    "    \"\"\"Calculate rank-biserial correlation coefficient\n",
    "\n",
    "    Output values range from [0, 1]; interpret as:\n",
    "      * Values closer to 0 are a weaker effect\n",
    "      * Values closer to 1 are a stronger effect\n",
    "\n",
    "    :param x1: sample 1\n",
    "    :param x2: sample 2\n",
    "    :return: (float) rank-biserial correlation coefficient\n",
    "    \"\"\"\n",
    "    n1 = x1.size\n",
    "    n2 = x2.size\n",
    "\n",
    "    u, _ = stats.mannwhitneyu(x1, x2)\n",
    "    rbc = 1 - (2 * u) / (n1 * n2)\n",
    "\n",
    "    return rbc"
   ]
  },
  {
   "cell_type": "code",
   "execution_count": null,
   "metadata": {},
   "outputs": [],
   "source": [
    "def cles_ind(x1, x2):\n",
    "    \"\"\"Calc common language effect size\n",
    "\n",
    "    Interpret as the probability that a score sampled\n",
    "    at random from one distribution will be greater than\n",
    "    a score sampled from some other distribution.\n",
    "\n",
    "    Based on: http://psycnet.apa.org/doi/10.1037/0033-2909.111.2.361\n",
    "\n",
    "    :param x1: sample 1\n",
    "    :param x2: sample 2\n",
    "    :return: (float) common language effect size\n",
    "    \"\"\"\n",
    "    x1 = np.array(x1)\n",
    "    x2 = np.array(x2)\n",
    "\n",
    "    diff = x1[:, None] - x2\n",
    "    cles = max((diff < 0).sum(), (diff > 0).sum()) / diff.size\n",
    "\n",
    "    return cles"
   ]
  },
  {
   "cell_type": "markdown",
   "metadata": {},
   "source": [
    "This data was scraped from [vgchartz.com](vgchartz.com) with a [BeautifulSoup script by GitHib user GregorUT](https://github.com/GregorUT/vgchartzScrape) and [hosted on Kaggle](https://www.kaggle.com/gregorut/videogamesales). \n",
    "\n",
    "The data is from 1985 to 2020 and includes categorical information including game title, year of release, platform released on, genre, and publisher. The fields for North American sales, European sales, Japanese sales, and global sales are used as response variables for the analysis.|"
   ]
  },
  {
   "cell_type": "code",
   "execution_count": null,
   "metadata": {},
   "outputs": [],
   "source": [
    "# load in the data\n",
    "data_path = \"data/vgsales.csv\"\n",
    "vg_sales = pd.read_csv(data_path)\n",
    "vg_sales.head()"
   ]
  },
  {
   "cell_type": "code",
   "execution_count": null,
   "metadata": {},
   "outputs": [],
   "source": [
    "vg_sales.NA_Sales.describe()"
   ]
  },
  {
   "cell_type": "markdown",
   "metadata": {},
   "source": [
    "The analysis will be only for games released after the year 2000. Sony's Playstation was released in 1994, and marked the introduction of larger, more detailed games made possible by the use of compact discs. Comparing sales from early in gaming history would not be reflective of the current climate. \n",
    "\n",
    "The data will be categorized by decade, and then the 2000's and 2010's will be selected. The data set only contains one entry for 2020, so it will also be dismissed."
   ]
  },
  {
   "cell_type": "code",
   "execution_count": null,
   "metadata": {},
   "outputs": [],
   "source": [
    "# create 'decade' field for each game\n",
    "eighties = list(range(1980, 1990))\n",
    "nineties = list(range(1990, 2000))\n",
    "oughts = list(range(2000, 2010))\n",
    "tens = list(range(2010, 2020))\n",
    "twenties = list(range(2020, 2030))\n",
    "\n",
    "vg_sales[\"decade\"] = \"80s\"\n",
    "vg_sales.loc[vg_sales[\"Year\"].isin(nineties), \"decade\"] = \"90s\"\n",
    "vg_sales.loc[vg_sales[\"Year\"].isin(oughts), \"decade\"] = \"00s\"\n",
    "vg_sales.loc[vg_sales[\"Year\"].isin(tens), \"decade\"] = \"10s\"\n",
    "vg_sales.loc[vg_sales[\"Year\"].isin(twenties), \"decade\"] = \"20s\"\n",
    "print(vg_sales[\"decade\"].value_counts())\n",
    "\n",
    "# select 2000-2019\n",
    "vg_00_10 = vg_sales[vg_sales[\"decade\"] != \"80s\"]\n",
    "vg_00_10 = vg_00_10[vg_00_10[\"decade\"] != \"20s\"]\n",
    "vg_00_10 = vg_00_10[vg_00_10[\"decade\"] != \"90s\"]\n",
    "vg_00_10.decade.value_counts()"
   ]
  },
  {
   "cell_type": "markdown",
   "metadata": {},
   "source": [
    "This leaves 9,208 games for the 2000's and 5,144 for the 2010's. Check and handle null values."
   ]
  },
  {
   "cell_type": "code",
   "execution_count": null,
   "metadata": {},
   "outputs": [],
   "source": [
    "vg_00_10.isna().sum()"
   ]
  },
  {
   "cell_type": "markdown",
   "metadata": {},
   "source": [
    "The `publisher` field has some null values. This shouldn't affect the analysis based on genre, but these entries will be dropped to future proof subsequent analysis. Any title with `NA_Sales` of zero will dropped to preserve the integrity of the statistical tests. If another region's sales are analyzed, this will need to be redone accordingly."
   ]
  },
  {
   "cell_type": "code",
   "execution_count": null,
   "metadata": {},
   "outputs": [],
   "source": [
    "# remove entries with zero 'NA_Sales'\n",
    "vg_00_10 = vg_00_10[vg_00_10[\"NA_Sales\"] > 0.08]\n",
    "vg_00_10 = vg_00_10.dropna()\n",
    "vg_00_10.decade.value_counts()"
   ]
  },
  {
   "cell_type": "markdown",
   "metadata": {},
   "source": [
    "With the desired years selected, the distributions of `Genre` can be compared."
   ]
  },
  {
   "cell_type": "code",
   "execution_count": null,
   "metadata": {},
   "outputs": [],
   "source": [
    "boxplots = sns.boxplot(\"Genre\", \"NA_Sales\", data=vg_00_10)\n",
    "boxplots.set_xticklabels(boxplots.get_xticklabels(), rotation=45)\n",
    "plt.show()"
   ]
  },
  {
   "cell_type": "markdown",
   "metadata": {},
   "source": [
    "There are two isses with these distributions. First, each genre is extremely skewed. This is expected as long-running franchises with name recognition are going to be selling better. Second, The sports genre has an outlier amongst outliers. With over 40 million units sold, this extreme outlier is Wii sports, with more than double the sales of the next closest game of any genre."
   ]
  },
  {
   "cell_type": "code",
   "execution_count": null,
   "metadata": {},
   "outputs": [],
   "source": [
    "vg_00_10.head()"
   ]
  },
  {
   "cell_type": "markdown",
   "metadata": {},
   "source": [
    "Wii sports has an astronomically higher number of units sold compared to other games of it's era. It shipped with the Wii, inflating its sales, and focused on simplicity and accessibility. Since this research is meant to gain new insight, Wii sports will be discarded as [the lesson it teaches is already well learned](https://www.gamespot.com/articles/the-most-influential-games-of-the-21st-century-wii/1100-6466810/#:~:text=Like%20the%20Wii%2C%20it%20focused,the%20industry%20would%20approach%20accessibility)."
   ]
  },
  {
   "cell_type": "code",
   "execution_count": null,
   "metadata": {},
   "outputs": [],
   "source": [
    "# drop wii sports\n",
    "# vg_sales = vg_sales[vg_sales[\"Name\"] != \"Wii Sports\"]\n",
    "vg_00_10 = vg_00_10[vg_00_10[\"Name\"] != \"Wii Sports\"]\n",
    "vg_00_10.head()"
   ]
  },
  {
   "cell_type": "markdown",
   "metadata": {},
   "source": [
    "With Wii Sports discarded, the distributions are still heavily skewed, but are more comparable, especially between the more better selling genres."
   ]
  },
  {
   "cell_type": "code",
   "execution_count": null,
   "metadata": {},
   "outputs": [],
   "source": [
    "boxplots = sns.boxplot(\"Genre\", \"NA_Sales\", data=vg_00_10)\n",
    "boxplots.set_xticklabels(boxplots.get_xticklabels(), rotation=45)\n",
    "plt.show()"
   ]
  },
  {
   "cell_type": "markdown",
   "metadata": {},
   "source": [
    "These distributions are obviously skewed. By taking the natural log of `NA_Sales`, the meaning of ratios will be preserved while making the data  more visually palatable. Exponentiation after analysis will need to be done to describe the data in real terms."
   ]
  },
  {
   "cell_type": "code",
   "execution_count": null,
   "metadata": {},
   "outputs": [],
   "source": [
    "vg_00_10[\"log_na_sales\"] = np.log(vg_00_10[\"NA_Sales\"])\n",
    "# pt = preprocessing.PowerTransformer(method=\"box-cox\", standardize=False)\n",
    "# vg_00_10[\"nrml_na_sales\"] = pt.fit_transform(vg_00_10[\"NA_Sales\"].values.reshape(1, -1))\n",
    "\n",
    "\n",
    "boxplots = sns.boxplot(\"Genre\", \"log_na_sales\", data=vg_00_10)\n",
    "boxplots.set_xticklabels(boxplots.get_xticklabels(), rotation=45)\n",
    "plt.show()"
   ]
  },
  {
   "cell_type": "markdown",
   "metadata": {
    "scrolled": true
   },
   "source": [
    "With this tranformation, the data is easier to visualize. The distributions now appear more normal, but visual inspection of boxplots is not sufficient to verify normality. QQ plots and a Shapiro tests can check normality. If all distributions are normal, a one-way ANOVA test will be the method of inquiry for determining if any of the mean sales by genre are significantly different. It is expected that these transformed distriubution will not be normal, as the logarithmic transformation preserves the ratios of the data. "
   ]
  },
  {
   "cell_type": "code",
   "execution_count": null,
   "metadata": {},
   "outputs": [],
   "source": [
    "# separate based on genres.\n",
    "sports = vg_00_10[vg_00_10[\"Genre\"] == \"Sports\"]\n",
    "action = vg_00_10[vg_00_10[\"Genre\"] == \"Action\"]\n",
    "misc = vg_00_10[vg_00_10[\"Genre\"] == \"Misc\"]\n",
    "rpg = vg_00_10[vg_00_10[\"Genre\"] == \"Role-Playing\"]\n",
    "adventure = vg_00_10[vg_00_10[\"Genre\"] == \"Adevnture\"]\n",
    "shooter = vg_00_10[vg_00_10[\"Genre\"] == \"Shooter\"]\n",
    "racing = vg_00_10[vg_00_10[\"Genre\"] == \"Racing\"]\n",
    "sim = vg_00_10[vg_00_10[\"Genre\"] == \"Simulation\"]\n",
    "platform = vg_00_10[vg_00_10[\"Genre\"] == \"Platform\"]\n",
    "fighting = vg_00_10[vg_00_10[\"Genre\"] == \"Fighting\"]\n",
    "strategy = vg_00_10[vg_00_10[\"Genre\"] == \"Strategy\"]\n",
    "puzzle = vg_00_10[vg_00_10[\"Genre\"] == \"Puzzle\"]\n",
    "\n",
    "\n",
    "# make a list of the genre data frames\n",
    "genres = (\n",
    "    sports,\n",
    "    action,\n",
    "    misc,\n",
    "    rpg,\n",
    "    # adventure,\n",
    "    shooter,\n",
    "    racing,\n",
    "    sim,\n",
    "    platform,\n",
    "    fighting,\n",
    "    strategy,\n",
    "    puzzle,\n",
    ")\n",
    "\n",
    "\n",
    "# create a qq plot for each genre\n",
    "for genre in genres:\n",
    "    qqplot(genre[\"log_na_sales\"], line=\"s\")\n",
    "    # plt.title(genre.Genre.)\n",
    "    plt.show()\n",
    "    print(stats.shapiro(genre[\"log_na_sales\"]))"
   ]
  },
  {
   "cell_type": "code",
   "execution_count": null,
   "metadata": {},
   "outputs": [],
   "source": [
    "sports.describe()"
   ]
  },
  {
   "cell_type": "markdown",
   "metadata": {},
   "source": [
    "As expected, the QQ plots and Shapiro tests confirm non-normality. Also, the selection by year seems to have yielded no results for `Adventure` games. `Adevnture` games will thus not be considered in the statistical testing. The implication of lack of adventure games in these years will be discussed in conclusions.\n",
    "\n",
    "Since the distributions are not normal, a Kruskal Wallis test will be performed to determine if any of the median values are significantly different."
   ]
  },
  {
   "cell_type": "code",
   "execution_count": null,
   "metadata": {},
   "outputs": [],
   "source": [
    "stats.kruskal(\n",
    "    sports[\"log_na_sales\"],\n",
    "    action[\"log_na_sales\"],\n",
    "    misc['log_na_sales'],\n",
    "    rpg[\"log_na_sales\"],\n",
    "    shooter[\"log_na_sales\"],\n",
    "    racing[\"log_na_sales\"],\n",
    "    sim[\"log_na_sales\"],\n",
    "    platform[\"log_na_sales\"],\n",
    "    fighting[\"log_na_sales\"],\n",
    "    strategy[\"log_na_sales\"],\n",
    "    puzzle[\"log_na_sales\"],\n",
    ")\n"
   ]
  },
  {
   "cell_type": "markdown",
   "metadata": {},
   "source": [
    "Acorrding to the Kruskal test, at least one genre has a significantly different median than the others. Two suites of Mann-WhitneyU tests will be run. The first group will be for genres I expect to be similar. The second set will be for genres I expect to be different. All p-values will be corrected for multiple testing to account for the increasing type 1 error rate of running multiple tests."
   ]
  },
  {
   "cell_type": "code",
   "execution_count": null,
   "metadata": {},
   "outputs": [],
   "source": [
    "# groups expected to be similar\n",
    "_, p1 = stats.mannwhitneyu(sports[\"log_na_sales\"], racing[\"log_na_sales\"])\n",
    "_, p2 = stats.mannwhitneyu(action[\"log_na_sales\"], shooter[\"log_na_sales\"])\n",
    "_, p3 = stats.mannwhitneyu(strategy[\"log_na_sales\"], puzzle[\"log_na_sales\"])\n",
    "\n",
    "# groups expected to be different\n",
    "_, p4 = stats.mannwhitneyu(rpg[\"log_na_sales\"], shooter[\"log_na_sales\"])\n",
    "_, p5 = stats.mannwhitneyu(fighting[\"log_na_sales\"], platform[\"log_na_sales\"])\n",
    "_, p6 = stats.mannwhitneyu(action[\"log_na_sales\"], strategy[\"log_na_sales\"])\n",
    "\n",
    "p_values = [p1, p2, p3, p4, p5, p6]\n",
    "reject, corr_p, sidak, bonf = multipletests(p_values, alpha=0.05)\n",
    "print(reject)\n",
    "print(corr_p)\n",
    "print(sidak)\n",
    "print(bonf)"
   ]
  },
  {
   "cell_type": "markdown",
   "metadata": {},
   "source": [
    "From the pairwise analyses, there was a significant difference in median sales between sports and racing games; rpg and shooter games; and action and strategy games. Comparison of the histograms is for the transformed sales numbers, while effect sizes are in standard units. "
   ]
  },
  {
   "cell_type": "markdown",
   "metadata": {},
   "source": [
    "### Action x Shooter"
   ]
  },
  {
   "cell_type": "code",
   "execution_count": null,
   "metadata": {},
   "outputs": [],
   "source": [
    "action[\"NA_Sales\"].hist(alpha=0.5, label=\"Action\", figsize=(10, 5))\n",
    "shooter[\"NA_Sales\"].hist(alpha=0.5, label=\"Shooter\")\n",
    "plt.legend()\n",
    "plt.show()\n",
    "\n",
    "print(calc_non_param_ci(action[\"NA_Sales\"], shooter[\"NA_Sales\"], alpha=0.05))\n",
    "print(rbc_ind(action[\"NA_Sales\"], shooter[\"NA_Sales\"]))\n",
    "print(cles_ind(action[\"NA_Sales\"], shooter[\"NA_Sales\"]))"
   ]
  },
  {
   "cell_type": "markdown",
   "metadata": {},
   "source": [
    "### RPG x Shooter"
   ]
  },
  {
   "cell_type": "code",
   "execution_count": null,
   "metadata": {},
   "outputs": [],
   "source": [
    "rpg[\"NA_Sales\"].hist(alpha=0.5, label=\"RPG\", figsize=(10, 5))\n",
    "plt.legend()\n",
    "plt.show()\n",
    "shooter[\"NA_Sales\"].hist(alpha=0.5, label=\"Shooter\", figsize=(10, 5))\n",
    "plt.legend()\n",
    "plt.show()\n",
    "\n",
    "print(calc_non_param_ci(rpg[\"NA_Sales\"], shooter[\"NA_Sales\"], alpha=0.05))\n",
    "print(rbc_ind(rpg[\"NA_Sales\"], shooter[\"NA_Sales\"]))\n",
    "print(cles_ind(rpg[\"NA_Sales\"], shooter[\"NA_Sales\"]))"
   ]
  },
  {
   "cell_type": "markdown",
   "metadata": {},
   "source": [
    "### Action x Strategy"
   ]
  },
  {
   "cell_type": "code",
   "execution_count": null,
   "metadata": {},
   "outputs": [],
   "source": [
    "action[\"NA_Sales\"].hist(alpha=0.5, label=\"Action\", figsize=(10, 5))\n",
    "plt.legend()\n",
    "plt.show()\n",
    "strategy[\"NA_Sales\"].hist(alpha=0.5, label=\"Strategy\", figsize=(10, 5))\n",
    "plt.legend()\n",
    "plt.show()\n",
    "\n",
    "print(calc_non_param_ci(action[\"NA_Sales\"], strategy[\"NA_Sales\"], alpha=0.05))\n",
    "print(rbc_ind(action[\"NA_Sales\"], strategy[\"NA_Sales\"]))\n",
    "print(cles_ind(action[\"NA_Sales\"], strategy[\"NA_Sales\"]))\n"
   ]
  },
  {
   "cell_type": "markdown",
   "metadata": {},
   "source": [
    "### Results and Conslusions\n",
    "\n",
    "The distributions for the sales by genres were all heavily skewed, but at least one had a significantly different median than the others. The post hoc testing showed a significant difference between action and shooter games. It was expected that these two genres would sell similarly, since both have similar elements of high energy and violence. The difference may that shooters appeal to more competitve, skill based gamers, while action games appeal to people wanted a fast paced but character driven experience. Shooters outperformed action games. \n",
    "\n",
    "There were also significant differences in the medians for role-playing games compared to shooter games, and in the medians action games compared to strategy games. These differences were to be expected, since these two pairs compare a fast-paced violent genre to a slower, more intellectual genre. What was unexpected was there was no significant difference in the means of fighting and platform games. Since platforming games, like the Mario franchise, are less violent and competitve than fighting games like Mortal Combat, it was expected the fighting games would sell more, for same speculated reasons that shooters and action games outperformed the slower genres they were compared to. Upon further consideration, both platforming and fighting games focus on speed and knowledge of the levels (for platformers) or playable character (for fighting games). At the same time, both appeal to wide audiences as games with low barriers of entry. The Mario franchise is ubiqutious, and fighting games are easy to boot-up and start a match. \n",
    "\n",
    "The common language effect size for the three significantly different pairs compared were all about 0.55, meaning that a game chosen at random from one genre that sold better than other was not much better than chance. Genre likely does not have a large impact on well a game sells. "
   ]
  },
  {
   "cell_type": "markdown",
   "metadata": {},
   "source": [
    "### Limitations and Future Analysis\n",
    "\n",
    "An important feature of this data is that most entries barely made the list for sales. The raw data had values of zero sales in North America up until the 50th percentile, where the value was 0.08 million units. This makes sense, as the barrier for entry into gaming is incredibly small. Any one with a little coding and art skills can make and publish a game. Likewise, most of the games made are going to reach a very small, incidental audience. The games that sold the best also benefit from name recognition, and the backing of large publishing studios. A future analysis focusing on independently published games would inform us about how smaller budget games sell while discounting unlovingly made cash-grab titles by bigger publishers. Similarly, the big-budget games can be analyzed on their own to see how to large titles compare to each other. The marketing budget for a game would correlate with the prominence of the publishing studio, and is an important feature to consider when the sale of any product is being analyzed.\n",
    "\n",
    "Future analysis would also benefit from a greater variety of descriptive features. Features such as colorfulness, accessibility, speed of play, and length of game are just some examples that might influence someone's decision to purchase. These potential features may also better quanitfy why some games sold better while transcending the sometimes arbitrary idea of genre. "
   ]
  }
 ],
 "metadata": {
  "kernelspec": {
   "display_name": "Python 3",
   "language": "python",
   "name": "python3"
  },
  "language_info": {
   "codemirror_mode": {
    "name": "ipython",
    "version": 3
   },
   "file_extension": ".py",
   "mimetype": "text/x-python",
   "name": "python",
   "nbconvert_exporter": "python",
   "pygments_lexer": "ipython3",
   "version": "3.7.6"
  }
 },
 "nbformat": 4,
 "nbformat_minor": 4
}
