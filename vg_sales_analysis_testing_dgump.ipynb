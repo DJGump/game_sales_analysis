{
 "cells": [
  {
   "cell_type": "markdown",
   "metadata": {},
   "source": [
    "# Video Game Sales Analysis\n",
    "\n",
    "### Comparing sales between genres from 2000 to 2019\n",
    "\n",
    "Video game are an increasingly popular pass-time. As technology has progressed, so too has the potential for games to create a fun and memorable experience. Titles are produced on all scales, from one-person projects to blockbuster-level endeavors. The market for games likewise benefits from burgeoning popularity. The demographics of gamers is wider than ever before. By analyzing which genres of games sell better, the following research aims to inform where publishers might focus their interest and assist developers in making their projects more marketable. "
   ]
  },
  {
   "cell_type": "code",
   "execution_count": 1,
   "metadata": {},
   "outputs": [
    {
     "data": {
      "application/javascript": [
       "\n",
       "            setTimeout(function() {\n",
       "                var nbb_cell_id = 1;\n",
       "                var nbb_unformatted_code = \"# imports\\nimport pandas as pd\\nimport numpy as np\\nfrom scipy import stats\\nfrom statsmodels.graphics.gofplots import qqplot\\nfrom statsmodels.stats.multitest import multipletests\\nimport seaborn as sns\\nimport matplotlib.pyplot as plt\\nfrom statsmodels.formula.api import ols\\nfrom statsmodels.stats.multicomp import pairwise_tukeyhsd\\nfrom sklearn import preprocessing\\n\\n\\n%matplotlib inline\\n%reload_ext nb_black\";\n",
       "                var nbb_formatted_code = \"# imports\\nimport pandas as pd\\nimport numpy as np\\nfrom scipy import stats\\nfrom statsmodels.graphics.gofplots import qqplot\\nfrom statsmodels.stats.multitest import multipletests\\nimport seaborn as sns\\nimport matplotlib.pyplot as plt\\nfrom statsmodels.formula.api import ols\\nfrom statsmodels.stats.multicomp import pairwise_tukeyhsd\\nfrom sklearn import preprocessing\\n\\n\\n%matplotlib inline\\n%reload_ext nb_black\";\n",
       "                var nbb_cells = Jupyter.notebook.get_cells();\n",
       "                for (var i = 0; i < nbb_cells.length; ++i) {\n",
       "                    if (nbb_cells[i].input_prompt_number == nbb_cell_id) {\n",
       "                        if (nbb_cells[i].get_text() == nbb_unformatted_code) {\n",
       "                             nbb_cells[i].set_text(nbb_formatted_code);\n",
       "                        }\n",
       "                        break;\n",
       "                    }\n",
       "                }\n",
       "            }, 500);\n",
       "            "
      ],
      "text/plain": [
       "<IPython.core.display.Javascript object>"
      ]
     },
     "metadata": {},
     "output_type": "display_data"
    }
   ],
   "source": [
    "# imports\n",
    "import pandas as pd\n",
    "import numpy as np\n",
    "from scipy import stats\n",
    "from statsmodels.graphics.gofplots import qqplot\n",
    "from statsmodels.stats.multitest import multipletests\n",
    "import seaborn as sns\n",
    "import matplotlib.pyplot as plt\n",
    "from statsmodels.formula.api import ols\n",
    "from statsmodels.stats.multicomp import pairwise_tukeyhsd\n",
    "from sklearn import preprocessing\n",
    "\n",
    "\n",
    "%matplotlib inline\n",
    "%reload_ext nb_black"
   ]
  },
  {
   "cell_type": "code",
   "execution_count": 2,
   "metadata": {},
   "outputs": [
    {
     "data": {
      "application/javascript": [
       "\n",
       "            setTimeout(function() {\n",
       "                var nbb_cell_id = 2;\n",
       "                var nbb_unformatted_code = \"def calc_non_param_ci(x1, x2, alpha=0.05):\\n    \\\"\\\"\\\"Calc confidence interval for 2 group median test\\n\\n    Process:\\n      * Find all pairwise diffs\\n      * Sort diffs\\n      * Find appropriate value of k\\n      * Choose lower bound from diffs as: diffs[k]\\n      * Choose upper bound from diffs as: diffs[-k]\\n\\n    Based on: https://www.ncbi.nlm.nih.gov/pmc/articles/PMC2545906/\\n\\n    :param x1: sample 1\\n    :param x2: sample 2\\n    :param alpha: significance level\\n    :return: (tuple) confidence interval bounds\\n    \\\"\\\"\\\"\\n    x1 = np.array(x1)\\n    x2 = np.array(x2)\\n\\n    n1 = x1.size\\n    n2 = x2.size\\n    cv = stats.norm.ppf(1 - alpha / 2)\\n\\n    # Find pairwise differences for every datapoint in each group\\n    diffs = (x1[:, None] - x2).flatten()\\n    diffs.sort()\\n\\n    # For an approximate (1-a)% confidence interval first calculate K:\\n    k = int(round(n1 * n2 / 2 - (cv * (n1 * n2 * (n1 + n2 + 1) / 12) ** 0.5)))\\n\\n    # The Kth smallest to the Kth largest of the n x m differences\\n    # n1 and n2 should be > ~20\\n    ci_lo = diffs[k]\\n    ci_hi = diffs[-k]\\n\\n    return ci_lo, ci_hi\";\n",
       "                var nbb_formatted_code = \"def calc_non_param_ci(x1, x2, alpha=0.05):\\n    \\\"\\\"\\\"Calc confidence interval for 2 group median test\\n\\n    Process:\\n      * Find all pairwise diffs\\n      * Sort diffs\\n      * Find appropriate value of k\\n      * Choose lower bound from diffs as: diffs[k]\\n      * Choose upper bound from diffs as: diffs[-k]\\n\\n    Based on: https://www.ncbi.nlm.nih.gov/pmc/articles/PMC2545906/\\n\\n    :param x1: sample 1\\n    :param x2: sample 2\\n    :param alpha: significance level\\n    :return: (tuple) confidence interval bounds\\n    \\\"\\\"\\\"\\n    x1 = np.array(x1)\\n    x2 = np.array(x2)\\n\\n    n1 = x1.size\\n    n2 = x2.size\\n    cv = stats.norm.ppf(1 - alpha / 2)\\n\\n    # Find pairwise differences for every datapoint in each group\\n    diffs = (x1[:, None] - x2).flatten()\\n    diffs.sort()\\n\\n    # For an approximate (1-a)% confidence interval first calculate K:\\n    k = int(round(n1 * n2 / 2 - (cv * (n1 * n2 * (n1 + n2 + 1) / 12) ** 0.5)))\\n\\n    # The Kth smallest to the Kth largest of the n x m differences\\n    # n1 and n2 should be > ~20\\n    ci_lo = diffs[k]\\n    ci_hi = diffs[-k]\\n\\n    return ci_lo, ci_hi\";\n",
       "                var nbb_cells = Jupyter.notebook.get_cells();\n",
       "                for (var i = 0; i < nbb_cells.length; ++i) {\n",
       "                    if (nbb_cells[i].input_prompt_number == nbb_cell_id) {\n",
       "                        if (nbb_cells[i].get_text() == nbb_unformatted_code) {\n",
       "                             nbb_cells[i].set_text(nbb_formatted_code);\n",
       "                        }\n",
       "                        break;\n",
       "                    }\n",
       "                }\n",
       "            }, 500);\n",
       "            "
      ],
      "text/plain": [
       "<IPython.core.display.Javascript object>"
      ]
     },
     "metadata": {},
     "output_type": "display_data"
    }
   ],
   "source": [
    "def calc_non_param_ci(x1, x2, alpha=0.05):\n",
    "    \"\"\"Calc confidence interval for 2 group median test\n",
    "\n",
    "    Process:\n",
    "      * Find all pairwise diffs\n",
    "      * Sort diffs\n",
    "      * Find appropriate value of k\n",
    "      * Choose lower bound from diffs as: diffs[k]\n",
    "      * Choose upper bound from diffs as: diffs[-k]\n",
    "\n",
    "    Based on: https://www.ncbi.nlm.nih.gov/pmc/articles/PMC2545906/\n",
    "\n",
    "    :param x1: sample 1\n",
    "    :param x2: sample 2\n",
    "    :param alpha: significance level\n",
    "    :return: (tuple) confidence interval bounds\n",
    "    \"\"\"\n",
    "    x1 = np.array(x1)\n",
    "    x2 = np.array(x2)\n",
    "\n",
    "    n1 = x1.size\n",
    "    n2 = x2.size\n",
    "    cv = stats.norm.ppf(1 - alpha / 2)\n",
    "\n",
    "    # Find pairwise differences for every datapoint in each group\n",
    "    diffs = (x1[:, None] - x2).flatten()\n",
    "    diffs.sort()\n",
    "\n",
    "    # For an approximate (1-a)% confidence interval first calculate K:\n",
    "    k = int(round(n1 * n2 / 2 - (cv * (n1 * n2 * (n1 + n2 + 1) / 12) ** 0.5)))\n",
    "\n",
    "    # The Kth smallest to the Kth largest of the n x m differences\n",
    "    # n1 and n2 should be > ~20\n",
    "    ci_lo = diffs[k]\n",
    "    ci_hi = diffs[-k]\n",
    "\n",
    "    return ci_lo, ci_hi"
   ]
  },
  {
   "cell_type": "code",
   "execution_count": 3,
   "metadata": {},
   "outputs": [
    {
     "data": {
      "application/javascript": [
       "\n",
       "            setTimeout(function() {\n",
       "                var nbb_cell_id = 3;\n",
       "                var nbb_unformatted_code = \"def rbc_ind(x1, x2):\\n    \\\"\\\"\\\"Calculate rank-biserial correlation coefficient\\n\\n    Output values range from [0, 1]; interpret as:\\n      * Values closer to 0 are a weaker effect\\n      * Values closer to 1 are a stronger effect\\n\\n    :param x1: sample 1\\n    :param x2: sample 2\\n    :return: (float) rank-biserial correlation coefficient\\n    \\\"\\\"\\\"\\n    n1 = x1.size\\n    n2 = x2.size\\n\\n    u, _ = stats.mannwhitneyu(x1, x2)\\n    rbc = 1 - (2 * u) / (n1 * n2)\\n\\n    return rbc\";\n",
       "                var nbb_formatted_code = \"def rbc_ind(x1, x2):\\n    \\\"\\\"\\\"Calculate rank-biserial correlation coefficient\\n\\n    Output values range from [0, 1]; interpret as:\\n      * Values closer to 0 are a weaker effect\\n      * Values closer to 1 are a stronger effect\\n\\n    :param x1: sample 1\\n    :param x2: sample 2\\n    :return: (float) rank-biserial correlation coefficient\\n    \\\"\\\"\\\"\\n    n1 = x1.size\\n    n2 = x2.size\\n\\n    u, _ = stats.mannwhitneyu(x1, x2)\\n    rbc = 1 - (2 * u) / (n1 * n2)\\n\\n    return rbc\";\n",
       "                var nbb_cells = Jupyter.notebook.get_cells();\n",
       "                for (var i = 0; i < nbb_cells.length; ++i) {\n",
       "                    if (nbb_cells[i].input_prompt_number == nbb_cell_id) {\n",
       "                        if (nbb_cells[i].get_text() == nbb_unformatted_code) {\n",
       "                             nbb_cells[i].set_text(nbb_formatted_code);\n",
       "                        }\n",
       "                        break;\n",
       "                    }\n",
       "                }\n",
       "            }, 500);\n",
       "            "
      ],
      "text/plain": [
       "<IPython.core.display.Javascript object>"
      ]
     },
     "metadata": {},
     "output_type": "display_data"
    }
   ],
   "source": [
    "def rbc_ind(x1, x2):\n",
    "    \"\"\"Calculate rank-biserial correlation coefficient\n",
    "\n",
    "    Output values range from [0, 1]; interpret as:\n",
    "      * Values closer to 0 are a weaker effect\n",
    "      * Values closer to 1 are a stronger effect\n",
    "\n",
    "    :param x1: sample 1\n",
    "    :param x2: sample 2\n",
    "    :return: (float) rank-biserial correlation coefficient\n",
    "    \"\"\"\n",
    "    n1 = x1.size\n",
    "    n2 = x2.size\n",
    "\n",
    "    u, _ = stats.mannwhitneyu(x1, x2)\n",
    "    rbc = 1 - (2 * u) / (n1 * n2)\n",
    "\n",
    "    return rbc"
   ]
  },
  {
   "cell_type": "code",
   "execution_count": 4,
   "metadata": {},
   "outputs": [
    {
     "data": {
      "application/javascript": [
       "\n",
       "            setTimeout(function() {\n",
       "                var nbb_cell_id = 4;\n",
       "                var nbb_unformatted_code = \"def cles_ind(x1, x2):\\n    \\\"\\\"\\\"Calc common language effect size\\n\\n    Interpret as the probability that a score sampled\\n    at random from one distribution will be greater than\\n    a score sampled from some other distribution.\\n\\n    Based on: http://psycnet.apa.org/doi/10.1037/0033-2909.111.2.361\\n\\n    :param x1: sample 1\\n    :param x2: sample 2\\n    :return: (float) common language effect size\\n    \\\"\\\"\\\"\\n    x1 = np.array(x1)\\n    x2 = np.array(x2)\\n\\n    diff = x1[:, None] - x2\\n    cles = max((diff < 0).sum(), (diff > 0).sum()) / diff.size\\n\\n    return cles\";\n",
       "                var nbb_formatted_code = \"def cles_ind(x1, x2):\\n    \\\"\\\"\\\"Calc common language effect size\\n\\n    Interpret as the probability that a score sampled\\n    at random from one distribution will be greater than\\n    a score sampled from some other distribution.\\n\\n    Based on: http://psycnet.apa.org/doi/10.1037/0033-2909.111.2.361\\n\\n    :param x1: sample 1\\n    :param x2: sample 2\\n    :return: (float) common language effect size\\n    \\\"\\\"\\\"\\n    x1 = np.array(x1)\\n    x2 = np.array(x2)\\n\\n    diff = x1[:, None] - x2\\n    cles = max((diff < 0).sum(), (diff > 0).sum()) / diff.size\\n\\n    return cles\";\n",
       "                var nbb_cells = Jupyter.notebook.get_cells();\n",
       "                for (var i = 0; i < nbb_cells.length; ++i) {\n",
       "                    if (nbb_cells[i].input_prompt_number == nbb_cell_id) {\n",
       "                        if (nbb_cells[i].get_text() == nbb_unformatted_code) {\n",
       "                             nbb_cells[i].set_text(nbb_formatted_code);\n",
       "                        }\n",
       "                        break;\n",
       "                    }\n",
       "                }\n",
       "            }, 500);\n",
       "            "
      ],
      "text/plain": [
       "<IPython.core.display.Javascript object>"
      ]
     },
     "metadata": {},
     "output_type": "display_data"
    }
   ],
   "source": [
    "def cles_ind(x1, x2):\n",
    "    \"\"\"Calc common language effect size\n",
    "\n",
    "    Interpret as the probability that a score sampled\n",
    "    at random from one distribution will be greater than\n",
    "    a score sampled from some other distribution.\n",
    "\n",
    "    Based on: http://psycnet.apa.org/doi/10.1037/0033-2909.111.2.361\n",
    "\n",
    "    :param x1: sample 1\n",
    "    :param x2: sample 2\n",
    "    :return: (float) common language effect size\n",
    "    \"\"\"\n",
    "    x1 = np.array(x1)\n",
    "    x2 = np.array(x2)\n",
    "\n",
    "    diff = x1[:, None] - x2\n",
    "    cles = max((diff < 0).sum(), (diff > 0).sum()) / diff.size\n",
    "\n",
    "    return cles"
   ]
  },
  {
   "cell_type": "markdown",
   "metadata": {},
   "source": [
    "This data was scraped from [vgchartz.com](vgchartz.com) with a [BeautifulSoup script by GitHib user GregorUT](https://github.com/GregorUT/vgchartzScrape) and [hosted on Kaggle](https://www.kaggle.com/gregorut/videogamesales). \n",
    "\n",
    "The data is from 1985 to 2020 and includes categorical information including game title, year of release, platform released on, genre, and publisher. The fields for North American sales, European sales, Japanese sales, and global sales are used as response variables for the analysis.|"
   ]
  },
  {
   "cell_type": "code",
   "execution_count": 5,
   "metadata": {},
   "outputs": [
    {
     "data": {
      "text/html": [
       "<div>\n",
       "<style scoped>\n",
       "    .dataframe tbody tr th:only-of-type {\n",
       "        vertical-align: middle;\n",
       "    }\n",
       "\n",
       "    .dataframe tbody tr th {\n",
       "        vertical-align: top;\n",
       "    }\n",
       "\n",
       "    .dataframe thead th {\n",
       "        text-align: right;\n",
       "    }\n",
       "</style>\n",
       "<table border=\"1\" class=\"dataframe\">\n",
       "  <thead>\n",
       "    <tr style=\"text-align: right;\">\n",
       "      <th></th>\n",
       "      <th>Rank</th>\n",
       "      <th>Name</th>\n",
       "      <th>Platform</th>\n",
       "      <th>Year</th>\n",
       "      <th>Genre</th>\n",
       "      <th>Publisher</th>\n",
       "      <th>NA_Sales</th>\n",
       "      <th>EU_Sales</th>\n",
       "      <th>JP_Sales</th>\n",
       "      <th>Other_Sales</th>\n",
       "      <th>Global_Sales</th>\n",
       "    </tr>\n",
       "  </thead>\n",
       "  <tbody>\n",
       "    <tr>\n",
       "      <th>0</th>\n",
       "      <td>1</td>\n",
       "      <td>Wii Sports</td>\n",
       "      <td>Wii</td>\n",
       "      <td>2006.0</td>\n",
       "      <td>Sports</td>\n",
       "      <td>Nintendo</td>\n",
       "      <td>41.49</td>\n",
       "      <td>29.02</td>\n",
       "      <td>3.77</td>\n",
       "      <td>8.46</td>\n",
       "      <td>82.74</td>\n",
       "    </tr>\n",
       "    <tr>\n",
       "      <th>1</th>\n",
       "      <td>2</td>\n",
       "      <td>Super Mario Bros.</td>\n",
       "      <td>NES</td>\n",
       "      <td>1985.0</td>\n",
       "      <td>Platform</td>\n",
       "      <td>Nintendo</td>\n",
       "      <td>29.08</td>\n",
       "      <td>3.58</td>\n",
       "      <td>6.81</td>\n",
       "      <td>0.77</td>\n",
       "      <td>40.24</td>\n",
       "    </tr>\n",
       "    <tr>\n",
       "      <th>2</th>\n",
       "      <td>3</td>\n",
       "      <td>Mario Kart Wii</td>\n",
       "      <td>Wii</td>\n",
       "      <td>2008.0</td>\n",
       "      <td>Racing</td>\n",
       "      <td>Nintendo</td>\n",
       "      <td>15.85</td>\n",
       "      <td>12.88</td>\n",
       "      <td>3.79</td>\n",
       "      <td>3.31</td>\n",
       "      <td>35.82</td>\n",
       "    </tr>\n",
       "    <tr>\n",
       "      <th>3</th>\n",
       "      <td>4</td>\n",
       "      <td>Wii Sports Resort</td>\n",
       "      <td>Wii</td>\n",
       "      <td>2009.0</td>\n",
       "      <td>Sports</td>\n",
       "      <td>Nintendo</td>\n",
       "      <td>15.75</td>\n",
       "      <td>11.01</td>\n",
       "      <td>3.28</td>\n",
       "      <td>2.96</td>\n",
       "      <td>33.00</td>\n",
       "    </tr>\n",
       "    <tr>\n",
       "      <th>4</th>\n",
       "      <td>5</td>\n",
       "      <td>Pokemon Red/Pokemon Blue</td>\n",
       "      <td>GB</td>\n",
       "      <td>1996.0</td>\n",
       "      <td>Role-Playing</td>\n",
       "      <td>Nintendo</td>\n",
       "      <td>11.27</td>\n",
       "      <td>8.89</td>\n",
       "      <td>10.22</td>\n",
       "      <td>1.00</td>\n",
       "      <td>31.37</td>\n",
       "    </tr>\n",
       "  </tbody>\n",
       "</table>\n",
       "</div>"
      ],
      "text/plain": [
       "   Rank                      Name Platform    Year         Genre Publisher  \\\n",
       "0     1                Wii Sports      Wii  2006.0        Sports  Nintendo   \n",
       "1     2         Super Mario Bros.      NES  1985.0      Platform  Nintendo   \n",
       "2     3            Mario Kart Wii      Wii  2008.0        Racing  Nintendo   \n",
       "3     4         Wii Sports Resort      Wii  2009.0        Sports  Nintendo   \n",
       "4     5  Pokemon Red/Pokemon Blue       GB  1996.0  Role-Playing  Nintendo   \n",
       "\n",
       "   NA_Sales  EU_Sales  JP_Sales  Other_Sales  Global_Sales  \n",
       "0     41.49     29.02      3.77         8.46         82.74  \n",
       "1     29.08      3.58      6.81         0.77         40.24  \n",
       "2     15.85     12.88      3.79         3.31         35.82  \n",
       "3     15.75     11.01      3.28         2.96         33.00  \n",
       "4     11.27      8.89     10.22         1.00         31.37  "
      ]
     },
     "execution_count": 5,
     "metadata": {},
     "output_type": "execute_result"
    },
    {
     "data": {
      "application/javascript": [
       "\n",
       "            setTimeout(function() {\n",
       "                var nbb_cell_id = 5;\n",
       "                var nbb_unformatted_code = \"# load in the data\\ndata_path = \\\"data/vgsales.csv\\\"\\nvg_sales = pd.read_csv(data_path)\\nvg_sales.head()\";\n",
       "                var nbb_formatted_code = \"# load in the data\\ndata_path = \\\"data/vgsales.csv\\\"\\nvg_sales = pd.read_csv(data_path)\\nvg_sales.head()\";\n",
       "                var nbb_cells = Jupyter.notebook.get_cells();\n",
       "                for (var i = 0; i < nbb_cells.length; ++i) {\n",
       "                    if (nbb_cells[i].input_prompt_number == nbb_cell_id) {\n",
       "                        if (nbb_cells[i].get_text() == nbb_unformatted_code) {\n",
       "                             nbb_cells[i].set_text(nbb_formatted_code);\n",
       "                        }\n",
       "                        break;\n",
       "                    }\n",
       "                }\n",
       "            }, 500);\n",
       "            "
      ],
      "text/plain": [
       "<IPython.core.display.Javascript object>"
      ]
     },
     "metadata": {},
     "output_type": "display_data"
    }
   ],
   "source": [
    "# load in the data\n",
    "data_path = \"data/vgsales.csv\"\n",
    "vg_sales = pd.read_csv(data_path)\n",
    "vg_sales.head()"
   ]
  },
  {
   "cell_type": "code",
   "execution_count": 6,
   "metadata": {},
   "outputs": [
    {
     "data": {
      "text/plain": [
       "count    16598.000000\n",
       "mean         0.264667\n",
       "std          0.816683\n",
       "min          0.000000\n",
       "25%          0.000000\n",
       "50%          0.080000\n",
       "75%          0.240000\n",
       "max         41.490000\n",
       "Name: NA_Sales, dtype: float64"
      ]
     },
     "execution_count": 6,
     "metadata": {},
     "output_type": "execute_result"
    },
    {
     "data": {
      "application/javascript": [
       "\n",
       "            setTimeout(function() {\n",
       "                var nbb_cell_id = 6;\n",
       "                var nbb_unformatted_code = \"vg_sales.NA_Sales.describe()\";\n",
       "                var nbb_formatted_code = \"vg_sales.NA_Sales.describe()\";\n",
       "                var nbb_cells = Jupyter.notebook.get_cells();\n",
       "                for (var i = 0; i < nbb_cells.length; ++i) {\n",
       "                    if (nbb_cells[i].input_prompt_number == nbb_cell_id) {\n",
       "                        if (nbb_cells[i].get_text() == nbb_unformatted_code) {\n",
       "                             nbb_cells[i].set_text(nbb_formatted_code);\n",
       "                        }\n",
       "                        break;\n",
       "                    }\n",
       "                }\n",
       "            }, 500);\n",
       "            "
      ],
      "text/plain": [
       "<IPython.core.display.Javascript object>"
      ]
     },
     "metadata": {},
     "output_type": "display_data"
    }
   ],
   "source": [
    "vg_sales.NA_Sales.describe()"
   ]
  },
  {
   "cell_type": "markdown",
   "metadata": {},
   "source": [
    "The analysis will be only for games released after the year 2000. Sony's Playstation was released in 1994, and marked the introduction of larger, more detailed games made possible by the use of compact discs. Comparing sales from early in gaming history would not be reflective of the current climate. \n",
    "\n",
    "The data will be categorized by decade, and then the 2000's and 2010's will be selected. The data set only contains one entry for 2020, so it will also be dismissed."
   ]
  },
  {
   "cell_type": "code",
   "execution_count": 7,
   "metadata": {},
   "outputs": [
    {
     "name": "stdout",
     "output_type": "stream",
     "text": [
      "00s    9208\n",
      "10s    5144\n",
      "90s    1769\n",
      "80s     476\n",
      "20s       1\n",
      "Name: decade, dtype: int64\n"
     ]
    },
    {
     "data": {
      "text/plain": [
       "00s    9208\n",
       "10s    5144\n",
       "Name: decade, dtype: int64"
      ]
     },
     "execution_count": 7,
     "metadata": {},
     "output_type": "execute_result"
    },
    {
     "data": {
      "application/javascript": [
       "\n",
       "            setTimeout(function() {\n",
       "                var nbb_cell_id = 7;\n",
       "                var nbb_unformatted_code = \"# create 'decade' field for each game\\neighties = list(range(1980, 1990))\\nnineties = list(range(1990, 2000))\\noughts = list(range(2000, 2010))\\ntens = list(range(2010, 2020))\\ntwenties = list(range(2020, 2030))\\n\\nvg_sales[\\\"decade\\\"] = \\\"80s\\\"\\nvg_sales.loc[vg_sales[\\\"Year\\\"].isin(nineties), \\\"decade\\\"] = \\\"90s\\\"\\nvg_sales.loc[vg_sales[\\\"Year\\\"].isin(oughts), \\\"decade\\\"] = \\\"00s\\\"\\nvg_sales.loc[vg_sales[\\\"Year\\\"].isin(tens), \\\"decade\\\"] = \\\"10s\\\"\\nvg_sales.loc[vg_sales[\\\"Year\\\"].isin(twenties), \\\"decade\\\"] = \\\"20s\\\"\\nprint(vg_sales[\\\"decade\\\"].value_counts())\\n\\n# select 2000-2019\\nvg_00_10 = vg_sales[vg_sales[\\\"decade\\\"] != \\\"80s\\\"]\\nvg_00_10 = vg_00_10[vg_00_10[\\\"decade\\\"] != \\\"20s\\\"]\\nvg_00_10 = vg_00_10[vg_00_10[\\\"decade\\\"] != \\\"90s\\\"]\\nvg_00_10.decade.value_counts()\";\n",
       "                var nbb_formatted_code = \"# create 'decade' field for each game\\neighties = list(range(1980, 1990))\\nnineties = list(range(1990, 2000))\\noughts = list(range(2000, 2010))\\ntens = list(range(2010, 2020))\\ntwenties = list(range(2020, 2030))\\n\\nvg_sales[\\\"decade\\\"] = \\\"80s\\\"\\nvg_sales.loc[vg_sales[\\\"Year\\\"].isin(nineties), \\\"decade\\\"] = \\\"90s\\\"\\nvg_sales.loc[vg_sales[\\\"Year\\\"].isin(oughts), \\\"decade\\\"] = \\\"00s\\\"\\nvg_sales.loc[vg_sales[\\\"Year\\\"].isin(tens), \\\"decade\\\"] = \\\"10s\\\"\\nvg_sales.loc[vg_sales[\\\"Year\\\"].isin(twenties), \\\"decade\\\"] = \\\"20s\\\"\\nprint(vg_sales[\\\"decade\\\"].value_counts())\\n\\n# select 2000-2019\\nvg_00_10 = vg_sales[vg_sales[\\\"decade\\\"] != \\\"80s\\\"]\\nvg_00_10 = vg_00_10[vg_00_10[\\\"decade\\\"] != \\\"20s\\\"]\\nvg_00_10 = vg_00_10[vg_00_10[\\\"decade\\\"] != \\\"90s\\\"]\\nvg_00_10.decade.value_counts()\";\n",
       "                var nbb_cells = Jupyter.notebook.get_cells();\n",
       "                for (var i = 0; i < nbb_cells.length; ++i) {\n",
       "                    if (nbb_cells[i].input_prompt_number == nbb_cell_id) {\n",
       "                        if (nbb_cells[i].get_text() == nbb_unformatted_code) {\n",
       "                             nbb_cells[i].set_text(nbb_formatted_code);\n",
       "                        }\n",
       "                        break;\n",
       "                    }\n",
       "                }\n",
       "            }, 500);\n",
       "            "
      ],
      "text/plain": [
       "<IPython.core.display.Javascript object>"
      ]
     },
     "metadata": {},
     "output_type": "display_data"
    }
   ],
   "source": [
    "# create 'decade' field for each game\n",
    "eighties = list(range(1980, 1990))\n",
    "nineties = list(range(1990, 2000))\n",
    "oughts = list(range(2000, 2010))\n",
    "tens = list(range(2010, 2020))\n",
    "twenties = list(range(2020, 2030))\n",
    "\n",
    "vg_sales[\"decade\"] = \"80s\"\n",
    "vg_sales.loc[vg_sales[\"Year\"].isin(nineties), \"decade\"] = \"90s\"\n",
    "vg_sales.loc[vg_sales[\"Year\"].isin(oughts), \"decade\"] = \"00s\"\n",
    "vg_sales.loc[vg_sales[\"Year\"].isin(tens), \"decade\"] = \"10s\"\n",
    "vg_sales.loc[vg_sales[\"Year\"].isin(twenties), \"decade\"] = \"20s\"\n",
    "print(vg_sales[\"decade\"].value_counts())\n",
    "\n",
    "# select 2000-2019\n",
    "vg_00_10 = vg_sales[vg_sales[\"decade\"] != \"80s\"]\n",
    "vg_00_10 = vg_00_10[vg_00_10[\"decade\"] != \"20s\"]\n",
    "vg_00_10 = vg_00_10[vg_00_10[\"decade\"] != \"90s\"]\n",
    "vg_00_10.decade.value_counts()"
   ]
  },
  {
   "cell_type": "markdown",
   "metadata": {},
   "source": [
    "This leaves 9,208 games for the 2000's and 5,144 for the 2010's. Check and handle null values."
   ]
  },
  {
   "cell_type": "code",
   "execution_count": 8,
   "metadata": {},
   "outputs": [
    {
     "data": {
      "text/plain": [
       "Rank             0\n",
       "Name             0\n",
       "Platform         0\n",
       "Year             0\n",
       "Genre            0\n",
       "Publisher       36\n",
       "NA_Sales         0\n",
       "EU_Sales         0\n",
       "JP_Sales         0\n",
       "Other_Sales      0\n",
       "Global_Sales     0\n",
       "decade           0\n",
       "dtype: int64"
      ]
     },
     "execution_count": 8,
     "metadata": {},
     "output_type": "execute_result"
    },
    {
     "data": {
      "application/javascript": [
       "\n",
       "            setTimeout(function() {\n",
       "                var nbb_cell_id = 8;\n",
       "                var nbb_unformatted_code = \"vg_00_10.isna().sum()\";\n",
       "                var nbb_formatted_code = \"vg_00_10.isna().sum()\";\n",
       "                var nbb_cells = Jupyter.notebook.get_cells();\n",
       "                for (var i = 0; i < nbb_cells.length; ++i) {\n",
       "                    if (nbb_cells[i].input_prompt_number == nbb_cell_id) {\n",
       "                        if (nbb_cells[i].get_text() == nbb_unformatted_code) {\n",
       "                             nbb_cells[i].set_text(nbb_formatted_code);\n",
       "                        }\n",
       "                        break;\n",
       "                    }\n",
       "                }\n",
       "            }, 500);\n",
       "            "
      ],
      "text/plain": [
       "<IPython.core.display.Javascript object>"
      ]
     },
     "metadata": {},
     "output_type": "display_data"
    }
   ],
   "source": [
    "vg_00_10.isna().sum()"
   ]
  },
  {
   "cell_type": "markdown",
   "metadata": {},
   "source": [
    "The `publisher` field has some null values. This shouldn't affect the analysis based on genre, but these entries will be dropped to future proof subsequent analysis. Any title with `NA_Sales` of zero will dropped to preserve the integrity of the statistical tests. If another region's sales are analyzed, this will need to be redone accordingly."
   ]
  },
  {
   "cell_type": "code",
   "execution_count": 9,
   "metadata": {},
   "outputs": [
    {
     "data": {
      "text/plain": [
       "00s    4829\n",
       "10s    2086\n",
       "Name: decade, dtype: int64"
      ]
     },
     "execution_count": 9,
     "metadata": {},
     "output_type": "execute_result"
    },
    {
     "data": {
      "application/javascript": [
       "\n",
       "            setTimeout(function() {\n",
       "                var nbb_cell_id = 9;\n",
       "                var nbb_unformatted_code = \"# remove entries with zero 'NA_Sales'\\nvg_00_10 = vg_00_10[vg_00_10[\\\"NA_Sales\\\"] > 0.08]\\nvg_00_10 = vg_00_10.dropna()\\nvg_00_10.decade.value_counts()\";\n",
       "                var nbb_formatted_code = \"# remove entries with zero 'NA_Sales'\\nvg_00_10 = vg_00_10[vg_00_10[\\\"NA_Sales\\\"] > 0.08]\\nvg_00_10 = vg_00_10.dropna()\\nvg_00_10.decade.value_counts()\";\n",
       "                var nbb_cells = Jupyter.notebook.get_cells();\n",
       "                for (var i = 0; i < nbb_cells.length; ++i) {\n",
       "                    if (nbb_cells[i].input_prompt_number == nbb_cell_id) {\n",
       "                        if (nbb_cells[i].get_text() == nbb_unformatted_code) {\n",
       "                             nbb_cells[i].set_text(nbb_formatted_code);\n",
       "                        }\n",
       "                        break;\n",
       "                    }\n",
       "                }\n",
       "            }, 500);\n",
       "            "
      ],
      "text/plain": [
       "<IPython.core.display.Javascript object>"
      ]
     },
     "metadata": {},
     "output_type": "display_data"
    }
   ],
   "source": [
    "# remove entries with zero 'NA_Sales'\n",
    "vg_00_10 = vg_00_10[vg_00_10[\"NA_Sales\"] > 0.08]\n",
    "vg_00_10 = vg_00_10.dropna()\n",
    "vg_00_10.decade.value_counts()"
   ]
  },
  {
   "cell_type": "markdown",
   "metadata": {},
   "source": [
    "With the desired years selected, the distributions of `Genre` can be compared."
   ]
  },
  {
   "cell_type": "code",
   "execution_count": 10,
   "metadata": {
    "scrolled": false
   },
   "outputs": [
    {
     "data": {
      "image/png": "[encoded data removed]",
      "text/plain": [
       "<Figure size 432x288 with 1 Axes>"
      ]
     },
     "metadata": {
      "needs_background": "light"
     },
     "output_type": "display_data"
    },
    {
     "data": {
      "application/javascript": [
       "\n",
       "            setTimeout(function() {\n",
       "                var nbb_cell_id = 10;\n",
       "                var nbb_unformatted_code = \"boxplots = sns.boxplot(\\\"Genre\\\", \\\"NA_Sales\\\", data=vg_00_10)\\nboxplots.set(ylabel=\\\"Millions of Units (N.A.)\\\")\\nboxplots.set_xticklabels(boxplots.get_xticklabels(), rotation=45)\\nplt.show()\";\n",
       "                var nbb_formatted_code = \"boxplots = sns.boxplot(\\\"Genre\\\", \\\"NA_Sales\\\", data=vg_00_10)\\nboxplots.set(ylabel=\\\"Millions of Units (N.A.)\\\")\\nboxplots.set_xticklabels(boxplots.get_xticklabels(), rotation=45)\\nplt.show()\";\n",
       "                var nbb_cells = Jupyter.notebook.get_cells();\n",
       "                for (var i = 0; i < nbb_cells.length; ++i) {\n",
       "                    if (nbb_cells[i].input_prompt_number == nbb_cell_id) {\n",
       "                        if (nbb_cells[i].get_text() == nbb_unformatted_code) {\n",
       "                             nbb_cells[i].set_text(nbb_formatted_code);\n",
       "                        }\n",
       "                        break;\n",
       "                    }\n",
       "                }\n",
       "            }, 500);\n",
       "            "
      ],
      "text/plain": [
       "<IPython.core.display.Javascript object>"
      ]
     },
     "metadata": {},
     "output_type": "display_data"
    }
   ],
   "source": [
    "boxplots = sns.boxplot(\"Genre\", \"NA_Sales\", data=vg_00_10)\n",
    "boxplots.set(ylabel=\"Millions of Units (N.A.)\")\n",
    "boxplots.set_xticklabels(boxplots.get_xticklabels(), rotation=45)\n",
    "plt.show()"
   ]
  },
  {
   "cell_type": "markdown",
   "metadata": {},
   "source": [
    "There are two isses with these distributions. First, each genre is extremely skewed. This is expected as long-running franchises with name recognition are going to be selling better. Second, The sports genre has an outlier amongst outliers. With over 40 million units sold, this extreme outlier is Wii sports, with more than double the sales of the next closest game of any genre."
   ]
  },
  {
   "cell_type": "code",
   "execution_count": 11,
   "metadata": {},
   "outputs": [
    {
     "data": {
      "text/html": [
       "<div>\n",
       "<style scoped>\n",
       "    .dataframe tbody tr th:only-of-type {\n",
       "        vertical-align: middle;\n",
       "    }\n",
       "\n",
       "    .dataframe tbody tr th {\n",
       "        vertical-align: top;\n",
       "    }\n",
       "\n",
       "    .dataframe thead th {\n",
       "        text-align: right;\n",
       "    }\n",
       "</style>\n",
       "<table border=\"1\" class=\"dataframe\">\n",
       "  <thead>\n",
       "    <tr style=\"text-align: right;\">\n",
       "      <th></th>\n",
       "      <th>Rank</th>\n",
       "      <th>Name</th>\n",
       "      <th>Platform</th>\n",
       "      <th>Year</th>\n",
       "      <th>Genre</th>\n",
       "      <th>Publisher</th>\n",
       "      <th>NA_Sales</th>\n",
       "      <th>EU_Sales</th>\n",
       "      <th>JP_Sales</th>\n",
       "      <th>Other_Sales</th>\n",
       "      <th>Global_Sales</th>\n",
       "      <th>decade</th>\n",
       "    </tr>\n",
       "  </thead>\n",
       "  <tbody>\n",
       "    <tr>\n",
       "      <th>0</th>\n",
       "      <td>1</td>\n",
       "      <td>Wii Sports</td>\n",
       "      <td>Wii</td>\n",
       "      <td>2006.0</td>\n",
       "      <td>Sports</td>\n",
       "      <td>Nintendo</td>\n",
       "      <td>41.49</td>\n",
       "      <td>29.02</td>\n",
       "      <td>3.77</td>\n",
       "      <td>8.46</td>\n",
       "      <td>82.74</td>\n",
       "      <td>00s</td>\n",
       "    </tr>\n",
       "    <tr>\n",
       "      <th>2</th>\n",
       "      <td>3</td>\n",
       "      <td>Mario Kart Wii</td>\n",
       "      <td>Wii</td>\n",
       "      <td>2008.0</td>\n",
       "      <td>Racing</td>\n",
       "      <td>Nintendo</td>\n",
       "      <td>15.85</td>\n",
       "      <td>12.88</td>\n",
       "      <td>3.79</td>\n",
       "      <td>3.31</td>\n",
       "      <td>35.82</td>\n",
       "      <td>00s</td>\n",
       "    </tr>\n",
       "    <tr>\n",
       "      <th>3</th>\n",
       "      <td>4</td>\n",
       "      <td>Wii Sports Resort</td>\n",
       "      <td>Wii</td>\n",
       "      <td>2009.0</td>\n",
       "      <td>Sports</td>\n",
       "      <td>Nintendo</td>\n",
       "      <td>15.75</td>\n",
       "      <td>11.01</td>\n",
       "      <td>3.28</td>\n",
       "      <td>2.96</td>\n",
       "      <td>33.00</td>\n",
       "      <td>00s</td>\n",
       "    </tr>\n",
       "    <tr>\n",
       "      <th>6</th>\n",
       "      <td>7</td>\n",
       "      <td>New Super Mario Bros.</td>\n",
       "      <td>DS</td>\n",
       "      <td>2006.0</td>\n",
       "      <td>Platform</td>\n",
       "      <td>Nintendo</td>\n",
       "      <td>11.38</td>\n",
       "      <td>9.23</td>\n",
       "      <td>6.50</td>\n",
       "      <td>2.90</td>\n",
       "      <td>30.01</td>\n",
       "      <td>00s</td>\n",
       "    </tr>\n",
       "    <tr>\n",
       "      <th>7</th>\n",
       "      <td>8</td>\n",
       "      <td>Wii Play</td>\n",
       "      <td>Wii</td>\n",
       "      <td>2006.0</td>\n",
       "      <td>Misc</td>\n",
       "      <td>Nintendo</td>\n",
       "      <td>14.03</td>\n",
       "      <td>9.20</td>\n",
       "      <td>2.93</td>\n",
       "      <td>2.85</td>\n",
       "      <td>29.02</td>\n",
       "      <td>00s</td>\n",
       "    </tr>\n",
       "  </tbody>\n",
       "</table>\n",
       "</div>"
      ],
      "text/plain": [
       "   Rank                   Name Platform    Year     Genre Publisher  NA_Sales  \\\n",
       "0     1             Wii Sports      Wii  2006.0    Sports  Nintendo     41.49   \n",
       "2     3         Mario Kart Wii      Wii  2008.0    Racing  Nintendo     15.85   \n",
       "3     4      Wii Sports Resort      Wii  2009.0    Sports  Nintendo     15.75   \n",
       "6     7  New Super Mario Bros.       DS  2006.0  Platform  Nintendo     11.38   \n",
       "7     8               Wii Play      Wii  2006.0      Misc  Nintendo     14.03   \n",
       "\n",
       "   EU_Sales  JP_Sales  Other_Sales  Global_Sales decade  \n",
       "0     29.02      3.77         8.46         82.74    00s  \n",
       "2     12.88      3.79         3.31         35.82    00s  \n",
       "3     11.01      3.28         2.96         33.00    00s  \n",
       "6      9.23      6.50         2.90         30.01    00s  \n",
       "7      9.20      2.93         2.85         29.02    00s  "
      ]
     },
     "execution_count": 11,
     "metadata": {},
     "output_type": "execute_result"
    },
    {
     "data": {
      "application/javascript": [
       "\n",
       "            setTimeout(function() {\n",
       "                var nbb_cell_id = 11;\n",
       "                var nbb_unformatted_code = \"vg_00_10.head()\";\n",
       "                var nbb_formatted_code = \"vg_00_10.head()\";\n",
       "                var nbb_cells = Jupyter.notebook.get_cells();\n",
       "                for (var i = 0; i < nbb_cells.length; ++i) {\n",
       "                    if (nbb_cells[i].input_prompt_number == nbb_cell_id) {\n",
       "                        if (nbb_cells[i].get_text() == nbb_unformatted_code) {\n",
       "                             nbb_cells[i].set_text(nbb_formatted_code);\n",
       "                        }\n",
       "                        break;\n",
       "                    }\n",
       "                }\n",
       "            }, 500);\n",
       "            "
      ],
      "text/plain": [
       "<IPython.core.display.Javascript object>"
      ]
     },
     "metadata": {},
     "output_type": "display_data"
    }
   ],
   "source": [
    "vg_00_10.head()"
   ]
  },
  {
   "cell_type": "markdown",
   "metadata": {},
   "source": [
    "Wii sports has an astronomically higher number of units sold compared to other games of it's era. It shipped with the Wii, inflating its sales, and focused on simplicity and accessibility. Since this research is meant to gain new insight, Wii sports will be discarded as [the lesson it teaches is already well learned](https://www.gamespot.com/articles/the-most-influential-games-of-the-21st-century-wii/1100-6466810/#:~:text=Like%20the%20Wii%2C%20it%20focused,the%20industry%20would%20approach%20accessibility)."
   ]
  },
  {
   "cell_type": "code",
   "execution_count": 12,
   "metadata": {},
   "outputs": [
    {
     "data": {
      "text/html": [
       "<div>\n",
       "<style scoped>\n",
       "    .dataframe tbody tr th:only-of-type {\n",
       "        vertical-align: middle;\n",
       "    }\n",
       "\n",
       "    .dataframe tbody tr th {\n",
       "        vertical-align: top;\n",
       "    }\n",
       "\n",
       "    .dataframe thead th {\n",
       "        text-align: right;\n",
       "    }\n",
       "</style>\n",
       "<table border=\"1\" class=\"dataframe\">\n",
       "  <thead>\n",
       "    <tr style=\"text-align: right;\">\n",
       "      <th></th>\n",
       "      <th>Rank</th>\n",
       "      <th>Name</th>\n",
       "      <th>Platform</th>\n",
       "      <th>Year</th>\n",
       "      <th>Genre</th>\n",
       "      <th>Publisher</th>\n",
       "      <th>NA_Sales</th>\n",
       "      <th>EU_Sales</th>\n",
       "      <th>JP_Sales</th>\n",
       "      <th>Other_Sales</th>\n",
       "      <th>Global_Sales</th>\n",
       "      <th>decade</th>\n",
       "    </tr>\n",
       "  </thead>\n",
       "  <tbody>\n",
       "    <tr>\n",
       "      <th>2</th>\n",
       "      <td>3</td>\n",
       "      <td>Mario Kart Wii</td>\n",
       "      <td>Wii</td>\n",
       "      <td>2008.0</td>\n",
       "      <td>Racing</td>\n",
       "      <td>Nintendo</td>\n",
       "      <td>15.85</td>\n",
       "      <td>12.88</td>\n",
       "      <td>3.79</td>\n",
       "      <td>3.31</td>\n",
       "      <td>35.82</td>\n",
       "      <td>00s</td>\n",
       "    </tr>\n",
       "    <tr>\n",
       "      <th>3</th>\n",
       "      <td>4</td>\n",
       "      <td>Wii Sports Resort</td>\n",
       "      <td>Wii</td>\n",
       "      <td>2009.0</td>\n",
       "      <td>Sports</td>\n",
       "      <td>Nintendo</td>\n",
       "      <td>15.75</td>\n",
       "      <td>11.01</td>\n",
       "      <td>3.28</td>\n",
       "      <td>2.96</td>\n",
       "      <td>33.00</td>\n",
       "      <td>00s</td>\n",
       "    </tr>\n",
       "    <tr>\n",
       "      <th>6</th>\n",
       "      <td>7</td>\n",
       "      <td>New Super Mario Bros.</td>\n",
       "      <td>DS</td>\n",
       "      <td>2006.0</td>\n",
       "      <td>Platform</td>\n",
       "      <td>Nintendo</td>\n",
       "      <td>11.38</td>\n",
       "      <td>9.23</td>\n",
       "      <td>6.50</td>\n",
       "      <td>2.90</td>\n",
       "      <td>30.01</td>\n",
       "      <td>00s</td>\n",
       "    </tr>\n",
       "    <tr>\n",
       "      <th>7</th>\n",
       "      <td>8</td>\n",
       "      <td>Wii Play</td>\n",
       "      <td>Wii</td>\n",
       "      <td>2006.0</td>\n",
       "      <td>Misc</td>\n",
       "      <td>Nintendo</td>\n",
       "      <td>14.03</td>\n",
       "      <td>9.20</td>\n",
       "      <td>2.93</td>\n",
       "      <td>2.85</td>\n",
       "      <td>29.02</td>\n",
       "      <td>00s</td>\n",
       "    </tr>\n",
       "    <tr>\n",
       "      <th>8</th>\n",
       "      <td>9</td>\n",
       "      <td>New Super Mario Bros. Wii</td>\n",
       "      <td>Wii</td>\n",
       "      <td>2009.0</td>\n",
       "      <td>Platform</td>\n",
       "      <td>Nintendo</td>\n",
       "      <td>14.59</td>\n",
       "      <td>7.06</td>\n",
       "      <td>4.70</td>\n",
       "      <td>2.26</td>\n",
       "      <td>28.62</td>\n",
       "      <td>00s</td>\n",
       "    </tr>\n",
       "  </tbody>\n",
       "</table>\n",
       "</div>"
      ],
      "text/plain": [
       "   Rank                       Name Platform    Year     Genre Publisher  \\\n",
       "2     3             Mario Kart Wii      Wii  2008.0    Racing  Nintendo   \n",
       "3     4          Wii Sports Resort      Wii  2009.0    Sports  Nintendo   \n",
       "6     7      New Super Mario Bros.       DS  2006.0  Platform  Nintendo   \n",
       "7     8                   Wii Play      Wii  2006.0      Misc  Nintendo   \n",
       "8     9  New Super Mario Bros. Wii      Wii  2009.0  Platform  Nintendo   \n",
       "\n",
       "   NA_Sales  EU_Sales  JP_Sales  Other_Sales  Global_Sales decade  \n",
       "2     15.85     12.88      3.79         3.31         35.82    00s  \n",
       "3     15.75     11.01      3.28         2.96         33.00    00s  \n",
       "6     11.38      9.23      6.50         2.90         30.01    00s  \n",
       "7     14.03      9.20      2.93         2.85         29.02    00s  \n",
       "8     14.59      7.06      4.70         2.26         28.62    00s  "
      ]
     },
     "execution_count": 12,
     "metadata": {},
     "output_type": "execute_result"
    },
    {
     "data": {
      "application/javascript": [
       "\n",
       "            setTimeout(function() {\n",
       "                var nbb_cell_id = 12;\n",
       "                var nbb_unformatted_code = \"# drop wii sports\\n# vg_sales = vg_sales[vg_sales[\\\"Name\\\"] != \\\"Wii Sports\\\"]\\nvg_00_10 = vg_00_10[vg_00_10[\\\"Name\\\"] != \\\"Wii Sports\\\"]\\nvg_00_10.head()\";\n",
       "                var nbb_formatted_code = \"# drop wii sports\\n# vg_sales = vg_sales[vg_sales[\\\"Name\\\"] != \\\"Wii Sports\\\"]\\nvg_00_10 = vg_00_10[vg_00_10[\\\"Name\\\"] != \\\"Wii Sports\\\"]\\nvg_00_10.head()\";\n",
       "                var nbb_cells = Jupyter.notebook.get_cells();\n",
       "                for (var i = 0; i < nbb_cells.length; ++i) {\n",
       "                    if (nbb_cells[i].input_prompt_number == nbb_cell_id) {\n",
       "                        if (nbb_cells[i].get_text() == nbb_unformatted_code) {\n",
       "                             nbb_cells[i].set_text(nbb_formatted_code);\n",
       "                        }\n",
       "                        break;\n",
       "                    }\n",
       "                }\n",
       "            }, 500);\n",
       "            "
      ],
      "text/plain": [
       "<IPython.core.display.Javascript object>"
      ]
     },
     "metadata": {},
     "output_type": "display_data"
    }
   ],
   "source": [
    "# drop wii sports\n",
    "# vg_sales = vg_sales[vg_sales[\"Name\"] != \"Wii Sports\"]\n",
    "vg_00_10 = vg_00_10[vg_00_10[\"Name\"] != \"Wii Sports\"]\n",
    "vg_00_10.head()"
   ]
  },
  {
   "cell_type": "markdown",
   "metadata": {},
   "source": [
    "With Wii Sports discarded, the distributions are still heavily skewed, but are more comparable, especially between the more better selling genres."
   ]
  },
  {
   "cell_type": "code",
   "execution_count": 13,
   "metadata": {},
   "outputs": [
    {
     "data": {
      "image/png": "[encoded data removed]",
      "text/plain": [
       "<Figure size 432x288 with 1 Axes>"
      ]
     },
     "metadata": {
      "needs_background": "light"
     },
     "output_type": "display_data"
    },
    {
     "data": {
      "application/javascript": [
       "\n",
       "            setTimeout(function() {\n",
       "                var nbb_cell_id = 13;\n",
       "                var nbb_unformatted_code = \"boxplots = sns.boxplot(\\\"Genre\\\", \\\"NA_Sales\\\", data=vg_00_10)\\nboxplots.set(ylabel=\\\"Millions of Units (N.A.)\\\")\\nboxplots.set_xticklabels(boxplots.get_xticklabels(), rotation=45)\\nplt.show()\";\n",
       "                var nbb_formatted_code = \"boxplots = sns.boxplot(\\\"Genre\\\", \\\"NA_Sales\\\", data=vg_00_10)\\nboxplots.set(ylabel=\\\"Millions of Units (N.A.)\\\")\\nboxplots.set_xticklabels(boxplots.get_xticklabels(), rotation=45)\\nplt.show()\";\n",
       "                var nbb_cells = Jupyter.notebook.get_cells();\n",
       "                for (var i = 0; i < nbb_cells.length; ++i) {\n",
       "                    if (nbb_cells[i].input_prompt_number == nbb_cell_id) {\n",
       "                        if (nbb_cells[i].get_text() == nbb_unformatted_code) {\n",
       "                             nbb_cells[i].set_text(nbb_formatted_code);\n",
       "                        }\n",
       "                        break;\n",
       "                    }\n",
       "                }\n",
       "            }, 500);\n",
       "            "
      ],
      "text/plain": [
       "<IPython.core.display.Javascript object>"
      ]
     },
     "metadata": {},
     "output_type": "display_data"
    }
   ],
   "source": [
    "boxplots = sns.boxplot(\"Genre\", \"NA_Sales\", data=vg_00_10)\n",
    "boxplots.set(ylabel=\"Millions of Units (N.A.)\")\n",
    "boxplots.set_xticklabels(boxplots.get_xticklabels(), rotation=45)\n",
    "plt.show()"
   ]
  },
  {
   "cell_type": "markdown",
   "metadata": {},
   "source": [
    "These distributions are obviously skewed. By taking the natural log of `NA_Sales`, the meaning of ratios will be preserved while making the data  more visually palatable. Exponentiation after analysis will need to be done to describe the data in real terms."
   ]
  },
  {
   "cell_type": "code",
   "execution_count": 14,
   "metadata": {},
   "outputs": [
    {
     "data": {
      "image/png": "[encoded data removed]",
      "text/plain": [
       "<Figure size 432x288 with 1 Axes>"
      ]
     },
     "metadata": {
      "needs_background": "light"
     },
     "output_type": "display_data"
    },
    {
     "data": {
      "application/javascript": [
       "\n",
       "            setTimeout(function() {\n",
       "                var nbb_cell_id = 14;\n",
       "                var nbb_unformatted_code = \"vg_00_10[\\\"log_na_sales\\\"] = np.log(vg_00_10[\\\"NA_Sales\\\"])\\n# pt = preprocessing.PowerTransformer(method=\\\"box-cox\\\", standardize=False)\\n# vg_00_10[\\\"nrml_na_sales\\\"] = pt.fit_transform(vg_00_10[\\\"NA_Sales\\\"].values.reshape(1, -1))\\n\\n\\nboxplots = sns.boxplot(\\\"Genre\\\", \\\"log_na_sales\\\", data=vg_00_10)\\nboxplots.set_xticklabels(boxplots.get_xticklabels(), rotation=45)\\nplt.show()\";\n",
       "                var nbb_formatted_code = \"vg_00_10[\\\"log_na_sales\\\"] = np.log(vg_00_10[\\\"NA_Sales\\\"])\\n# pt = preprocessing.PowerTransformer(method=\\\"box-cox\\\", standardize=False)\\n# vg_00_10[\\\"nrml_na_sales\\\"] = pt.fit_transform(vg_00_10[\\\"NA_Sales\\\"].values.reshape(1, -1))\\n\\n\\nboxplots = sns.boxplot(\\\"Genre\\\", \\\"log_na_sales\\\", data=vg_00_10)\\nboxplots.set_xticklabels(boxplots.get_xticklabels(), rotation=45)\\nplt.show()\";\n",
       "                var nbb_cells = Jupyter.notebook.get_cells();\n",
       "                for (var i = 0; i < nbb_cells.length; ++i) {\n",
       "                    if (nbb_cells[i].input_prompt_number == nbb_cell_id) {\n",
       "                        if (nbb_cells[i].get_text() == nbb_unformatted_code) {\n",
       "                             nbb_cells[i].set_text(nbb_formatted_code);\n",
       "                        }\n",
       "                        break;\n",
       "                    }\n",
       "                }\n",
       "            }, 500);\n",
       "            "
      ],
      "text/plain": [
       "<IPython.core.display.Javascript object>"
      ]
     },
     "metadata": {},
     "output_type": "display_data"
    }
   ],
   "source": [
    "vg_00_10[\"log_na_sales\"] = np.log(vg_00_10[\"NA_Sales\"])\n",
    "# pt = preprocessing.PowerTransformer(method=\"box-cox\", standardize=False)\n",
    "# vg_00_10[\"nrml_na_sales\"] = pt.fit_transform(vg_00_10[\"NA_Sales\"].values.reshape(1, -1))\n",
    "\n",
    "\n",
    "boxplots = sns.boxplot(\"Genre\", \"log_na_sales\", data=vg_00_10)\n",
    "boxplots.set_xticklabels(boxplots.get_xticklabels(), rotation=45)\n",
    "plt.show()"
   ]
  },
  {
   "cell_type": "markdown",
   "metadata": {
    "scrolled": true
   },
   "source": [
    "With this tranformation, the data is easier to visualize. The distributions now appear more normal, but visual inspection of boxplots is not sufficient to verify normality. QQ plots and a Shapiro tests can check normality. If all distributions are normal, a one-way ANOVA test will be the method of inquiry for determining if any of the mean sales by genre are significantly different. It is expected that these transformed distriubution will not be normal, as the logarithmic transformation preserves the ratios of the data. "
   ]
  },
  {
   "cell_type": "code",
   "execution_count": 15,
   "metadata": {},
   "outputs": [
    {
     "data": {
      "image/png": "[encoded data removed]",
      "text/plain": [
       "<Figure size 432x288 with 1 Axes>"
      ]
     },
     "metadata": {
      "needs_background": "light"
     },
     "output_type": "display_data"
    },
    {
     "name": "stdout",
     "output_type": "stream",
     "text": [
      "(0.9414966106414795, 8.118454594781188e-21)\n"
     ]
    },
    {
     "data": {
      "image/png": "[encoded data removed]",
      "text/plain": [
       "<Figure size 432x288 with 1 Axes>"
      ]
     },
     "metadata": {
      "needs_background": "light"
     },
     "output_type": "display_data"
    },
    {
     "name": "stdout",
     "output_type": "stream",
     "text": [
      "(0.9279647469520569, 4.5121965554587235e-27)\n"
     ]
    },
    {
     "data": {
      "image/png": "[encoded data removed]",
      "text/plain": [
       "<Figure size 432x288 with 1 Axes>"
      ]
     },
     "metadata": {
      "needs_background": "light"
     },
     "output_type": "display_data"
    },
    {
     "name": "stdout",
     "output_type": "stream",
     "text": [
      "(0.9037695527076721, 2.4066492765835727e-21)\n"
     ]
    },
    {
     "data": {
      "image/png": "[encoded data removed]",
      "text/plain": [
       "<Figure size 432x288 with 1 Axes>"
      ]
     },
     "metadata": {
      "needs_background": "light"
     },
     "output_type": "display_data"
    },
    {
     "name": "stdout",
     "output_type": "stream",
     "text": [
      "(0.9184775948524475, 9.717372670346963e-16)\n"
     ]
    },
    {
     "data": {
      "image/png": "[encoded data removed]",
      "text/plain": [
       "<Figure size 432x288 with 1 Axes>"
      ]
     },
     "metadata": {
      "needs_background": "light"
     },
     "output_type": "display_data"
    },
    {
     "name": "stdout",
     "output_type": "stream",
     "text": [
      "(0.9149930477142334, 7.673438967570334e-11)\n"
     ]
    },
    {
     "data": {
      "image/png": "[encoded data removed]",
      "text/plain": [
       "<Figure size 432x288 with 1 Axes>"
      ]
     },
     "metadata": {
      "needs_background": "light"
     },
     "output_type": "display_data"
    },
    {
     "name": "stdout",
     "output_type": "stream",
     "text": [
      "(0.9416412711143494, 1.6072313590087604e-15)\n"
     ]
    },
    {
     "data": {
      "image/png": "[encoded data removed]",
      "text/plain": [
       "<Figure size 432x288 with 1 Axes>"
      ]
     },
     "metadata": {
      "needs_background": "light"
     },
     "output_type": "display_data"
    },
    {
     "name": "stdout",
     "output_type": "stream",
     "text": [
      "(0.9244440793991089, 5.368427057061975e-16)\n"
     ]
    },
    {
     "data": {
      "image/png": "[encoded data removed]",
      "text/plain": [
       "<Figure size 432x288 with 1 Axes>"
      ]
     },
     "metadata": {
      "needs_background": "light"
     },
     "output_type": "display_data"
    },
    {
     "name": "stdout",
     "output_type": "stream",
     "text": [
      "(0.9578321576118469, 1.2331667242904132e-08)\n"
     ]
    },
    {
     "data": {
      "image/png": "[encoded data removed]",
      "text/plain": [
       "<Figure size 432x288 with 1 Axes>"
      ]
     },
     "metadata": {
      "needs_background": "light"
     },
     "output_type": "display_data"
    },
    {
     "name": "stdout",
     "output_type": "stream",
     "text": [
      "(0.9354791641235352, 5.006789796126176e-13)\n"
     ]
    },
    {
     "data": {
      "image/png": "[encoded data removed]",
      "text/plain": [
       "<Figure size 432x288 with 1 Axes>"
      ]
     },
     "metadata": {
      "needs_background": "light"
     },
     "output_type": "display_data"
    },
    {
     "name": "stdout",
     "output_type": "stream",
     "text": [
      "(0.9547686576843262, 1.3237593243786705e-08)\n"
     ]
    },
    {
     "data": {
      "image/png": "[encoded data removed]",
      "text/plain": [
       "<Figure size 432x288 with 1 Axes>"
      ]
     },
     "metadata": {
      "needs_background": "light"
     },
     "output_type": "display_data"
    },
    {
     "name": "stdout",
     "output_type": "stream",
     "text": [
      "(0.8934146761894226, 2.205050897430283e-08)\n"
     ]
    },
    {
     "data": {
      "image/png": "[encoded data removed]",
      "text/plain": [
       "<Figure size 432x288 with 1 Axes>"
      ]
     },
     "metadata": {
      "needs_background": "light"
     },
     "output_type": "display_data"
    },
    {
     "name": "stdout",
     "output_type": "stream",
     "text": [
      "(0.8974376916885376, 1.2914871394542615e-09)\n"
     ]
    },
    {
     "data": {
      "application/javascript": [
       "\n",
       "            setTimeout(function() {\n",
       "                var nbb_cell_id = 15;\n",
       "                var nbb_unformatted_code = \"# separate based on genres.\\nsports = vg_00_10[vg_00_10[\\\"Genre\\\"] == \\\"Sports\\\"]\\naction = vg_00_10[vg_00_10[\\\"Genre\\\"] == \\\"Action\\\"]\\nmisc = vg_00_10[vg_00_10[\\\"Genre\\\"] == \\\"Misc\\\"]\\nrpg = vg_00_10[vg_00_10[\\\"Genre\\\"] == \\\"Role-Playing\\\"]\\nadventure = vg_00_10[vg_00_10[\\\"Genre\\\"] == \\\"Adventure\\\"]\\nshooter = vg_00_10[vg_00_10[\\\"Genre\\\"] == \\\"Shooter\\\"]\\nracing = vg_00_10[vg_00_10[\\\"Genre\\\"] == \\\"Racing\\\"]\\nsim = vg_00_10[vg_00_10[\\\"Genre\\\"] == \\\"Simulation\\\"]\\nplatform = vg_00_10[vg_00_10[\\\"Genre\\\"] == \\\"Platform\\\"]\\nfighting = vg_00_10[vg_00_10[\\\"Genre\\\"] == \\\"Fighting\\\"]\\nstrategy = vg_00_10[vg_00_10[\\\"Genre\\\"] == \\\"Strategy\\\"]\\npuzzle = vg_00_10[vg_00_10[\\\"Genre\\\"] == \\\"Puzzle\\\"]\\n\\n\\n# make a list of the genre data frames\\ngenres = (\\n    sports,\\n    action,\\n    misc,\\n    rpg,\\n    adventure,\\n    shooter,\\n    racing,\\n    sim,\\n    platform,\\n    fighting,\\n    strategy,\\n    puzzle,\\n)\\n\\n\\n# create a qq plot for each genre\\nfor genre in genres:\\n    qqplot(genre[\\\"log_na_sales\\\"], line=\\\"s\\\")\\n    # plt.title(genre.Genre.)\\n    plt.show()\\n    print(stats.shapiro(genre[\\\"log_na_sales\\\"]))\";\n",
       "                var nbb_formatted_code = \"# separate based on genres.\\nsports = vg_00_10[vg_00_10[\\\"Genre\\\"] == \\\"Sports\\\"]\\naction = vg_00_10[vg_00_10[\\\"Genre\\\"] == \\\"Action\\\"]\\nmisc = vg_00_10[vg_00_10[\\\"Genre\\\"] == \\\"Misc\\\"]\\nrpg = vg_00_10[vg_00_10[\\\"Genre\\\"] == \\\"Role-Playing\\\"]\\nadventure = vg_00_10[vg_00_10[\\\"Genre\\\"] == \\\"Adventure\\\"]\\nshooter = vg_00_10[vg_00_10[\\\"Genre\\\"] == \\\"Shooter\\\"]\\nracing = vg_00_10[vg_00_10[\\\"Genre\\\"] == \\\"Racing\\\"]\\nsim = vg_00_10[vg_00_10[\\\"Genre\\\"] == \\\"Simulation\\\"]\\nplatform = vg_00_10[vg_00_10[\\\"Genre\\\"] == \\\"Platform\\\"]\\nfighting = vg_00_10[vg_00_10[\\\"Genre\\\"] == \\\"Fighting\\\"]\\nstrategy = vg_00_10[vg_00_10[\\\"Genre\\\"] == \\\"Strategy\\\"]\\npuzzle = vg_00_10[vg_00_10[\\\"Genre\\\"] == \\\"Puzzle\\\"]\\n\\n\\n# make a list of the genre data frames\\ngenres = (\\n    sports,\\n    action,\\n    misc,\\n    rpg,\\n    adventure,\\n    shooter,\\n    racing,\\n    sim,\\n    platform,\\n    fighting,\\n    strategy,\\n    puzzle,\\n)\\n\\n\\n# create a qq plot for each genre\\nfor genre in genres:\\n    qqplot(genre[\\\"log_na_sales\\\"], line=\\\"s\\\")\\n    # plt.title(genre.Genre.)\\n    plt.show()\\n    print(stats.shapiro(genre[\\\"log_na_sales\\\"]))\";\n",
       "                var nbb_cells = Jupyter.notebook.get_cells();\n",
       "                for (var i = 0; i < nbb_cells.length; ++i) {\n",
       "                    if (nbb_cells[i].input_prompt_number == nbb_cell_id) {\n",
       "                        if (nbb_cells[i].get_text() == nbb_unformatted_code) {\n",
       "                             nbb_cells[i].set_text(nbb_formatted_code);\n",
       "                        }\n",
       "                        break;\n",
       "                    }\n",
       "                }\n",
       "            }, 500);\n",
       "            "
      ],
      "text/plain": [
       "<IPython.core.display.Javascript object>"
      ]
     },
     "metadata": {},
     "output_type": "display_data"
    }
   ],
   "source": [
    "# separate based on genres.\n",
    "sports = vg_00_10[vg_00_10[\"Genre\"] == \"Sports\"]\n",
    "action = vg_00_10[vg_00_10[\"Genre\"] == \"Action\"]\n",
    "misc = vg_00_10[vg_00_10[\"Genre\"] == \"Misc\"]\n",
    "rpg = vg_00_10[vg_00_10[\"Genre\"] == \"Role-Playing\"]\n",
    "adventure = vg_00_10[vg_00_10[\"Genre\"] == \"Adventure\"]\n",
    "shooter = vg_00_10[vg_00_10[\"Genre\"] == \"Shooter\"]\n",
    "racing = vg_00_10[vg_00_10[\"Genre\"] == \"Racing\"]\n",
    "sim = vg_00_10[vg_00_10[\"Genre\"] == \"Simulation\"]\n",
    "platform = vg_00_10[vg_00_10[\"Genre\"] == \"Platform\"]\n",
    "fighting = vg_00_10[vg_00_10[\"Genre\"] == \"Fighting\"]\n",
    "strategy = vg_00_10[vg_00_10[\"Genre\"] == \"Strategy\"]\n",
    "puzzle = vg_00_10[vg_00_10[\"Genre\"] == \"Puzzle\"]\n",
    "\n",
    "\n",
    "# make a list of the genre data frames\n",
    "genres = (\n",
    "    sports,\n",
    "    action,\n",
    "    misc,\n",
    "    rpg,\n",
    "    adventure,\n",
    "    shooter,\n",
    "    racing,\n",
    "    sim,\n",
    "    platform,\n",
    "    fighting,\n",
    "    strategy,\n",
    "    puzzle,\n",
    ")\n",
    "\n",
    "\n",
    "# create a qq plot for each genre\n",
    "for genre in genres:\n",
    "    qqplot(genre[\"log_na_sales\"], line=\"s\")\n",
    "    # plt.title(genre.Genre.)\n",
    "    plt.show()\n",
    "    print(stats.shapiro(genre[\"log_na_sales\"]))"
   ]
  },
  {
   "cell_type": "code",
   "execution_count": 16,
   "metadata": {},
   "outputs": [
    {
     "data": {
      "text/html": [
       "<div>\n",
       "<style scoped>\n",
       "    .dataframe tbody tr th:only-of-type {\n",
       "        vertical-align: middle;\n",
       "    }\n",
       "\n",
       "    .dataframe tbody tr th {\n",
       "        vertical-align: top;\n",
       "    }\n",
       "\n",
       "    .dataframe thead th {\n",
       "        text-align: right;\n",
       "    }\n",
       "</style>\n",
       "<table border=\"1\" class=\"dataframe\">\n",
       "  <thead>\n",
       "    <tr style=\"text-align: right;\">\n",
       "      <th></th>\n",
       "      <th>Rank</th>\n",
       "      <th>Year</th>\n",
       "      <th>NA_Sales</th>\n",
       "      <th>EU_Sales</th>\n",
       "      <th>JP_Sales</th>\n",
       "      <th>Other_Sales</th>\n",
       "      <th>Global_Sales</th>\n",
       "      <th>log_na_sales</th>\n",
       "    </tr>\n",
       "  </thead>\n",
       "  <tbody>\n",
       "    <tr>\n",
       "      <th>count</th>\n",
       "      <td>1142.000000</td>\n",
       "      <td>1142.000000</td>\n",
       "      <td>1142.000000</td>\n",
       "      <td>1142.000000</td>\n",
       "      <td>1142.000000</td>\n",
       "      <td>1142.000000</td>\n",
       "      <td>1142.000000</td>\n",
       "      <td>1142.000000</td>\n",
       "    </tr>\n",
       "    <tr>\n",
       "      <th>mean</th>\n",
       "      <td>4849.227671</td>\n",
       "      <td>2006.859895</td>\n",
       "      <td>0.460604</td>\n",
       "      <td>0.239370</td>\n",
       "      <td>0.029510</td>\n",
       "      <td>0.093599</td>\n",
       "      <td>0.822846</td>\n",
       "      <td>-1.244417</td>\n",
       "    </tr>\n",
       "    <tr>\n",
       "      <th>std</th>\n",
       "      <td>2908.428537</td>\n",
       "      <td>3.931444</td>\n",
       "      <td>0.769996</td>\n",
       "      <td>0.681393</td>\n",
       "      <td>0.192655</td>\n",
       "      <td>0.219366</td>\n",
       "      <td>1.630064</td>\n",
       "      <td>0.865556</td>\n",
       "    </tr>\n",
       "    <tr>\n",
       "      <th>min</th>\n",
       "      <td>4.000000</td>\n",
       "      <td>2000.000000</td>\n",
       "      <td>0.090000</td>\n",
       "      <td>0.000000</td>\n",
       "      <td>0.000000</td>\n",
       "      <td>0.000000</td>\n",
       "      <td>0.090000</td>\n",
       "      <td>-2.407946</td>\n",
       "    </tr>\n",
       "    <tr>\n",
       "      <th>25%</th>\n",
       "      <td>2427.000000</td>\n",
       "      <td>2003.000000</td>\n",
       "      <td>0.140000</td>\n",
       "      <td>0.010000</td>\n",
       "      <td>0.000000</td>\n",
       "      <td>0.010000</td>\n",
       "      <td>0.210000</td>\n",
       "      <td>-1.966113</td>\n",
       "    </tr>\n",
       "    <tr>\n",
       "      <th>50%</th>\n",
       "      <td>4595.500000</td>\n",
       "      <td>2007.000000</td>\n",
       "      <td>0.250000</td>\n",
       "      <td>0.070000</td>\n",
       "      <td>0.000000</td>\n",
       "      <td>0.030000</td>\n",
       "      <td>0.420000</td>\n",
       "      <td>-1.386294</td>\n",
       "    </tr>\n",
       "    <tr>\n",
       "      <th>75%</th>\n",
       "      <td>7314.750000</td>\n",
       "      <td>2010.000000</td>\n",
       "      <td>0.490000</td>\n",
       "      <td>0.200000</td>\n",
       "      <td>0.000000</td>\n",
       "      <td>0.080000</td>\n",
       "      <td>0.857500</td>\n",
       "      <td>-0.713350</td>\n",
       "    </tr>\n",
       "    <tr>\n",
       "      <th>max</th>\n",
       "      <td>10930.000000</td>\n",
       "      <td>2016.000000</td>\n",
       "      <td>15.750000</td>\n",
       "      <td>11.010000</td>\n",
       "      <td>3.600000</td>\n",
       "      <td>2.960000</td>\n",
       "      <td>33.000000</td>\n",
       "      <td>2.756840</td>\n",
       "    </tr>\n",
       "  </tbody>\n",
       "</table>\n",
       "</div>"
      ],
      "text/plain": [
       "               Rank         Year     NA_Sales     EU_Sales     JP_Sales  \\\n",
       "count   1142.000000  1142.000000  1142.000000  1142.000000  1142.000000   \n",
       "mean    4849.227671  2006.859895     0.460604     0.239370     0.029510   \n",
       "std     2908.428537     3.931444     0.769996     0.681393     0.192655   \n",
       "min        4.000000  2000.000000     0.090000     0.000000     0.000000   \n",
       "25%     2427.000000  2003.000000     0.140000     0.010000     0.000000   \n",
       "50%     4595.500000  2007.000000     0.250000     0.070000     0.000000   \n",
       "75%     7314.750000  2010.000000     0.490000     0.200000     0.000000   \n",
       "max    10930.000000  2016.000000    15.750000    11.010000     3.600000   \n",
       "\n",
       "       Other_Sales  Global_Sales  log_na_sales  \n",
       "count  1142.000000   1142.000000   1142.000000  \n",
       "mean      0.093599      0.822846     -1.244417  \n",
       "std       0.219366      1.630064      0.865556  \n",
       "min       0.000000      0.090000     -2.407946  \n",
       "25%       0.010000      0.210000     -1.966113  \n",
       "50%       0.030000      0.420000     -1.386294  \n",
       "75%       0.080000      0.857500     -0.713350  \n",
       "max       2.960000     33.000000      2.756840  "
      ]
     },
     "execution_count": 16,
     "metadata": {},
     "output_type": "execute_result"
    },
    {
     "data": {
      "application/javascript": [
       "\n",
       "            setTimeout(function() {\n",
       "                var nbb_cell_id = 16;\n",
       "                var nbb_unformatted_code = \"sports.describe()\";\n",
       "                var nbb_formatted_code = \"sports.describe()\";\n",
       "                var nbb_cells = Jupyter.notebook.get_cells();\n",
       "                for (var i = 0; i < nbb_cells.length; ++i) {\n",
       "                    if (nbb_cells[i].input_prompt_number == nbb_cell_id) {\n",
       "                        if (nbb_cells[i].get_text() == nbb_unformatted_code) {\n",
       "                             nbb_cells[i].set_text(nbb_formatted_code);\n",
       "                        }\n",
       "                        break;\n",
       "                    }\n",
       "                }\n",
       "            }, 500);\n",
       "            "
      ],
      "text/plain": [
       "<IPython.core.display.Javascript object>"
      ]
     },
     "metadata": {},
     "output_type": "display_data"
    }
   ],
   "source": [
    "sports.describe()"
   ]
  },
  {
   "cell_type": "markdown",
   "metadata": {},
   "source": [
    "As expected, the QQ plots and Shapiro tests confirm non-normality. Also, the selection by year seems to have yielded no results for `Adventure` games. `Adevnture` games will thus not be considered in the statistical testing. The implication of lack of adventure games in these years will be discussed in conclusions.\n",
    "\n",
    "Since the distributions are not normal, a Kruskal Wallis test will be performed to determine if any of the median values are significantly different."
   ]
  },
  {
   "cell_type": "code",
   "execution_count": 17,
   "metadata": {},
   "outputs": [
    {
     "data": {
      "text/plain": [
       "KruskalResult(statistic=88.78031519033414, pvalue=9.34406651599953e-15)"
      ]
     },
     "execution_count": 17,
     "metadata": {},
     "output_type": "execute_result"
    },
    {
     "data": {
      "application/javascript": [
       "\n",
       "            setTimeout(function() {\n",
       "                var nbb_cell_id = 17;\n",
       "                var nbb_unformatted_code = \"stats.kruskal(\\n    sports[\\\"log_na_sales\\\"],\\n    action[\\\"log_na_sales\\\"],\\n    misc['log_na_sales'],\\n    rpg[\\\"log_na_sales\\\"],\\n    shooter[\\\"log_na_sales\\\"],\\n    racing[\\\"log_na_sales\\\"],\\n    sim[\\\"log_na_sales\\\"],\\n    platform[\\\"log_na_sales\\\"],\\n    fighting[\\\"log_na_sales\\\"],\\n    strategy[\\\"log_na_sales\\\"],\\n    puzzle[\\\"log_na_sales\\\"],\\n)\";\n",
       "                var nbb_formatted_code = \"stats.kruskal(\\n    sports[\\\"log_na_sales\\\"],\\n    action[\\\"log_na_sales\\\"],\\n    misc[\\\"log_na_sales\\\"],\\n    rpg[\\\"log_na_sales\\\"],\\n    shooter[\\\"log_na_sales\\\"],\\n    racing[\\\"log_na_sales\\\"],\\n    sim[\\\"log_na_sales\\\"],\\n    platform[\\\"log_na_sales\\\"],\\n    fighting[\\\"log_na_sales\\\"],\\n    strategy[\\\"log_na_sales\\\"],\\n    puzzle[\\\"log_na_sales\\\"],\\n)\";\n",
       "                var nbb_cells = Jupyter.notebook.get_cells();\n",
       "                for (var i = 0; i < nbb_cells.length; ++i) {\n",
       "                    if (nbb_cells[i].input_prompt_number == nbb_cell_id) {\n",
       "                        if (nbb_cells[i].get_text() == nbb_unformatted_code) {\n",
       "                             nbb_cells[i].set_text(nbb_formatted_code);\n",
       "                        }\n",
       "                        break;\n",
       "                    }\n",
       "                }\n",
       "            }, 500);\n",
       "            "
      ],
      "text/plain": [
       "<IPython.core.display.Javascript object>"
      ]
     },
     "metadata": {},
     "output_type": "display_data"
    }
   ],
   "source": [
    "stats.kruskal(\n",
    "    sports[\"log_na_sales\"],\n",
    "    action[\"log_na_sales\"],\n",
    "    misc['log_na_sales'],\n",
    "    rpg[\"log_na_sales\"],\n",
    "    shooter[\"log_na_sales\"],\n",
    "    racing[\"log_na_sales\"],\n",
    "    sim[\"log_na_sales\"],\n",
    "    platform[\"log_na_sales\"],\n",
    "    fighting[\"log_na_sales\"],\n",
    "    strategy[\"log_na_sales\"],\n",
    "    puzzle[\"log_na_sales\"],\n",
    ")\n"
   ]
  },
  {
   "cell_type": "markdown",
   "metadata": {},
   "source": [
    "Acorrding to the Kruskal test, at least one genre has a significantly different median than the others. Two suites of Mann-WhitneyU tests will be run. The first group will be for genres I expect to be similar. The second set will be for genres I expect to be different. All p-values will be corrected for multiple testing to account for the increasing type 1 error rate of running multiple tests."
   ]
  },
  {
   "cell_type": "code",
   "execution_count": 18,
   "metadata": {},
   "outputs": [
    {
     "name": "stdout",
     "output_type": "stream",
     "text": [
      "[False  True False  True False  True]\n",
      "[1.37086129e-01 4.20255123e-08 4.37638681e-01 1.31323386e-03\n",
      " 4.96550322e-01 3.50831755e-04]\n",
      "0.008512444610847103\n",
      "0.008333333333333333\n"
     ]
    },
    {
     "data": {
      "application/javascript": [
       "\n",
       "            setTimeout(function() {\n",
       "                var nbb_cell_id = 18;\n",
       "                var nbb_unformatted_code = \"# groups expected to be similar\\n_, p1 = stats.mannwhitneyu(sports[\\\"log_na_sales\\\"], racing[\\\"log_na_sales\\\"])\\n_, p2 = stats.mannwhitneyu(action[\\\"log_na_sales\\\"], shooter[\\\"log_na_sales\\\"])\\n_, p3 = stats.mannwhitneyu(strategy[\\\"log_na_sales\\\"], puzzle[\\\"log_na_sales\\\"])\\n\\n# groups expected to be different\\n_, p4 = stats.mannwhitneyu(rpg[\\\"log_na_sales\\\"], shooter[\\\"log_na_sales\\\"])\\n_, p5 = stats.mannwhitneyu(fighting[\\\"log_na_sales\\\"], platform[\\\"log_na_sales\\\"])\\n_, p6 = stats.mannwhitneyu(action[\\\"log_na_sales\\\"], strategy[\\\"log_na_sales\\\"])\\n\\np_values = [p1, p2, p3, p4, p5, p6]\\nreject, corr_p, sidak, bonf = multipletests(p_values, alpha=0.05)\\nprint(reject)\\nprint(corr_p)\\nprint(sidak)\\nprint(bonf)\";\n",
       "                var nbb_formatted_code = \"# groups expected to be similar\\n_, p1 = stats.mannwhitneyu(sports[\\\"log_na_sales\\\"], racing[\\\"log_na_sales\\\"])\\n_, p2 = stats.mannwhitneyu(action[\\\"log_na_sales\\\"], shooter[\\\"log_na_sales\\\"])\\n_, p3 = stats.mannwhitneyu(strategy[\\\"log_na_sales\\\"], puzzle[\\\"log_na_sales\\\"])\\n\\n# groups expected to be different\\n_, p4 = stats.mannwhitneyu(rpg[\\\"log_na_sales\\\"], shooter[\\\"log_na_sales\\\"])\\n_, p5 = stats.mannwhitneyu(fighting[\\\"log_na_sales\\\"], platform[\\\"log_na_sales\\\"])\\n_, p6 = stats.mannwhitneyu(action[\\\"log_na_sales\\\"], strategy[\\\"log_na_sales\\\"])\\n\\np_values = [p1, p2, p3, p4, p5, p6]\\nreject, corr_p, sidak, bonf = multipletests(p_values, alpha=0.05)\\nprint(reject)\\nprint(corr_p)\\nprint(sidak)\\nprint(bonf)\";\n",
       "                var nbb_cells = Jupyter.notebook.get_cells();\n",
       "                for (var i = 0; i < nbb_cells.length; ++i) {\n",
       "                    if (nbb_cells[i].input_prompt_number == nbb_cell_id) {\n",
       "                        if (nbb_cells[i].get_text() == nbb_unformatted_code) {\n",
       "                             nbb_cells[i].set_text(nbb_formatted_code);\n",
       "                        }\n",
       "                        break;\n",
       "                    }\n",
       "                }\n",
       "            }, 500);\n",
       "            "
      ],
      "text/plain": [
       "<IPython.core.display.Javascript object>"
      ]
     },
     "metadata": {},
     "output_type": "display_data"
    }
   ],
   "source": [
    "# groups expected to be similar\n",
    "_, p1 = stats.mannwhitneyu(sports[\"log_na_sales\"], racing[\"log_na_sales\"])\n",
    "_, p2 = stats.mannwhitneyu(action[\"log_na_sales\"], shooter[\"log_na_sales\"])\n",
    "_, p3 = stats.mannwhitneyu(strategy[\"log_na_sales\"], puzzle[\"log_na_sales\"])\n",
    "\n",
    "# groups expected to be different\n",
    "_, p4 = stats.mannwhitneyu(rpg[\"log_na_sales\"], shooter[\"log_na_sales\"])\n",
    "_, p5 = stats.mannwhitneyu(fighting[\"log_na_sales\"], platform[\"log_na_sales\"])\n",
    "_, p6 = stats.mannwhitneyu(action[\"log_na_sales\"], strategy[\"log_na_sales\"])\n",
    "\n",
    "p_values = [p1, p2, p3, p4, p5, p6]\n",
    "reject, corr_p, sidak, bonf = multipletests(p_values, alpha=0.05)\n",
    "print(reject)\n",
    "print(corr_p)\n",
    "print(sidak)\n",
    "print(bonf)"
   ]
  },
  {
   "cell_type": "markdown",
   "metadata": {},
   "source": [
    "From the pairwise analyses, there was a significant difference in median sales between sports and racing games; rpg and shooter games; and action and strategy games. Comparison of the histograms is for the transformed sales numbers, while effect sizes are in standard units. "
   ]
  },
  {
   "cell_type": "markdown",
   "metadata": {},
   "source": [
    "### Action x Shooter"
   ]
  },
  {
   "cell_type": "code",
   "execution_count": 19,
   "metadata": {},
   "outputs": [
    {
     "data": {
      "image/png": "[encoded data removed]",
      "text/plain": [
       "<Figure size 720x360 with 1 Axes>"
      ]
     },
     "metadata": {
      "needs_background": "light"
     },
     "output_type": "display_data"
    },
    {
     "name": "stdout",
     "output_type": "stream",
     "text": [
      "(-0.07, -0.03)\n",
      "0.1509198584228485\n",
      "0.5662590053287962\n"
     ]
    },
    {
     "data": {
      "application/javascript": [
       "\n",
       "            setTimeout(function() {\n",
       "                var nbb_cell_id = 19;\n",
       "                var nbb_unformatted_code = \"action[\\\"NA_Sales\\\"].hist(alpha=0.5, label=\\\"Action\\\", figsize=(10, 5))\\nshooter[\\\"NA_Sales\\\"].hist(alpha=0.5, label=\\\"Shooter\\\")\\nplt.legend()\\nplt.show()\\n\\nprint(calc_non_param_ci(action[\\\"NA_Sales\\\"], shooter[\\\"NA_Sales\\\"], alpha=0.05))\\nprint(rbc_ind(action[\\\"NA_Sales\\\"], shooter[\\\"NA_Sales\\\"]))\\nprint(cles_ind(action[\\\"NA_Sales\\\"], shooter[\\\"NA_Sales\\\"]))\";\n",
       "                var nbb_formatted_code = \"action[\\\"NA_Sales\\\"].hist(alpha=0.5, label=\\\"Action\\\", figsize=(10, 5))\\nshooter[\\\"NA_Sales\\\"].hist(alpha=0.5, label=\\\"Shooter\\\")\\nplt.legend()\\nplt.show()\\n\\nprint(calc_non_param_ci(action[\\\"NA_Sales\\\"], shooter[\\\"NA_Sales\\\"], alpha=0.05))\\nprint(rbc_ind(action[\\\"NA_Sales\\\"], shooter[\\\"NA_Sales\\\"]))\\nprint(cles_ind(action[\\\"NA_Sales\\\"], shooter[\\\"NA_Sales\\\"]))\";\n",
       "                var nbb_cells = Jupyter.notebook.get_cells();\n",
       "                for (var i = 0; i < nbb_cells.length; ++i) {\n",
       "                    if (nbb_cells[i].input_prompt_number == nbb_cell_id) {\n",
       "                        if (nbb_cells[i].get_text() == nbb_unformatted_code) {\n",
       "                             nbb_cells[i].set_text(nbb_formatted_code);\n",
       "                        }\n",
       "                        break;\n",
       "                    }\n",
       "                }\n",
       "            }, 500);\n",
       "            "
      ],
      "text/plain": [
       "<IPython.core.display.Javascript object>"
      ]
     },
     "metadata": {},
     "output_type": "display_data"
    }
   ],
   "source": [
    "action[\"NA_Sales\"].hist(alpha=0.5, label=\"Action\", figsize=(10, 5))\n",
    "shooter[\"NA_Sales\"].hist(alpha=0.5, label=\"Shooter\")\n",
    "plt.legend()\n",
    "plt.show()\n",
    "\n",
    "print(calc_non_param_ci(action[\"NA_Sales\"], shooter[\"NA_Sales\"], alpha=0.05))\n",
    "print(rbc_ind(action[\"NA_Sales\"], shooter[\"NA_Sales\"]))\n",
    "print(cles_ind(action[\"NA_Sales\"], shooter[\"NA_Sales\"]))"
   ]
  },
  {
   "cell_type": "code",
   "execution_count": 31,
   "metadata": {},
   "outputs": [
    {
     "data": {
      "image/png": "[encoded data removed]",
      "text/plain": [
       "<Figure size 432x288 with 1 Axes>"
      ]
     },
     "metadata": {
      "needs_background": "light"
     },
     "output_type": "display_data"
    },
    {
     "data": {
      "application/javascript": [
       "\n",
       "            setTimeout(function() {\n",
       "                var nbb_cell_id = 31;\n",
       "                var nbb_unformatted_code = \"action_x_shooter = vg_00_10[vg_00_10[\\\"Genre\\\"].isin([\\\"Action\\\", \\\"Shooter\\\"])]\\nax = sns.pointplot(x=\\\"Genre\\\", y=\\\"NA_Sales\\\", data=action_x_shooter, join=False)\\nax.set(ylabel=\\\"NA Sales (Millions of Units)\\\", title='Action x Shooter')\\nplt.show()\";\n",
       "                var nbb_formatted_code = \"action_x_shooter = vg_00_10[vg_00_10[\\\"Genre\\\"].isin([\\\"Action\\\", \\\"Shooter\\\"])]\\nax = sns.pointplot(x=\\\"Genre\\\", y=\\\"NA_Sales\\\", data=action_x_shooter, join=False)\\nax.set(ylabel=\\\"NA Sales (Millions of Units)\\\", title=\\\"Action x Shooter\\\")\\nplt.show()\";\n",
       "                var nbb_cells = Jupyter.notebook.get_cells();\n",
       "                for (var i = 0; i < nbb_cells.length; ++i) {\n",
       "                    if (nbb_cells[i].input_prompt_number == nbb_cell_id) {\n",
       "                        if (nbb_cells[i].get_text() == nbb_unformatted_code) {\n",
       "                             nbb_cells[i].set_text(nbb_formatted_code);\n",
       "                        }\n",
       "                        break;\n",
       "                    }\n",
       "                }\n",
       "            }, 500);\n",
       "            "
      ],
      "text/plain": [
       "<IPython.core.display.Javascript object>"
      ]
     },
     "metadata": {},
     "output_type": "display_data"
    }
   ],
   "source": [
    "action_x_shooter = vg_00_10[vg_00_10[\"Genre\"].isin([\"Action\", \"Shooter\"])]\n",
    "ax = sns.pointplot(x=\"Genre\", y=\"NA_Sales\", data=action_x_shooter, join=False)\n",
    "ax.set(ylabel=\"NA Sales (Millions of Units)\", title=\"Action x Shooter\")\n",
    "plt.show()"
   ]
  },
  {
   "cell_type": "markdown",
   "metadata": {},
   "source": [
    "### RPG x Shooter"
   ]
  },
  {
   "cell_type": "code",
   "execution_count": 20,
   "metadata": {},
   "outputs": [
    {
     "data": {
      "image/png": "[encoded data removed]",
      "text/plain": [
       "<Figure size 720x360 with 1 Axes>"
      ]
     },
     "metadata": {
      "needs_background": "light"
     },
     "output_type": "display_data"
    },
    {
     "data": {
      "image/png": "[encoded data removed]",
      "text/plain": [
       "<Figure size 720x360 with 1 Axes>"
      ]
     },
     "metadata": {
      "needs_background": "light"
     },
     "output_type": "display_data"
    },
    {
     "name": "stdout",
     "output_type": "stream",
     "text": [
      "(-0.06000000000000001, -0.010000000000000009)\n",
      "0.11657652059282231\n",
      "0.5492806916461287\n"
     ]
    },
    {
     "data": {
      "application/javascript": [
       "\n",
       "            setTimeout(function() {\n",
       "                var nbb_cell_id = 20;\n",
       "                var nbb_unformatted_code = \"rpg[\\\"NA_Sales\\\"].hist(alpha=0.5, label=\\\"RPG\\\", figsize=(10, 5))\\nplt.legend()\\nplt.show()\\nshooter[\\\"NA_Sales\\\"].hist(alpha=0.5, label=\\\"Shooter\\\", figsize=(10, 5))\\nplt.legend()\\nplt.show()\\n\\nprint(calc_non_param_ci(rpg[\\\"NA_Sales\\\"], shooter[\\\"NA_Sales\\\"], alpha=0.05))\\nprint(rbc_ind(rpg[\\\"NA_Sales\\\"], shooter[\\\"NA_Sales\\\"]))\\nprint(cles_ind(rpg[\\\"NA_Sales\\\"], shooter[\\\"NA_Sales\\\"]))\";\n",
       "                var nbb_formatted_code = \"rpg[\\\"NA_Sales\\\"].hist(alpha=0.5, label=\\\"RPG\\\", figsize=(10, 5))\\nplt.legend()\\nplt.show()\\nshooter[\\\"NA_Sales\\\"].hist(alpha=0.5, label=\\\"Shooter\\\", figsize=(10, 5))\\nplt.legend()\\nplt.show()\\n\\nprint(calc_non_param_ci(rpg[\\\"NA_Sales\\\"], shooter[\\\"NA_Sales\\\"], alpha=0.05))\\nprint(rbc_ind(rpg[\\\"NA_Sales\\\"], shooter[\\\"NA_Sales\\\"]))\\nprint(cles_ind(rpg[\\\"NA_Sales\\\"], shooter[\\\"NA_Sales\\\"]))\";\n",
       "                var nbb_cells = Jupyter.notebook.get_cells();\n",
       "                for (var i = 0; i < nbb_cells.length; ++i) {\n",
       "                    if (nbb_cells[i].input_prompt_number == nbb_cell_id) {\n",
       "                        if (nbb_cells[i].get_text() == nbb_unformatted_code) {\n",
       "                             nbb_cells[i].set_text(nbb_formatted_code);\n",
       "                        }\n",
       "                        break;\n",
       "                    }\n",
       "                }\n",
       "            }, 500);\n",
       "            "
      ],
      "text/plain": [
       "<IPython.core.display.Javascript object>"
      ]
     },
     "metadata": {},
     "output_type": "display_data"
    }
   ],
   "source": [
    "rpg[\"NA_Sales\"].hist(alpha=0.5, label=\"RPG\", figsize=(10, 5))\n",
    "plt.legend()\n",
    "plt.show()\n",
    "shooter[\"NA_Sales\"].hist(alpha=0.5, label=\"Shooter\", figsize=(10, 5))\n",
    "plt.legend()\n",
    "plt.show()\n",
    "\n",
    "print(calc_non_param_ci(rpg[\"NA_Sales\"], shooter[\"NA_Sales\"], alpha=0.05))\n",
    "print(rbc_ind(rpg[\"NA_Sales\"], shooter[\"NA_Sales\"]))\n",
    "print(cles_ind(rpg[\"NA_Sales\"], shooter[\"NA_Sales\"]))"
   ]
  },
  {
   "cell_type": "code",
   "execution_count": 32,
   "metadata": {},
   "outputs": [
    {
     "data": {
      "image/png": "[encoded data removed]",
      "text/plain": [
       "<Figure size 432x288 with 1 Axes>"
      ]
     },
     "metadata": {
      "needs_background": "light"
     },
     "output_type": "display_data"
    },
    {
     "data": {
      "application/javascript": [
       "\n",
       "            setTimeout(function() {\n",
       "                var nbb_cell_id = 32;\n",
       "                var nbb_unformatted_code = \"rpg_x_shooter = vg_00_10[vg_00_10[\\\"Genre\\\"].isin([\\\"Role-Playing\\\", \\\"Shooter\\\"])]\\nax = sns.pointplot(x=\\\"Genre\\\", y=\\\"NA_Sales\\\", data=rpg_x_shooter, join=False)\\nax.set(ylabel=\\\"NA Sales (Millions of Units)\\\", title=\\\"Role-Playing x Shooter\\\")\\nplt.show()\";\n",
       "                var nbb_formatted_code = \"rpg_x_shooter = vg_00_10[vg_00_10[\\\"Genre\\\"].isin([\\\"Role-Playing\\\", \\\"Shooter\\\"])]\\nax = sns.pointplot(x=\\\"Genre\\\", y=\\\"NA_Sales\\\", data=rpg_x_shooter, join=False)\\nax.set(ylabel=\\\"NA Sales (Millions of Units)\\\", title=\\\"Role-Playing x Shooter\\\")\\nplt.show()\";\n",
       "                var nbb_cells = Jupyter.notebook.get_cells();\n",
       "                for (var i = 0; i < nbb_cells.length; ++i) {\n",
       "                    if (nbb_cells[i].input_prompt_number == nbb_cell_id) {\n",
       "                        if (nbb_cells[i].get_text() == nbb_unformatted_code) {\n",
       "                             nbb_cells[i].set_text(nbb_formatted_code);\n",
       "                        }\n",
       "                        break;\n",
       "                    }\n",
       "                }\n",
       "            }, 500);\n",
       "            "
      ],
      "text/plain": [
       "<IPython.core.display.Javascript object>"
      ]
     },
     "metadata": {},
     "output_type": "display_data"
    }
   ],
   "source": [
    "rpg_x_shooter = vg_00_10[vg_00_10[\"Genre\"].isin([\"Role-Playing\", \"Shooter\"])]\n",
    "ax = sns.pointplot(x=\"Genre\", y=\"NA_Sales\", data=rpg_x_shooter, join=False)\n",
    "ax.set(ylabel=\"NA Sales (Millions of Units)\", title=\"Role-Playing x Shooter\")\n",
    "plt.show()"
   ]
  },
  {
   "cell_type": "markdown",
   "metadata": {},
   "source": [
    "### Action x Strategy"
   ]
  },
  {
   "cell_type": "code",
   "execution_count": 21,
   "metadata": {},
   "outputs": [
    {
     "data": {
      "image/png": "[encoded data removed]",
      "text/plain": [
       "<Figure size 720x360 with 1 Axes>"
      ]
     },
     "metadata": {
      "needs_background": "light"
     },
     "output_type": "display_data"
    },
    {
     "data": {
      "image/png": "[encoded data removed]",
      "text/plain": [
       "<Figure size 720x360 with 1 Axes>"
      ]
     },
     "metadata": {
      "needs_background": "light"
     },
     "output_type": "display_data"
    },
    {
     "name": "stdout",
     "output_type": "stream",
     "text": [
      "(0.01999999999999999, 0.06000000000000001)\n",
      "0.19698062606926525\n",
      "0.58421417672354\n"
     ]
    },
    {
     "data": {
      "application/javascript": [
       "\n",
       "            setTimeout(function() {\n",
       "                var nbb_cell_id = 21;\n",
       "                var nbb_unformatted_code = \"action[\\\"NA_Sales\\\"].hist(alpha=0.5, label=\\\"Action\\\", figsize=(10, 5))\\nplt.legend()\\nplt.show()\\nstrategy[\\\"NA_Sales\\\"].hist(alpha=0.5, label=\\\"Strategy\\\", figsize=(10, 5))\\nplt.legend()\\nplt.show()\\n\\nprint(calc_non_param_ci(action[\\\"NA_Sales\\\"], strategy[\\\"NA_Sales\\\"], alpha=0.05))\\nprint(rbc_ind(action[\\\"NA_Sales\\\"], strategy[\\\"NA_Sales\\\"]))\\nprint(cles_ind(action[\\\"NA_Sales\\\"], strategy[\\\"NA_Sales\\\"]))\";\n",
       "                var nbb_formatted_code = \"action[\\\"NA_Sales\\\"].hist(alpha=0.5, label=\\\"Action\\\", figsize=(10, 5))\\nplt.legend()\\nplt.show()\\nstrategy[\\\"NA_Sales\\\"].hist(alpha=0.5, label=\\\"Strategy\\\", figsize=(10, 5))\\nplt.legend()\\nplt.show()\\n\\nprint(calc_non_param_ci(action[\\\"NA_Sales\\\"], strategy[\\\"NA_Sales\\\"], alpha=0.05))\\nprint(rbc_ind(action[\\\"NA_Sales\\\"], strategy[\\\"NA_Sales\\\"]))\\nprint(cles_ind(action[\\\"NA_Sales\\\"], strategy[\\\"NA_Sales\\\"]))\";\n",
       "                var nbb_cells = Jupyter.notebook.get_cells();\n",
       "                for (var i = 0; i < nbb_cells.length; ++i) {\n",
       "                    if (nbb_cells[i].input_prompt_number == nbb_cell_id) {\n",
       "                        if (nbb_cells[i].get_text() == nbb_unformatted_code) {\n",
       "                             nbb_cells[i].set_text(nbb_formatted_code);\n",
       "                        }\n",
       "                        break;\n",
       "                    }\n",
       "                }\n",
       "            }, 500);\n",
       "            "
      ],
      "text/plain": [
       "<IPython.core.display.Javascript object>"
      ]
     },
     "metadata": {},
     "output_type": "display_data"
    }
   ],
   "source": [
    "action[\"NA_Sales\"].hist(alpha=0.5, label=\"Action\", figsize=(10, 5))\n",
    "plt.legend()\n",
    "plt.show()\n",
    "strategy[\"NA_Sales\"].hist(alpha=0.5, label=\"Strategy\", figsize=(10, 5))\n",
    "plt.legend()\n",
    "plt.show()\n",
    "\n",
    "print(calc_non_param_ci(action[\"NA_Sales\"], strategy[\"NA_Sales\"], alpha=0.05))\n",
    "print(rbc_ind(action[\"NA_Sales\"], strategy[\"NA_Sales\"]))\n",
    "print(cles_ind(action[\"NA_Sales\"], strategy[\"NA_Sales\"]))\n"
   ]
  },
  {
   "cell_type": "code",
   "execution_count": 33,
   "metadata": {},
   "outputs": [
    {
     "data": {
      "image/png": "[encoded data removed]",
      "text/plain": [
       "<Figure size 432x288 with 1 Axes>"
      ]
     },
     "metadata": {
      "needs_background": "light"
     },
     "output_type": "display_data"
    },
    {
     "data": {
      "application/javascript": [
       "\n",
       "            setTimeout(function() {\n",
       "                var nbb_cell_id = 33;\n",
       "                var nbb_unformatted_code = \"action_x_strategy = vg_00_10[vg_00_10[\\\"Genre\\\"].isin([\\\"Action\\\", \\\"Strategy\\\"])]\\nax = sns.pointplot(x=\\\"Genre\\\", y=\\\"NA_Sales\\\", data=action_x_strategy, join=False)\\nax.set(ylabel=\\\"NA Sales (Millions of Units)\\\", title=\\\"Action x Strategy\\\")\\nplt.show()\";\n",
       "                var nbb_formatted_code = \"action_x_strategy = vg_00_10[vg_00_10[\\\"Genre\\\"].isin([\\\"Action\\\", \\\"Strategy\\\"])]\\nax = sns.pointplot(x=\\\"Genre\\\", y=\\\"NA_Sales\\\", data=action_x_strategy, join=False)\\nax.set(ylabel=\\\"NA Sales (Millions of Units)\\\", title=\\\"Action x Strategy\\\")\\nplt.show()\";\n",
       "                var nbb_cells = Jupyter.notebook.get_cells();\n",
       "                for (var i = 0; i < nbb_cells.length; ++i) {\n",
       "                    if (nbb_cells[i].input_prompt_number == nbb_cell_id) {\n",
       "                        if (nbb_cells[i].get_text() == nbb_unformatted_code) {\n",
       "                             nbb_cells[i].set_text(nbb_formatted_code);\n",
       "                        }\n",
       "                        break;\n",
       "                    }\n",
       "                }\n",
       "            }, 500);\n",
       "            "
      ],
      "text/plain": [
       "<IPython.core.display.Javascript object>"
      ]
     },
     "metadata": {},
     "output_type": "display_data"
    }
   ],
   "source": [
    "action_x_strategy = vg_00_10[vg_00_10[\"Genre\"].isin([\"Action\", \"Strategy\"])]\n",
    "ax = sns.pointplot(x=\"Genre\", y=\"NA_Sales\", data=action_x_strategy, join=False)\n",
    "ax.set(ylabel=\"NA Sales (Millions of Units)\", title=\"Action x Strategy\")\n",
    "plt.show()"
   ]
  },
  {
   "cell_type": "code",
   "execution_count": 34,
   "metadata": {},
   "outputs": [
    {
     "data": {
      "image/png": "[encoded data removed]",
      "text/plain": [
       "<Figure size 432x288 with 1 Axes>"
      ]
     },
     "metadata": {
      "needs_background": "light"
     },
     "output_type": "display_data"
    },
    {
     "data": {
      "application/javascript": [
       "\n",
       "            setTimeout(function() {\n",
       "                var nbb_cell_id = 34;\n",
       "                var nbb_unformatted_code = \"# pair plot for fighting and platforming games\\nfighting_x_platform = vg_00_10[vg_00_10[\\\"Genre\\\"].isin([\\\"Fighting\\\", \\\"Platform\\\"])]\\nax = sns.pointplot(x=\\\"Genre\\\", y=\\\"NA_Sales\\\", data=fighting_x_platform, join=False)\\nax.set(ylabel=\\\"NA Sales (Millions of Units)\\\", title=\\\"Fighting x Platform\\\")\\nplt.show()\";\n",
       "                var nbb_formatted_code = \"# pair plot for fighting and platforming games\\nfighting_x_platform = vg_00_10[vg_00_10[\\\"Genre\\\"].isin([\\\"Fighting\\\", \\\"Platform\\\"])]\\nax = sns.pointplot(x=\\\"Genre\\\", y=\\\"NA_Sales\\\", data=fighting_x_platform, join=False)\\nax.set(ylabel=\\\"NA Sales (Millions of Units)\\\", title=\\\"Fighting x Platform\\\")\\nplt.show()\";\n",
       "                var nbb_cells = Jupyter.notebook.get_cells();\n",
       "                for (var i = 0; i < nbb_cells.length; ++i) {\n",
       "                    if (nbb_cells[i].input_prompt_number == nbb_cell_id) {\n",
       "                        if (nbb_cells[i].get_text() == nbb_unformatted_code) {\n",
       "                             nbb_cells[i].set_text(nbb_formatted_code);\n",
       "                        }\n",
       "                        break;\n",
       "                    }\n",
       "                }\n",
       "            }, 500);\n",
       "            "
      ],
      "text/plain": [
       "<IPython.core.display.Javascript object>"
      ]
     },
     "metadata": {},
     "output_type": "display_data"
    }
   ],
   "source": [
    "# pair plot for fighting and platforming games\n",
    "fighting_x_platform = vg_00_10[vg_00_10[\"Genre\"].isin([\"Fighting\", \"Platform\"])]\n",
    "ax = sns.pointplot(x=\"Genre\", y=\"NA_Sales\", data=fighting_x_platform, join=False)\n",
    "ax.set(ylabel=\"NA Sales (Millions of Units)\", title=\"Fighting x Platform\")\n",
    "plt.show()"
   ]
  },
  {
   "cell_type": "markdown",
   "metadata": {},
   "source": [
    "### Results and Conslusions\n",
    "\n",
    "The distributions for the sales by genres were all heavily skewed, but at least one had a significantly different median than the others. The post hoc testing showed a significant difference between action and shooter games. It was expected that these two genres would sell similarly, since both have similar elements of high energy and violence. The difference may that shooters appeal to more competitve, skill based gamers, while action games appeal to people wanted a fast paced but character driven experience. Shooters outperformed action games. \n",
    "\n",
    "There were also significant differences in the medians for role-playing games compared to shooter games, and in the medians action games compared to strategy games. These differences were to be expected, since these two pairs compare a fast-paced violent genre to a slower, more intellectual genre. What was unexpected was there was no significant difference in the means of fighting and platform games. Since platforming games, like the Mario franchise, are less violent and competitve than fighting games like Mortal Combat, it was expected the fighting games would sell more, for same speculated reasons that shooters and action games outperformed the slower genres they were compared to. Upon further consideration, both platforming and fighting games focus on speed and knowledge of the levels (for platformers) or playable character (for fighting games). At the same time, both appeal to wide audiences as games with low barriers of entry. The Mario franchise is ubiqutious, and fighting games are easy to boot-up and start a match. \n",
    "\n",
    "The common language effect size for the three significantly different pairs compared were all about 0.55, meaning that a game chosen at random from one genre that sold better than other was not much better than chance. Genre likely does not have a large impact on well a game sells. "
   ]
  },
  {
   "cell_type": "markdown",
   "metadata": {},
   "source": [
    "### Limitations and Future Analysis\n",
    "\n",
    "An important feature of this data is that most entries barely made the list for sales. The raw data had values of zero sales in North America up until the 50th percentile, where the value was 0.08 million units. This makes sense, as the barrier for entry into gaming is incredibly small. Any one with a little coding and art skills can make and publish a game. Likewise, most of the games made are going to reach a very small, incidental audience. The games that sold the best also benefit from name recognition, and the backing of large publishing studios. A future analysis focusing on independently published games would inform us about how smaller budget games sell while discounting unlovingly made cash-grab titles by bigger publishers. Similarly, the big-budget games can be analyzed on their own to see how to large titles compare to each other. The marketing budget for a game would correlate with the prominence of the publishing studio, and is an important feature to consider when the sale of any product is being analyzed.\n",
    "\n",
    "Future analysis would also benefit from a greater variety of descriptive features. Features such as colorfulness, accessibility, speed of play, and length of game are just some examples that might influence someone's decision to purchase. These potential features may also better quanitfy why some games sold better while transcending the sometimes arbitrary idea of genre. "
   ]
  },
  {
   "cell_type": "code",
   "execution_count": null,
   "metadata": {},
   "outputs": [],
   "source": []
  }
 ],
 "metadata": {
  "kernelspec": {
   "display_name": "Python 3",
   "language": "python",
   "name": "python3"
  },
  "language_info": {
   "codemirror_mode": {
    "name": "ipython",
    "version": 3
   },
   "file_extension": ".py",
   "mimetype": "text/x-python",
   "name": "python",
   "nbconvert_exporter": "python",
   "pygments_lexer": "ipython3",
   "version": "3.7.6"
  }
 },
 "nbformat": 4,
 "nbformat_minor": 4
}
